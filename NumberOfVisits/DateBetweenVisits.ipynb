{
 "cells": [
  {
   "cell_type": "markdown",
   "metadata": {},
   "source": [
    "# time between two visits\n",
    "Here I'll just grab a single point in the sky and look at what some possible light curves could look like. This could be handy if one wanted to test and refine some algorithms for deciding how good a light curve is."
   ]
  },
  {
   "cell_type": "code",
   "execution_count": 47,
   "metadata": {},
   "outputs": [],
   "source": [
    "from __future__ import print_function\n",
    "%matplotlib inline\n",
    "import numpy as np\n",
    "import matplotlib.pyplot as plt\n",
    "import healpy as hp\n",
    "\n",
    "import lsst.sims.maf.db as db\n",
    "import lsst.sims.maf.utils as utils\n",
    "import lsst.sims.maf.metrics as metrics\n",
    "import lsst.sims.maf.slicers as slicers\n",
    "import lsst.sims.maf.stackers as stackers\n",
    "import lsst.sims.maf.metricBundles as metricBundles"
   ]
  },
  {
   "cell_type": "code",
   "execution_count": 48,
   "metadata": {},
   "outputs": [
    {
     "name": "stdout",
     "output_type": "stream",
     "text": [
      "['/Users/dagoret/MacOSX/GitHub/LSST/MyCadence/NumberOfVisits', '/cvmfs/sw.lsst.eu/darwin-x86_64/lsst_sims/sims_w_2020_31/stack/miniconda3-py37_4.8.2-1a1d771/DarwinX86/obs_lsst/19.0.0-80-g0bd2bb3+1/python', '/cvmfs/sw.lsst.eu/darwin-x86_64/lsst_sims/sims_w_2020_31/stack/miniconda3-py37_4.8.2-1a1d771/DarwinX86/ts_dateloc/master-g60a36c8d46+46/python', '/cvmfs/sw.lsst.eu/darwin-x86_64/lsst_sims/sims_w_2020_31/stack/miniconda3-py37_4.8.2-1a1d771/DarwinX86/ts_observatory_model/master-g3d307a5f45+46/python', '/cvmfs/sw.lsst.eu/darwin-x86_64/lsst_sims/sims_w_2020_31/stack/miniconda3-py37_4.8.2-1a1d771/DarwinX86/sims_almanac/master-g021b69e146+1/python', '/cvmfs/sw.lsst.eu/darwin-x86_64/lsst_sims/sims_w_2020_31/stack/miniconda3-py37_4.8.2-1a1d771/DarwinX86/sims_downtimeModel/master-g55f72efa65+17/python', '/cvmfs/sw.lsst.eu/darwin-x86_64/lsst_sims/sims_w_2020_31/stack/miniconda3-py37_4.8.2-1a1d771/DarwinX86/sims_cloudModel/master-ge3724df529+19/python', '/cvmfs/sw.lsst.eu/darwin-x86_64/lsst_sims/sims_w_2020_31/stack/miniconda3-py37_4.8.2-1a1d771/DarwinX86/sims_seeingModel/master-ga4bf72ea44+19/python', '/cvmfs/sw.lsst.eu/darwin-x86_64/lsst_sims/sims_w_2020_31/stack/miniconda3-py37_4.8.2-1a1d771/DarwinX86/sims_featureScheduler/master-g4c00c3cbe1/python', '/cvmfs/sw.lsst.eu/darwin-x86_64/lsst_sims/sims_w_2020_31/stack/miniconda3-py37_4.8.2-1a1d771/DarwinX86/sims_skybrightness_pre/2.13.0.sims-10-g460c1a4+5/python', '/cvmfs/sw.lsst.eu/darwin-x86_64/lsst_sims/sims_w_2020_31/stack/miniconda3-py37_4.8.2-1a1d771/DarwinX86/sims_skybrightness_data/2017.05.05-1-g01a98f8/python', '/cvmfs/sw.lsst.eu/darwin-x86_64/lsst_sims/sims_w_2020_31/stack/miniconda3-py37_4.8.2-1a1d771/DarwinX86/sims_skybrightness/2.13.0.sims-3-ge89ab89+5/python', '/cvmfs/sw.lsst.eu/darwin-x86_64/lsst_sims/sims_w_2020_31/stack/miniconda3-py37_4.8.2-1a1d771/DarwinX86/astropy_helpers/3.0.2.lsst-1-g9c76ab2/lib/python', '/cvmfs/sw.lsst.eu/darwin-x86_64/lsst_sims/sims_w_2020_31/stack/miniconda3-py37_4.8.2-1a1d771/DarwinX86/astropy_helpers/3.0.2.lsst-1-g9c76ab2', '/cvmfs/sw.lsst.eu/darwin-x86_64/lsst_sims/sims_w_2020_31/stack/miniconda3-py37_4.8.2-1a1d771/DarwinX86/sncosmo/1.3.0.lsst2-2-gd11e578/lib/python', '/cvmfs/sw.lsst.eu/darwin-x86_64/lsst_sims/sims_w_2020_31/stack/miniconda3-py37_4.8.2-1a1d771/DarwinX86/sims_catUtils/2.13.0.sims-11-gdaeeefda+5/python', '/cvmfs/sw.lsst.eu/darwin-x86_64/lsst_sims/sims_w_2020_31/stack/miniconda3-py37_4.8.2-1a1d771/DarwinX86/sims_GalSimInterface/2.13.0.sims-14-g29b6feb+10/python', '/cvmfs/sw.lsst.eu/darwin-x86_64/lsst_sims/sims_w_2020_31/stack/miniconda3-py37_4.8.2-1a1d771/DarwinX86/sims_survey_fields/2.13.0.sims-1-g3f5255d+5/python', '/cvmfs/sw.lsst.eu/darwin-x86_64/lsst_sims/sims_w_2020_31/stack/miniconda3-py37_4.8.2-1a1d771/DarwinX86/verify_metrics/20.0.0-2-g5e4bddd/python', '/cvmfs/sw.lsst.eu/darwin-x86_64/lsst_sims/sims_w_2020_31/stack/miniconda3-py37_4.8.2-1a1d771/DarwinX86/dax_apdb/20.0.0-1-g253301a+6/python', '/cvmfs/sw.lsst.eu/darwin-x86_64/lsst_sims/sims_w_2020_31/stack/miniconda3-py37_4.8.2-1a1d771/DarwinX86/verify/20.0.0-1-g44bc195+21/python', '/cvmfs/sw.lsst.eu/darwin-x86_64/lsst_sims/sims_w_2020_31/stack/miniconda3-py37_4.8.2-1a1d771/DarwinX86/ip_diffim/20.0.0-1-g596936a+27/python', '/cvmfs/sw.lsst.eu/darwin-x86_64/lsst_sims/sims_w_2020_31/stack/miniconda3-py37_4.8.2-1a1d771/DarwinX86/meas_deblender/20.0.0+29/python', '/cvmfs/sw.lsst.eu/darwin-x86_64/lsst_sims/sims_w_2020_31/stack/miniconda3-py37_4.8.2-1a1d771/DarwinX86/meas_astrom/20.0.0-1-gc96f8cb+28/python', '/cvmfs/sw.lsst.eu/darwin-x86_64/lsst_sims/sims_w_2020_31/stack/miniconda3-py37_4.8.2-1a1d771/DarwinX86/proxmin/lsst-dev-g79c0498783/lib/python', '/cvmfs/sw.lsst.eu/darwin-x86_64/lsst_sims/sims_w_2020_31/stack/miniconda3-py37_4.8.2-1a1d771/DarwinX86/scarlet/lsst-dev-g2f5a530ca1/lib/python', '/cvmfs/sw.lsst.eu/darwin-x86_64/lsst_sims/sims_w_2020_31/stack/miniconda3-py37_4.8.2-1a1d771/DarwinX86/meas_extensions_scarlet/20.0.0+30/python', '/cvmfs/sw.lsst.eu/darwin-x86_64/lsst_sims/sims_w_2020_31/stack/miniconda3-py37_4.8.2-1a1d771/DarwinX86/pipe_tasks/20.0.0-13-g198ee8df+1/python', '/cvmfs/sw.lsst.eu/darwin-x86_64/lsst_sims/sims_w_2020_31/stack/miniconda3-py37_4.8.2-1a1d771/DarwinX86/ip_isr/20.0.0-6-g9bcb941+4/python', '/cvmfs/sw.lsst.eu/darwin-x86_64/lsst_sims/sims_w_2020_31/stack/miniconda3-py37_4.8.2-1a1d771/DarwinX86/obs_test/20.0.0+29/python', '/cvmfs/sw.lsst.eu/darwin-x86_64/lsst_sims/sims_w_2020_31/stack/miniconda3-py37_4.8.2-1a1d771/DarwinX86/coadd_utils/20.0.0+22/python', '/cvmfs/sw.lsst.eu/darwin-x86_64/lsst_sims/sims_w_2020_31/stack/miniconda3-py37_4.8.2-1a1d771/DarwinX86/meas_base/20.0.0+22/python', '/cvmfs/sw.lsst.eu/darwin-x86_64/lsst_sims/sims_w_2020_31/stack/miniconda3-py37_4.8.2-1a1d771/DarwinX86/meas_algorithms/20.0.0-5-gc4485221+2/python', '/cvmfs/sw.lsst.eu/darwin-x86_64/lsst_sims/sims_w_2020_31/stack/miniconda3-py37_4.8.2-1a1d771/DarwinX86/skymap/20.0.0-1-gdb27ee5+6/python', '/cvmfs/sw.lsst.eu/darwin-x86_64/lsst_sims/sims_w_2020_31/stack/miniconda3-py37_4.8.2-1a1d771/DarwinX86/pipe_base/20.0.0-7-gb92c176+1/python', '/cvmfs/sw.lsst.eu/darwin-x86_64/lsst_sims/sims_w_2020_31/stack/miniconda3-py37_4.8.2-1a1d771/DarwinX86/daf_butler/19.0.0-127-g9fffe91a/python', '/cvmfs/sw.lsst.eu/darwin-x86_64/lsst_sims/sims_w_2020_31/stack/miniconda3-py37_4.8.2-1a1d771/DarwinX86/astro_metadata_translator/0.1.0-12-g03ebef7+10/python', '/cvmfs/sw.lsst.eu/darwin-x86_64/lsst_sims/sims_w_2020_31/stack/miniconda3-py37_4.8.2-1a1d771/DarwinX86/obs_base/20.0.0-24-g0eb5a41+1/python', '/cvmfs/sw.lsst.eu/darwin-x86_64/lsst_sims/sims_w_2020_31/stack/miniconda3-py37_4.8.2-1a1d771/DarwinX86/obs_lsstSim/19.0.0-4-g5b43909+17/python', '/cvmfs/sw.lsst.eu/darwin-x86_64/lsst_sims/sims_w_2020_31/stack/miniconda3-py37_4.8.2-1a1d771/DarwinX86/astshim/20.0.0+1/python', '/cvmfs/sw.lsst.eu/darwin-x86_64/lsst_sims/sims_w_2020_31/stack/miniconda3-py37_4.8.2-1a1d771/DarwinX86/pex_config/20.0.0+4/python', '/cvmfs/sw.lsst.eu/darwin-x86_64/lsst_sims/sims_w_2020_31/stack/miniconda3-py37_4.8.2-1a1d771/DarwinX86/afw/20.0.0-4-gde602ef96+5/python', '/cvmfs/sw.lsst.eu/darwin-x86_64/lsst_sims/sims_w_2020_31/stack/miniconda3-py37_4.8.2-1a1d771/DarwinX86/sphgeom/20.0.0-3-gd2e950e/python', '/cvmfs/sw.lsst.eu/darwin-x86_64/lsst_sims/sims_w_2020_31/stack/miniconda3-py37_4.8.2-1a1d771/DarwinX86/geom/20.0.0-2-gec03fae+4/python', '/cvmfs/sw.lsst.eu/darwin-x86_64/lsst_sims/sims_w_2020_31/stack/miniconda3-py37_4.8.2-1a1d771/DarwinX86/sims_coordUtils/2.13.0.sims-5-gac68177+10/python', '/cvmfs/sw.lsst.eu/darwin-x86_64/lsst_sims/sims_w_2020_31/stack/miniconda3-py37_4.8.2-1a1d771/DarwinX86/sims_photUtils/2.13.0.sims-3-g5572953+5/python', '/cvmfs/sw.lsst.eu/darwin-x86_64/lsst_sims/sims_w_2020_31/stack/miniconda3-py37_4.8.2-1a1d771/DarwinX86/pymssql/2.1.1-1-gb0e77e5/lib/python', '/cvmfs/sw.lsst.eu/darwin-x86_64/lsst_sims/sims_w_2020_31/stack/miniconda3-py37_4.8.2-1a1d771/DarwinX86/daf_base/20.0.0-1-g8a53f90+2/python', '/cvmfs/sw.lsst.eu/darwin-x86_64/lsst_sims/sims_w_2020_31/stack/miniconda3-py37_4.8.2-1a1d771/DarwinX86/pex_policy/20.0.0+4/python', '/cvmfs/sw.lsst.eu/darwin-x86_64/lsst_sims/sims_w_2020_31/stack/miniconda3-py37_4.8.2-1a1d771/DarwinX86/log/20.0.0-1-gd1c87d7+2/python', '/cvmfs/sw.lsst.eu/darwin-x86_64/lsst_sims/sims_w_2020_31/stack/miniconda3-py37_4.8.2-1a1d771/DarwinX86/daf_persistence/20.0.0+5/python', '/cvmfs/sw.lsst.eu/darwin-x86_64/lsst_sims/sims_w_2020_31/stack/miniconda3-py37_4.8.2-1a1d771/DarwinX86/sims_catalogs/2.13.0.sims-6-g00a9e00+7/python', '/cvmfs/sw.lsst.eu/darwin-x86_64/lsst_sims/sims_w_2020_31/stack/miniconda3-py37_4.8.2-1a1d771/DarwinX86/pex_exceptions/20.0.0+3/python', '/cvmfs/sw.lsst.eu/darwin-x86_64/lsst_sims/sims_w_2020_31/stack/miniconda3-py37_4.8.2-1a1d771/DarwinX86/utils/20.0.0+3/python', '/cvmfs/sw.lsst.eu/darwin-x86_64/lsst_sims/sims_w_2020_31/stack/miniconda3-py37_4.8.2-1a1d771/DarwinX86/sims_utils/2.13.0.sims-43-g0b90c3c+5/python', '/cvmfs/sw.lsst.eu/darwin-x86_64/lsst_sims/sims_w_2020_31/stack/miniconda3-py37_4.8.2-1a1d771/DarwinX86/palpy/1.8.1-1-ga780397/lib/python', '/cvmfs/sw.lsst.eu/darwin-x86_64/lsst_sims/sims_w_2020_31/stack/miniconda3-py37_4.8.2-1a1d771/DarwinX86/ephem/3.7.6.0-1-g6182364/lib/python', '/cvmfs/sw.lsst.eu/darwin-x86_64/lsst_sims/sims_w_2020_31/stack/miniconda3-py37_4.8.2-1a1d771/DarwinX86/sconsUtils/20.0.0-1-gc4fbba5/python', '/cvmfs/sw.lsst.eu/darwin-x86_64/lsst_sims/sims_w_2020_31/stack/miniconda3-py37_4.8.2-1a1d771/DarwinX86/base/20.0.0-4-g4a2362f/python', '/cvmfs/sw.lsst.eu/darwin-x86_64/lsst_sims/sims_w_2020_31/stack/miniconda3-py37_4.8.2-1a1d771/DarwinX86/sims_maf/2.13.0.sims-59-g0a27faef/python', '/cvmfs/sw.lsst.eu/darwin-x86_64/lsst_sims/sims_w_2020_31/eups/2.1.5/python', '/cvmfs/sw.lsst.eu/darwin-x86_64/lsst_sims/sims_w_2020_31/stack/miniconda3-py37_4.8.2-1a1d771/DarwinX86/astropy_helpers/3.0.2.lsst-1-g9c76ab2/lib/python/astropy_helpers-3.0.2-py3.7.egg', '/cvmfs/sw.lsst.eu/darwin-x86_64/lsst_sims/sims_w_2020_31/stack/miniconda3-py37_4.8.2-1a1d771/DarwinX86/sncosmo/1.3.0.lsst2-2-gd11e578/lib/python/sncosmo-2.1.0-py3.7-macosx-10.9-x86_64.egg', '/cvmfs/sw.lsst.eu/darwin-x86_64/lsst_sims/sims_w_2020_31/stack/miniconda3-py37_4.8.2-1a1d771/DarwinX86/sncosmo/1.3.0.lsst2-2-gd11e578/lib/python/extinction-0.4.5-py3.7-macosx-10.9-x86_64.egg', '/cvmfs/sw.lsst.eu/darwin-x86_64/lsst_sims/sims_w_2020_31/stack/miniconda3-py37_4.8.2-1a1d771/DarwinX86/pymssql/2.1.1-1-gb0e77e5/lib/python/pymssql-2.1.1-py3.7-macosx-10.9-x86_64.egg', '/cvmfs/sw.lsst.eu/darwin-x86_64/lsst_sims/sims_w_2020_31/conda/miniconda3-py37_4.8.2/envs/lsst-scipipe-1a1d771/lib/python37.zip', '/cvmfs/sw.lsst.eu/darwin-x86_64/lsst_sims/sims_w_2020_31/conda/miniconda3-py37_4.8.2/envs/lsst-scipipe-1a1d771/lib/python3.7', '/cvmfs/sw.lsst.eu/darwin-x86_64/lsst_sims/sims_w_2020_31/conda/miniconda3-py37_4.8.2/envs/lsst-scipipe-1a1d771/lib/python3.7/lib-dynload', '', '/Users/dagoret/.local/lib/python3.7/site-packages', '/cvmfs/sw.lsst.eu/darwin-x86_64/lsst_sims/sims_w_2020_31/conda/miniconda3-py37_4.8.2/envs/lsst-scipipe-1a1d771/lib/python3.7/site-packages', '/cvmfs/sw.lsst.eu/darwin-x86_64/lsst_sims/sims_w_2020_31/stack/miniconda3-py37_4.8.2-1a1d771/DarwinX86/sims_skybrightness_data/2017.05.05-1-g01a98f8/python', '/cvmfs/sw.lsst.eu/darwin-x86_64/lsst_sims/sims_w_2020_31/conda/miniconda3-py37_4.8.2/envs/lsst-scipipe-1a1d771/lib/python3.7/site-packages/IPython/extensions', '/Users/dagoret/.ipython', '/Users/dagoret/anaconda3/lib/python37.zip', '/Users/dagoret/anaconda3/lib/python3.7', '/Users/dagoret/anaconda3/lib/python3.7/lib-dynload', '', '/Users/dagoret/.local/lib/python3.7/site-packages', '/Users/dagoret/anaconda3/lib/python3.7/site-packages', '/Users/dagoret/anaconda3/lib/python3.7/site-packages/aeosa', '/Users/dagoret/anaconda3/lib/python3.7/site-packages/IPython/extensions', '/Users/dagoret/.ipython']\n"
     ]
    }
   ],
   "source": [
    "import sys\n",
    "print(sys.path)"
   ]
  },
  {
   "cell_type": "code",
   "execution_count": 49,
   "metadata": {},
   "outputs": [],
   "source": [
    "otherpythonpaths=['/Users/dagoret/anaconda3/lib/python37.zip', '/Users/dagoret/anaconda3/lib/python3.7', '/Users/dagoret/anaconda3/lib/python3.7/lib-dynload', '', '/Users/dagoret/.local/lib/python3.7/site-packages', '/Users/dagoret/anaconda3/lib/python3.7/site-packages', '/Users/dagoret/anaconda3/lib/python3.7/site-packages/aeosa', '/Users/dagoret/anaconda3/lib/python3.7/site-packages/IPython/extensions', '/Users/dagoret/.ipython']"
   ]
  },
  {
   "cell_type": "code",
   "execution_count": 50,
   "metadata": {},
   "outputs": [],
   "source": [
    "for thepath in otherpythonpaths:\n",
    "    sys.path.append(thepath) # go to parent dir"
   ]
  },
  {
   "cell_type": "markdown",
   "metadata": {},
   "source": [
    "# LMC"
   ]
  },
  {
   "cell_type": "code",
   "execution_count": 51,
   "metadata": {},
   "outputs": [],
   "source": [
    "import astroquery\n",
    "from astropy.coordinates import SkyCoord\n",
    "from astropy.coordinates import Angle"
   ]
  },
  {
   "cell_type": "code",
   "execution_count": 52,
   "metadata": {},
   "outputs": [
    {
     "name": "stdout",
     "output_type": "stream",
     "text": [
      "MAIN_ID      RA        DEC    ... COO_QUAL COO_WAVELENGTH     COO_BIBCODE    \n",
      "          \"h:m:s\"    \"d:m:s\"  ...                                            \n",
      "-------- ---------- --------- ... -------- -------------- -------------------\n",
      "NAME LMC 05 23 34.6 -69 45 22 ...        D              O 2003A&A...412...45P\n"
     ]
    }
   ],
   "source": [
    "from astroquery.simbad import Simbad\n",
    "result_table = Simbad.query_object(\"LMC\")\n",
    "result_table.pprint(show_unit=True)\n"
   ]
  },
  {
   "cell_type": "code",
   "execution_count": 53,
   "metadata": {},
   "outputs": [
    {
     "data": {
      "text/plain": [
       "80.89416666666666"
      ]
     },
     "execution_count": 53,
     "metadata": {},
     "output_type": "execute_result"
    }
   ],
   "source": [
    "the_ra=Angle(result_table[\"RA\"][0]+\" hour\").degree\n",
    "the_ra"
   ]
  },
  {
   "cell_type": "code",
   "execution_count": 54,
   "metadata": {},
   "outputs": [
    {
     "data": {
      "text/plain": [
       "-69.75611111111111"
      ]
     },
     "execution_count": 54,
     "metadata": {},
     "output_type": "execute_result"
    }
   ],
   "source": [
    "the_dec=Angle(result_table[\"DEC\"][0]+\" degrees\").degree\n",
    "the_dec"
   ]
  },
  {
   "cell_type": "code",
   "execution_count": 55,
   "metadata": {},
   "outputs": [
    {
     "data": {
      "text/plain": [
       "<SkyCoord (ICRS): (ra, dec) in deg\n",
       "    (80.89416667, -69.75611111)>"
      ]
     },
     "execution_count": 55,
     "metadata": {},
     "output_type": "execute_result"
    }
   ],
   "source": [
    "SkyCoord(ra=result_table[\"RA\"][0]+\" hour\",dec=result_table[\"DEC\"][0]+ \" degrees\")"
   ]
  },
  {
   "cell_type": "markdown",
   "metadata": {},
   "source": [
    "# MAF"
   ]
  },
  {
   "cell_type": "code",
   "execution_count": 56,
   "metadata": {},
   "outputs": [],
   "source": [
    "outDir ='LightCurve'\n",
    "dbFile = '/users/dagoret/DATA/Cadence/baseline2018a.db'\n",
    "opsimdb = db.OpsimDatabase(dbFile)\n",
    "resultsDb = db.ResultsDb(outDir=outDir)"
   ]
  },
  {
   "cell_type": "code",
   "execution_count": 57,
   "metadata": {},
   "outputs": [],
   "source": [
    "filters = np.array(['u', 'g', 'r', 'i', 'z', 'y'])\n",
    "colors = {'u': 'cyan', 'g': 'g', 'r': 'y',\n",
    "          'i': 'r', 'z': 'm', 'y': 'k'}"
   ]
  },
  {
   "cell_type": "markdown",
   "metadata": {},
   "source": [
    "**Parameters to set**"
   ]
  },
  {
   "cell_type": "code",
   "execution_count": 58,
   "metadata": {},
   "outputs": [],
   "source": [
    "# Set RA, Dec for a single point in the sky.\n",
    "# The input ra/dec values should be in DEGREES (even for v3 databases).\n",
    "ra = [the_ra]\n",
    "dec = [the_dec]\n",
    "# SNR limit (Don't use points below this limit)\n",
    "snrLimit = 5.\n",
    "# Demand this many points above SNR limit before plotting LC\n",
    "nPtsLimit = 6\n",
    "\n",
    "mjdcol = 'observationStartMJD'\n",
    "degrees = True"
   ]
  },
  {
   "cell_type": "code",
   "execution_count": 59,
   "metadata": {},
   "outputs": [
    {
     "name": "stdout",
     "output_type": "stream",
     "text": [
      "{'fieldDec', 'fiveSigmaDepth', 'observationStartMJD', 'filter', 'fieldRA'}\n"
     ]
    }
   ],
   "source": [
    "# The pass metric just passes data straight through.\n",
    "metric = metrics.PassMetric(cols=['filter', 'fiveSigmaDepth', mjdcol])\n",
    "slicer = slicers.UserPointsSlicer(\n",
    "    ra, dec, lonCol='fieldRA', latCol='fieldDec', latLonDeg=degrees)\n",
    "sql = ''  # 'night < 365'\n",
    "bundle = metricBundles.MetricBundle(metric, slicer, sql)\n",
    "# In case you are using a dither stacker, we can check what columns are \n",
    "# actually being pulled from the database.\n",
    "print(bundle.dbCols)"
   ]
  },
  {
   "cell_type": "code",
   "execution_count": 60,
   "metadata": {},
   "outputs": [
    {
     "name": "stdout",
     "output_type": "stream",
     "text": [
      "Querying database SummaryAllProps with no constraint for columns ['fieldDec', 'fiveSigmaDepth', 'observationStartMJD', 'filter', 'fieldRA'].\n",
      "Found 2372700 visits\n",
      "Running:  [0]\n",
      "Completed metric generation.\n",
      "Running reduce methods.\n",
      "Running summary statistics.\n",
      "Completed.\n"
     ]
    }
   ],
   "source": [
    "bg = metricBundles.MetricBundleGroup(\n",
    "    {0: bundle}, opsimdb, outDir=outDir, resultsDb=resultsDb)\n",
    "bg.runAll()"
   ]
  },
  {
   "cell_type": "code",
   "execution_count": 61,
   "metadata": {},
   "outputs": [
    {
     "name": "stdout",
     "output_type": "stream",
     "text": [
      "('fieldDec', 'fiveSigmaDepth', 'observationStartMJD', 'filter', 'fieldRA')\n",
      "[(-70.757749, 23.68267807, 60652.23193287, 'i', 81.777206)\n",
      " (-70.757749, 21.94446912, 60278.19267361, 'y', 81.777206)\n",
      " (-70.757749, 24.05211363, 62479.14996528, 'r', 81.777206)\n",
      " (-70.757749, 21.43089213, 61365.26347222, 'y', 81.777206)\n",
      " (-70.757749, 23.56502192, 61329.36657407, 'i', 81.777206)\n",
      " (-70.757749, 22.95366249, 61351.28055556, 'u', 81.777206)\n",
      " (-70.757749, 22.71710547, 62828.26663194, 'u', 81.777206)\n",
      " (-70.757749, 23.37414807, 63222.18340278, 'i', 81.777206)\n",
      " (-70.757749, 23.0648209 , 61803.055     , 'z', 81.777206)\n",
      " (-70.757749, 23.62662168, 62890.0709838 , 'i', 81.777206)]\n",
      "['i' 'y' 'r' 'y' 'i' 'u' 'u' 'i' 'z' 'i']\n"
     ]
    }
   ],
   "source": [
    "# Let's see what the \"pass\" metric provided, \n",
    "# looking at the first slicepoint (i.e. our ra/dec value).\n",
    "print(bundle.metricValues.data[0].dtype.names)\n",
    "# And look at some of the values.\n",
    "print(bundle.metricValues.data[0][0:10])\n",
    "# Another way to access just the filter information..\n",
    "print(bundle.metricValues.data[0]['filter'][0:10])"
   ]
  },
  {
   "cell_type": "code",
   "execution_count": 62,
   "metadata": {},
   "outputs": [
    {
     "data": {
      "text/plain": [
       "Text(0.5, 1.0, 'LMC : Magnitude limit at 5$\\\\sigma$')"
      ]
     },
     "execution_count": 62,
     "metadata": {},
     "output_type": "execute_result"
    },
    {
     "data": {
      "image/png": "[encoded data removed]",
      "text/plain": [
       "<Figure size 1152x360 with 1 Axes>"
      ]
     },
     "metadata": {
      "needs_background": "light"
     },
     "output_type": "display_data"
    }
   ],
   "source": [
    "# Let's plot the time and m5 depth of these visits.\n",
    "plt.figure(figsize=(16,5))\n",
    "dayZero = bundle.metricValues.data[0][mjdcol].min()\n",
    "for fname in filters:\n",
    "    good = np.where(bundle.metricValues.data[0]['filter'] == fname)\n",
    "    plt.scatter(bundle.metricValues.data[0][mjdcol][good]- dayZero, \n",
    "                bundle.metricValues.data[0]['fiveSigmaDepth'][good],\n",
    "                c = colors[fname], label=fname)\n",
    "plt.xlabel('Day')\n",
    "plt.ylabel('5$\\sigma$ depth')\n",
    "plt.legend(scatterpoints=1, loc=\"upper left\", bbox_to_anchor=(1,1))\n",
    "plt.grid()\n",
    "plt.title(\"LMC : Magnitude limit at 5$\\sigma$\")"
   ]
  },
  {
   "cell_type": "code",
   "execution_count": 63,
   "metadata": {},
   "outputs": [
    {
     "name": "stdout",
     "output_type": "stream",
     "text": [
      "151 Observations total at this point (All SNR levels)\n",
      "25 Observations in u\n",
      "23 Observations in g\n",
      "26 Observations in r\n",
      "24 Observations in i\n",
      "26 Observations in z\n",
      "27 Observations in y\n"
     ]
    }
   ],
   "source": [
    "# Count up observations per filter.\n",
    "print('%i Observations total at this point (All SNR levels)' % (\n",
    "    bundle.metricValues.data[0].size))\n",
    "for fname in filters:\n",
    "    good = np.where(bundle.metricValues.data[0]['filter'] == fname)\n",
    "    print('%i Observations in %s' % (good[0].size, fname))"
   ]
  },
  {
   "cell_type": "code",
   "execution_count": 64,
   "metadata": {
    "scrolled": false
   },
   "outputs": [
    {
     "data": {
      "text/plain": [
       "array([(-70.757749, 23.68267807, 60652.23193287, 'i', 81.777206),\n",
       "       (-70.757749, 21.94446912, 60278.19267361, 'y', 81.777206),\n",
       "       (-70.757749, 24.05211363, 62479.14996528, 'r', 81.777206),\n",
       "       (-70.757749, 21.43089213, 61365.26347222, 'y', 81.777206),\n",
       "       (-70.757749, 23.56502192, 61329.36657407, 'i', 81.777206),\n",
       "       (-70.757749, 22.95366249, 61351.28055556, 'u', 81.777206),\n",
       "       (-70.757749, 22.71710547, 62828.26663194, 'u', 81.777206),\n",
       "       (-70.757749, 23.37414807, 63222.18340278, 'i', 81.777206),\n",
       "       (-70.757749, 23.0648209 , 61803.055     , 'z', 81.777206),\n",
       "       (-70.757749, 23.62662168, 62890.0709838 , 'i', 81.777206),\n",
       "       (-70.757749, 22.42907492, 61426.15141204, 'z', 81.777206),\n",
       "       (-70.757749, 24.48222808, 62802.30453704, 'r', 81.777206),\n",
       "       (-70.757749, 23.00356377, 62133.11949074, 'z', 81.777206),\n",
       "       (-70.757749, 22.69961876, 62461.26525463, 'z', 81.777206),\n",
       "       (-70.757749, 24.33502809, 61358.29363426, 'r', 81.777206),\n",
       "       (-70.757749, 23.25088053, 61006.17958333, 'i', 81.777206),\n",
       "       (-70.757749, 23.30586199, 63241.13637731, 'u', 81.777206),\n",
       "       (-70.757749, 23.03621599, 60643.21625   , 'u', 81.777206),\n",
       "       (-70.757749, 23.64081375, 60222.38239583, 'r', 81.777206),\n",
       "       (-70.757749, 21.84720626, 60600.30167824, 'y', 81.777206),\n",
       "       (-70.757749, 23.48214095, 61771.14461806, 'i', 81.777206),\n",
       "       (-70.757749, 24.04838521, 63182.27996528, 'g', 81.777206),\n",
       "       (-70.757749, 24.54606957, 60965.32388889, 'g', 81.777206),\n",
       "       (-70.757749, 21.71315429, 62464.23550926, 'y', 81.777206),\n",
       "       (-70.757749, 22.86810472, 63167.36287037, 'z', 81.777206),\n",
       "       (-70.757749, 21.89553636, 60660.17459491, 'y', 81.777206),\n",
       "       (-70.757749, 24.60516068, 62116.20181713, 'g', 81.777206),\n",
       "       (-70.757749, 23.67126771, 61050.13008102, 'i', 81.777206),\n",
       "       (-70.757749, 21.69428944, 60248.33134259, 'y', 81.777206),\n",
       "       (-70.757749, 23.29474576, 62476.31498843, 'i', 81.777206),\n",
       "       (-70.757749, 24.33886826, 61324.37045139, 'r', 81.777206),\n",
       "       (-70.757749, 23.98334372, 60991.25240741, 'g', 81.777206),\n",
       "       (-70.757749, 24.33964684, 60321.07206019, 'r', 81.777206),\n",
       "       (-70.757749, 23.16582206, 59910.2371875 , 'u', 81.777206),\n",
       "       (-70.757749, 24.4761515 , 61417.10288194, 'g', 81.777206),\n",
       "       (-70.757749, 23.20514022, 59873.35591435, 'u', 81.777206),\n",
       "       (-70.757749, 23.03576674, 60995.25291667, 'u', 81.777206),\n",
       "       (-70.757749, 23.6427446 , 62100.20434028, 'g', 81.777206),\n",
       "       (-70.757749, 22.74629367, 63197.30436343, 'z', 81.777206),\n",
       "       (-70.757749, 21.79524611, 60277.21136574, 'y', 81.777206),\n",
       "       (-70.757749, 23.2662866 , 61786.12984954, 'r', 81.777206),\n",
       "       (-70.757749, 22.60308431, 60326.09408565, 'z', 81.777206),\n",
       "       (-70.757749, 23.88378388, 60592.34960648, 'i', 81.777206),\n",
       "       (-70.757749, 23.37552462, 63500.37355324, 'r', 81.777206),\n",
       "       (-70.757749, 24.24476874, 61322.35472222, 'r', 81.777206),\n",
       "       (-70.757749, 24.10580935, 62180.02961806, 'r', 81.777206),\n",
       "       (-70.757749, 24.16656119, 61743.22810185, 'r', 81.777206),\n",
       "       (-70.757749, 21.86542415, 60575.38980324, 'y', 81.777206),\n",
       "       (-70.757749, 24.83025046, 62113.16259259, 'g', 81.777206),\n",
       "       (-70.757749, 21.77564701, 61726.24209491, 'y', 81.777206),\n",
       "       (-70.757749, 21.85153426, 59892.26760417, 'y', 81.777206),\n",
       "       (-70.757749, 22.02221287, 62051.32364583, 'y', 81.777206),\n",
       "       (-70.757749, 24.51336504, 60265.28456019, 'g', 81.777206),\n",
       "       (-70.757749, 22.94628726, 62413.36290509, 'u', 81.777206),\n",
       "       (-70.757749, 24.20548715, 60997.2731713 , 'g', 81.777206),\n",
       "       (-70.757749, 23.81570219, 59901.24300926, 'r', 81.777206),\n",
       "       (-70.757749, 23.92299011, 62179.0384375 , 'r', 81.777206),\n",
       "       (-70.757749, 23.12033984, 61030.18605324, 'u', 81.777206),\n",
       "       (-70.757749, 22.53590832, 60246.30262731, 'z', 81.777206),\n",
       "       (-70.757749, 23.03130667, 63220.33877315, 'i', 81.777206),\n",
       "       (-70.757749, 21.58014364, 61370.22820602, 'y', 81.777206),\n",
       "       (-70.757749, 21.99407974, 59868.33800926, 'y', 81.777206),\n",
       "       (-70.757749, 24.52132453, 61378.27045139, 'g', 81.777206),\n",
       "       (-70.757749, 23.41038098, 62791.28069444, 'i', 81.777206),\n",
       "       (-70.757749, 23.66046046, 62481.23832176, 'i', 81.777206),\n",
       "       (-70.757749, 22.00924523, 61725.30763889, 'y', 81.777206),\n",
       "       (-70.757749, 22.72932598, 61749.26453704, 'z', 81.777206),\n",
       "       (-70.757749, 21.89463831, 59865.36571759, 'y', 81.777206),\n",
       "       (-70.757749, 22.47676292, 61693.35931713, 'z', 81.777206),\n",
       "       (-70.757749, 23.01672541, 61036.13739583, 'z', 81.777206),\n",
       "       (-70.757749, 22.71277435, 61367.23413194, 'z', 81.777206),\n",
       "       (-70.757749, 22.80637847, 62813.27628472, 'z', 81.777206),\n",
       "       (-70.757749, 23.00341604, 62850.21503472, 'i', 81.777206),\n",
       "       (-70.757749, 22.9853815 , 62797.28846065, 'u', 81.777206),\n",
       "       (-70.757749, 23.87370035, 60696.17603009, 'g', 81.777206),\n",
       "       (-70.757749, 24.13692694, 61736.30135417, 'r', 81.777206),\n",
       "       (-70.757749, 24.35788714, 60964.37105324, 'g', 81.777206),\n",
       "       (-70.757749, 22.95619263, 62221.05180556, 'z', 81.777206),\n",
       "       (-70.757749, 24.40952335, 62540.04834491, 'g', 81.777206),\n",
       "       (-70.757749, 23.2785348 , 61413.11878472, 'u', 81.777206),\n",
       "       (-70.757749, 22.81037617, 63183.30608796, 'u', 81.777206),\n",
       "       (-70.757749, 22.57904584, 60572.38521991, 'z', 81.777206),\n",
       "       (-70.757749, 21.81609695, 63173.29224537, 'y', 81.777206),\n",
       "       (-70.757749, 23.52320068, 62822.31288194, 'r', 81.777206),\n",
       "       (-70.757749, 23.84881779, 63147.35116898, 'r', 81.777206),\n",
       "       (-70.757749, 24.49141398, 60977.281875  , 'g', 81.777206),\n",
       "       (-70.757749, 22.75467522, 60268.25418981, 'z', 81.777206),\n",
       "       (-70.757749, 23.10436382, 63193.17875   , 'i', 81.777206),\n",
       "       (-70.757749, 23.74544228, 62173.06821759, 'i', 81.777206),\n",
       "       (-70.757749, 22.86167177, 62060.3459838 , 'u', 81.777206),\n",
       "       (-70.757749, 21.66522498, 60955.37606481, 'y', 81.777206),\n",
       "       (-70.757749, 22.36363602, 59882.30997685, 'y', 81.777206),\n",
       "       (-70.757749, 24.22700312, 61376.25300926, 'g', 81.777206),\n",
       "       (-70.757749, 22.94972786, 61363.24039352, 'i', 81.777206),\n",
       "       (-70.757749, 21.30478547, 63320.16078704, 'z', 81.777206),\n",
       "       (-70.757749, 23.98420861, 61682.36659722, 'r', 81.777206),\n",
       "       (-70.757749, 22.7746146 , 61042.14400463, 'z', 81.777206),\n",
       "       (-70.757749, 23.07050421, 60656.19131944, 'z', 81.777206),\n",
       "       (-70.757749, 24.48561401, 62799.31946759, 'g', 81.777206),\n",
       "       (-70.757749, 21.87108652, 62788.30612269, 'y', 81.777206),\n",
       "       (-70.757749, 22.82431286, 63181.28590278, 'u', 81.777206),\n",
       "       (-70.757749, 23.27129142, 62443.33971065, 'u', 81.777206),\n",
       "       (-70.757749, 24.39631779, 60648.1805787 , 'r', 81.777206),\n",
       "       (-70.757749, 21.8913893 , 62079.31042824, 'y', 81.777206),\n",
       "       (-70.757749, 23.61055705, 61685.37119213, 'i', 81.777206),\n",
       "       (-70.757749, 21.83527555, 59948.1403125 , 'y', 81.777206),\n",
       "       (-70.757749, 22.51084025, 62462.30483796, 'z', 81.777206),\n",
       "       (-70.757749, 23.75662075, 60998.26881944, 'r', 81.777206),\n",
       "       (-70.757749, 21.74386726, 63261.21211806, 'z', 81.777206),\n",
       "       (-70.757749, 23.03760662, 59972.06591435, 'z', 81.777206),\n",
       "       (-70.757749, 23.41354136, 60313.18983796, 'i', 81.777206),\n",
       "       (-70.757749, 21.73773536, 59949.17559028, 'y', 81.777206),\n",
       "       (-70.757749, 24.23265461, 61419.15525463, 'r', 81.777206),\n",
       "       (-70.757749, 23.06380116, 62088.27778935, 'u', 81.777206),\n",
       "       (-70.757749, 24.62962546, 60999.22540509, 'g', 81.777206),\n",
       "       (-70.757749, 24.64663793, 63158.31451389, 'g', 81.777206),\n",
       "       (-70.757749, 22.62477142, 60581.39019676, 'u', 81.777206),\n",
       "       (-70.757749, 24.57951161, 62801.25565972, 'g', 81.777206),\n",
       "       (-70.757749, 23.1274002 , 63211.16443287, 'u', 81.777206),\n",
       "       (-70.757749, 23.71097532, 60650.1853125 , 'i', 81.777206),\n",
       "       (-70.757749, 23.58463078, 61037.20259259, 'i', 81.777206),\n",
       "       (-70.757749, 21.42039829, 60956.38490741, 'y', 81.777206),\n",
       "       (-70.757749, 22.56750066, 61039.12672454, 'z', 81.777206),\n",
       "       (-70.757749, 24.0347443 , 63153.35431713, 'r', 81.777206),\n",
       "       (-70.757749, 24.17922061, 62471.16668981, 'g', 81.777206),\n",
       "       (-70.757749, 23.12119509, 59875.33594907, 'u', 81.777206),\n",
       "       (-70.757749, 24.08245252, 63148.29141204, 'r', 81.777206),\n",
       "       (-70.757749, 23.62756679, 62424.31783565, 'i', 81.777206),\n",
       "       (-70.757749, 22.37762487, 60982.36622685, 'z', 81.777206),\n",
       "       (-70.757749, 23.35889502, 63235.20413194, 'r', 81.777206),\n",
       "       (-70.757749, 24.22710048, 62923.02561343, 'g', 81.777206),\n",
       "       (-70.757749, 24.33223736, 62125.18325231, 'r', 81.777206),\n",
       "       (-70.757749, 21.96160529, 59918.19555556, 'y', 81.777206),\n",
       "       (-70.757749, 24.0826964 , 60665.24096065, 'r', 81.777206),\n",
       "       (-70.757749, 23.61934982, 61701.34135417, 'i', 81.777206),\n",
       "       (-70.757749, 23.15053638, 60672.15636574, 'u', 81.777206),\n",
       "       (-70.757749, 23.03484744, 61355.2812037 , 'u', 81.777206),\n",
       "       (-70.757749, 21.54701019, 63491.24047454, 'y', 81.777206),\n",
       "       (-70.757749, 22.16733933, 60663.18268519, 'y', 81.777206),\n",
       "       (-70.757749, 23.74452623, 61710.28326389, 'g', 81.777206),\n",
       "       (-70.757749, 22.91596426, 60233.37309028, 'u', 81.777206),\n",
       "       (-70.757749, 23.52808232, 63234.15096065, 'r', 81.777206),\n",
       "       (-70.757749, 23.13909005, 61734.22027778, 'u', 81.777206),\n",
       "       (-70.757749, 23.31139415, 62095.28079861, 'i', 81.777206),\n",
       "       (-70.757749, 23.40247364, 61407.14822917, 'i', 81.777206),\n",
       "       (-70.757749, 22.95074846, 61765.14914352, 'u', 81.777206),\n",
       "       (-70.757749, 22.83979626, 62903.19462963, 'z', 81.777206),\n",
       "       (-70.757749, 22.87515292, 62076.26733796, 'z', 81.777206),\n",
       "       (-70.757749, 21.98259672, 62434.28934028, 'y', 81.777206),\n",
       "       (-70.757749, 22.71466734, 62472.23091435, 'u', 81.777206),\n",
       "       (-70.757749, 24.63907949, 62450.311875  , 'g', 81.777206)],\n",
       "      dtype=(numpy.record, [('fieldDec', '<f8'), ('fiveSigmaDepth', '<f8'), ('observationStartMJD', '<f8'), ('filter', '<U1'), ('fieldRA', '<f8')]))"
      ]
     },
     "execution_count": 64,
     "metadata": {},
     "output_type": "execute_result"
    }
   ],
   "source": [
    "bundle.metricValues.data[0]"
   ]
  },
  {
   "cell_type": "code",
   "execution_count": 65,
   "metadata": {},
   "outputs": [],
   "source": [
    "N=bundle.metricValues.data[0].shape[0]"
   ]
  },
  {
   "cell_type": "code",
   "execution_count": 66,
   "metadata": {},
   "outputs": [
    {
     "name": "stdout",
     "output_type": "stream",
     "text": [
      "('fieldDec', 'fiveSigmaDepth', 'observationStartMJD', 'filter', 'fieldRA')\n"
     ]
    }
   ],
   "source": [
    "print(bundle.metricValues.data[0].dtype.names)"
   ]
  },
  {
   "cell_type": "code",
   "execution_count": 73,
   "metadata": {},
   "outputs": [],
   "source": [
    "index_filt=np.where(np.array(bundle.metricValues.data[0].dtype.names)=='filter')[0][0]"
   ]
  },
  {
   "cell_type": "code",
   "execution_count": 74,
   "metadata": {},
   "outputs": [],
   "source": [
    "index_mjd=np.where(np.array(bundle.metricValues.data[0].dtype.names)=='observationStartMJD')[0][0]"
   ]
  },
  {
   "cell_type": "code",
   "execution_count": 78,
   "metadata": {},
   "outputs": [],
   "source": [
    "my_mjd=np.zeros(N)\n",
    "my_filt=np.zeros(N,dtype='|S1')\n",
    "idx=0\n",
    "for obs in bundle.metricValues.data[0] :\n",
    "    my_mjd[idx]=obs[index_mjd]\n",
    "    my_filt[idx]=obs[index_filt]\n",
    "    idx+=1"
   ]
  },
  {
   "cell_type": "code",
   "execution_count": 79,
   "metadata": {},
   "outputs": [],
   "source": [
    "idx_u=np.where(my_filt==b'u')\n",
    "idx_g=np.where(my_filt==b'g')\n",
    "idx_r=np.where(my_filt==b'r')\n",
    "idx_i=np.where(my_filt==b'i')\n",
    "idx_z=np.where(my_filt==b'z')\n",
    "idx_y=np.where(my_filt==b'y')"
   ]
  },
  {
   "cell_type": "code",
   "execution_count": 81,
   "metadata": {},
   "outputs": [],
   "source": [
    "array_idx=np.argsort(my_mjd)"
   ]
  },
  {
   "cell_type": "code",
   "execution_count": 82,
   "metadata": {},
   "outputs": [],
   "source": [
    "my_mjd2=my_mjd[array_idx]\n",
    "my_filt2=my_filt[array_idx]"
   ]
  },
  {
   "cell_type": "code",
   "execution_count": 84,
   "metadata": {},
   "outputs": [],
   "source": [
    "idx_u=np.where(my_filt2==b'u')[0]\n",
    "idx_g=np.where(my_filt2==b'g')[0]\n",
    "idx_r=np.where(my_filt2==b'r')[0]\n",
    "idx_i=np.where(my_filt2==b'i')[0]\n",
    "idx_z=np.where(my_filt2==b'z')[0]\n",
    "idx_y=np.where(my_filt2==b'y')[0]"
   ]
  },
  {
   "cell_type": "code",
   "execution_count": 86,
   "metadata": {},
   "outputs": [],
   "source": [
    "my_mjd2_u=my_mjd2[idx_u]\n",
    "my_mjd2_g=my_mjd2[idx_g]\n",
    "my_mjd2_r=my_mjd2[idx_r]\n",
    "my_mjd2_i=my_mjd2[idx_i]\n",
    "my_mjd2_z=my_mjd2[idx_z]\n",
    "my_mjd2_y=my_mjd2[idx_y]"
   ]
  },
  {
   "cell_type": "markdown",
   "metadata": {},
   "source": [
    "## Total number of observations"
   ]
  },
  {
   "cell_type": "code",
   "execution_count": 87,
   "metadata": {},
   "outputs": [],
   "source": [
    "my_mjd2_shift=np.roll(my_mjd2,-1)\n",
    "my_mjd2_u_shift=np.roll(my_mjd2_u,-1)\n",
    "my_mjd2_g_shift=np.roll(my_mjd2_g,-1)\n",
    "my_mjd2_r_shift=np.roll(my_mjd2_r,-1)\n",
    "my_mjd2_i_shift=np.roll(my_mjd2_i,-1)\n",
    "my_mjd2_z_shift=np.roll(my_mjd2_z,-1)\n",
    "my_mjd2_y_shift=np.roll(my_mjd2_y,-1)"
   ]
  },
  {
   "cell_type": "code",
   "execution_count": 88,
   "metadata": {},
   "outputs": [],
   "source": [
    "my_deltad=(my_mjd2_shift-my_mjd2)[:-1]\n",
    "\n",
    "my_deltad_u=(my_mjd2_u_shift-my_mjd2_u)[:-1]\n",
    "my_deltad_g=(my_mjd2_g_shift-my_mjd2_g)[:-1]\n",
    "my_deltad_r=(my_mjd2_r_shift-my_mjd2_r)[:-1]\n",
    "my_deltad_i=(my_mjd2_i_shift-my_mjd2_i)[:-1]\n",
    "my_deltad_z=(my_mjd2_z_shift-my_mjd2_z)[:-1]\n",
    "my_deltad_y=(my_mjd2_y_shift-my_mjd2_y)[:-1]"
   ]
  },
  {
   "cell_type": "code",
   "execution_count": null,
   "metadata": {},
   "outputs": [],
   "source": []
  },
  {
   "cell_type": "code",
   "execution_count": 89,
   "metadata": {},
   "outputs": [
    {
     "data": {
      "image/png": "[encoded data removed]",
      "text/plain": [
       "<Figure size 720x432 with 1 Axes>"
      ]
     },
     "metadata": {
      "needs_background": "light"
     },
     "output_type": "display_data"
    }
   ],
   "source": [
    "fig=plt.figure(figsize=(10,6))\n",
    "ax=fig.add_subplot(111)\n",
    "ax.hist(my_deltad,bins=100,range=(0,300),facecolor=\"grey\",label=\"all filt\");\n",
    "ax.hist(my_deltad_u,bins=100,range=(0,300),facecolor=\"b\",label=\"u filt\");\n",
    "ax.hist(my_deltad_g,bins=100,range=(0,300),facecolor=\"g\",label=\"g filt\");\n",
    "ax.hist(my_deltad_r,bins=100,range=(0,300),facecolor=\"r\",label=\"r filt\");\n",
    "ax.hist(my_deltad_i,bins=100,range=(0,300),facecolor=\"y\",label=\"i filt\");\n",
    "ax.hist(my_deltad_z,bins=100,range=(0,300),facecolor=\"purple\",label=\"z filt\");\n",
    "ax.hist(my_deltad_y,bins=100,range=(0,300),facecolor=\"cyan\",label=\"y filt\");\n",
    "\n",
    "\n",
    "ax.set_xlabel(\"nb of days\")\n",
    "ax.set_ylabel(\"count\")\n",
    "ax.set_title(\"Number of days between two visits\")\n",
    "ax.grid()\n",
    "ax.legend()\n",
    "ax.set_yscale('log')"
   ]
  },
  {
   "cell_type": "markdown",
   "metadata": {},
   "source": [
    "# Metric inter visit\n"
   ]
  },
  {
   "cell_type": "code",
   "execution_count": 90,
   "metadata": {},
   "outputs": [],
   "source": [
    "metric = metrics.InterNightGapsMetric()"
   ]
  },
  {
   "cell_type": "code",
   "execution_count": 91,
   "metadata": {},
   "outputs": [
    {
     "name": "stdout",
     "output_type": "stream",
     "text": [
      "{'fieldDec', 'observationStartMJD', 'fieldRA', 'night'}\n"
     ]
    }
   ],
   "source": [
    "bundle = metricBundles.MetricBundle(metric, slicer, sql)\n",
    "# In case you are using a dither stacker, we can check what columns are \n",
    "# actually being pulled from the database.\n",
    "print(bundle.dbCols)"
   ]
  },
  {
   "cell_type": "code",
   "execution_count": 92,
   "metadata": {},
   "outputs": [
    {
     "name": "stdout",
     "output_type": "stream",
     "text": [
      "Querying database SummaryAllProps with no constraint for columns ['fieldDec', 'observationStartMJD', 'night', 'fieldRA'].\n",
      "Found 2372700 visits\n",
      "Running:  [1]\n",
      "Completed metric generation.\n",
      "Running reduce methods.\n",
      "Running summary statistics.\n",
      "Completed.\n"
     ]
    }
   ],
   "source": [
    "bg = metricBundles.MetricBundleGroup(\n",
    "    {1: bundle}, opsimdb, outDir=outDir, resultsDb=resultsDb)\n",
    "bg.runAll()"
   ]
  },
  {
   "cell_type": "code",
   "execution_count": 93,
   "metadata": {},
   "outputs": [
    {
     "name": "stdout",
     "output_type": "stream",
     "text": [
      "Plotting figures with \"\" constraint now.\n"
     ]
    },
    {
     "name": "stderr",
     "output_type": "stream",
     "text": [
      "/cvmfs/sw.lsst.eu/darwin-x86_64/lsst_sims/sims_w_2020_31/stack/miniconda3-py37_4.8.2-1a1d771/DarwinX86/sims_maf/2.13.0.sims-59-g0a27faef/python/lsst/sims/maf/plots/spatialPlotters.py:332: UserWarning: Histogram range was single-valued; expanding default range.\n",
      "  warnings.warn('Histogram range was single-valued; expanding default range.')\n",
      "/cvmfs/sw.lsst.eu/darwin-x86_64/lsst_sims/sims_w_2020_31/stack/miniconda3-py37_4.8.2-1a1d771/DarwinX86/sims_maf/2.13.0.sims-59-g0a27faef/python/lsst/sims/maf/utils/mafUtils.py:56: RuntimeWarning: invalid value encountered in double_scalars\n",
      "  nbins = (binmax - binmin) / binwidth\n",
      "/cvmfs/sw.lsst.eu/darwin-x86_64/lsst_sims/sims_w_2020_31/stack/miniconda3-py37_4.8.2-1a1d771/DarwinX86/sims_maf/2.13.0.sims-59-g0a27faef/python/lsst/sims/maf/utils/mafUtils.py:64: UserWarning: Optimal bin calculation calculated NaN: returning 200\n",
      "  warnings.warn('Optimal bin calculation calculated NaN: returning %i' %(nbinMax))\n"
     ]
    },
    {
     "name": "stdout",
     "output_type": "stream",
     "text": [
      "Plotting complete.\n"
     ]
    },
    {
     "data": {
      "image/png": "[encoded data removed]",
      "text/plain": [
       "<Figure size 432x288 with 2 Axes>"
      ]
     },
     "metadata": {
      "needs_background": "light"
     },
     "output_type": "display_data"
    },
    {
     "data": {
      "image/png": "[encoded data removed]",
      "text/plain": [
       "<Figure size 432x288 with 1 Axes>"
      ]
     },
     "metadata": {
      "needs_background": "light"
     },
     "output_type": "display_data"
    }
   ],
   "source": [
    "bg.plotAll(closefigs=False)"
   ]
  },
  {
   "cell_type": "code",
   "execution_count": 94,
   "metadata": {},
   "outputs": [
    {
     "name": "stdout",
     "output_type": "stream",
     "text": [
      "None\n",
      "6.928964120372257\n"
     ]
    }
   ],
   "source": [
    "# Let's see what the \"pass\" metric provided, \n",
    "# looking at the first slicepoint (i.e. our ra/dec value).\n",
    "print(bundle.metricValues.data[0].dtype.names)\n",
    "# And look at some of the values.\n",
    "print(bundle.metricValues.data[0])"
   ]
  },
  {
   "cell_type": "code",
   "execution_count": null,
   "metadata": {},
   "outputs": [],
   "source": []
  }
 ],
 "metadata": {
  "kernelspec": {
   "display_name": "lsst_sims",
   "language": "python",
   "name": "lsst_sims"
  },
  "language_info": {
   "codemirror_mode": {
    "name": "ipython",
    "version": 3
   },
   "file_extension": ".py",
   "mimetype": "text/x-python",
   "name": "python",
   "nbconvert_exporter": "python",
   "pygments_lexer": "ipython3",
   "version": "3.7.6"
  },
  "toc": {
   "base_numbering": 1,
   "nav_menu": {},
   "number_sections": true,
   "sideBar": true,
   "skip_h1_title": false,
   "title_cell": "Table of Contents",
   "title_sidebar": "Contents",
   "toc_cell": false,
   "toc_position": {},
   "toc_section_display": true,
   "toc_window_display": false
  }
 },
 "nbformat": 4,
 "nbformat_minor": 4
}
