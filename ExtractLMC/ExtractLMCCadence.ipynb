{
 "cells": [
  {
   "cell_type": "markdown",
   "metadata": {},
   "source": [
    "# Notebook to extract LMC and SMC Cadence\n",
    "\n",
    "- Last update April 1 st 2021\n",
    "\n",
    "\n",
    "- http://astro-lsst-01.astro.washington.edu:8080/ (baseline included)\n",
    "- http://astro-lsst-01.astro.washington.edu:8081/  (rolling cadences included)\n",
    "- http://astro-lsst-01.astro.washington.edu:8082/\n"
   ]
  },
  {
   "cell_type": "code",
   "execution_count": 103,
   "metadata": {},
   "outputs": [
    {
     "data": {
      "text/plain": [
       "'2.13.0.sims-93-g8bc2eb33+a14e41332a'"
      ]
     },
     "execution_count": 103,
     "metadata": {},
     "output_type": "execute_result"
    }
   ],
   "source": [
    "# Check the version of MAF - the output should be version 2.4.2 or higher.\n",
    "# 'unknown' means you're running from a git repo version,\n",
    "# and have made changes to your local code\n",
    "\n",
    "import lsst.sims.maf\n",
    "lsst.sims.maf.__version__"
   ]
  },
  {
   "cell_type": "code",
   "execution_count": 104,
   "metadata": {},
   "outputs": [],
   "source": [
    "# import matplotlib to show plots inline.\n",
    "%matplotlib inline\n",
    "import matplotlib.pyplot as plt\n",
    "import numpy as np\n",
    "import pandas as pd"
   ]
  },
  {
   "cell_type": "code",
   "execution_count": 105,
   "metadata": {},
   "outputs": [],
   "source": [
    "# import our python modules\n",
    "import lsst.sims.maf.db as db\n",
    "import lsst.sims.maf.metrics as metrics\n",
    "import lsst.sims.maf.slicers as slicers\n",
    "import lsst.sims.maf.stackers as stackers\n",
    "import lsst.sims.maf.plots as plots\n",
    "import lsst.sims.maf.metricBundles as metricBundles\n",
    "\n",
    "from lsst.sims.maf.db import ResultsDb"
   ]
  },
  {
   "cell_type": "code",
   "execution_count": 106,
   "metadata": {
    "scrolled": false
   },
   "outputs": [
    {
     "name": "stdout",
     "output_type": "stream",
     "text": [
      "['/Users/dagoret/MacOSX/GitHub/LSST/MyCadence/ExtractLMC', '/cvmfs/sw.lsst.eu/darwin-x86_64/lsst_sims/sims_w_2021_14/stack/miniconda3-py38_4.9.2-0.4.3/DarwinX86/sims_almanac/master-g021b69e146+616205b9df/python', '/cvmfs/sw.lsst.eu/darwin-x86_64/lsst_sims/sims_w_2021_14/stack/miniconda3-py38_4.9.2-0.4.3/DarwinX86/sims_downtimeModel/master-g55f72efa65+3e384ed16a/python', '/cvmfs/sw.lsst.eu/darwin-x86_64/lsst_sims/sims_w_2021_14/stack/miniconda3-py38_4.9.2-0.4.3/DarwinX86/sims_cloudModel/master-ge3724df529+632df0f48d/python', '/cvmfs/sw.lsst.eu/darwin-x86_64/lsst_sims/sims_w_2021_14/stack/miniconda3-py38_4.9.2-0.4.3/DarwinX86/sims_seeingModel/master-ga4bf72ea44+6e62bc95d5/python', '/cvmfs/sw.lsst.eu/darwin-x86_64/lsst_sims/sims_w_2021_14/stack/miniconda3-py38_4.9.2-0.4.3/DarwinX86/sims_featureScheduler/master-g5f42dc1c76+c0a10aa3f3/python', '/cvmfs/sw.lsst.eu/darwin-x86_64/lsst_sims/sims_w_2021_14/stack/miniconda3-py38_4.9.2-0.4.3/DarwinX86/sims_skybrightness_pre/2.13.0.sims-11-g9ab127b+5f00cb8bf4/python', '/cvmfs/sw.lsst.eu/darwin-x86_64/lsst_sims/sims_w_2021_14/stack/miniconda3-py38_4.9.2-0.4.3/DarwinX86/sims_skybrightness_data/2017.05.05-2-gf1b2499/python', '/cvmfs/sw.lsst.eu/darwin-x86_64/lsst_sims/sims_w_2021_14/stack/miniconda3-py38_4.9.2-0.4.3/DarwinX86/sims_skybrightness/2.13.0.sims-7-g57b020e+ba01f1af57/python', '/cvmfs/sw.lsst.eu/darwin-x86_64/lsst_sims/sims_w_2021_14/stack/miniconda3-py38_4.9.2-0.4.3/DarwinX86/python_extinction/master-g3504403c44+15e725ac18/lib/python', '/cvmfs/sw.lsst.eu/darwin-x86_64/lsst_sims/sims_w_2021_14/stack/miniconda3-py38_4.9.2-0.4.3/DarwinX86/astropy_helpers/3.0.2.lsst-1-g9c76ab2/lib/python', '/cvmfs/sw.lsst.eu/darwin-x86_64/lsst_sims/sims_w_2021_14/stack/miniconda3-py38_4.9.2-0.4.3/DarwinX86/astropy_helpers/3.0.2.lsst-1-g9c76ab2', '/cvmfs/sw.lsst.eu/darwin-x86_64/lsst_sims/sims_w_2021_14/stack/miniconda3-py38_4.9.2-0.4.3/DarwinX86/sncosmo/1.3.0.lsst2-5-gea39e10+3c1685c4f7/lib/python', '/cvmfs/sw.lsst.eu/darwin-x86_64/lsst_sims/sims_w_2021_14/stack/miniconda3-py38_4.9.2-0.4.3/DarwinX86/sims_catUtils/2.13.0.sims-16-g9f88571c+957f58f907/python', '/cvmfs/sw.lsst.eu/darwin-x86_64/lsst_sims/sims_w_2021_14/stack/miniconda3-py38_4.9.2-0.4.3/DarwinX86/sims_survey_fields/2.13.0.sims-1-g3f5255d+616205b9df/python', '/cvmfs/sw.lsst.eu/darwin-x86_64/lsst_sims/sims_w_2021_14/stack/miniconda3-py38_4.9.2-0.4.3/DarwinX86/verify_metrics/21.0.0-2-gfc76737+04719a4bac/python', '/cvmfs/sw.lsst.eu/darwin-x86_64/lsst_sims/sims_w_2021_14/stack/miniconda3-py38_4.9.2-0.4.3/DarwinX86/dax_apdb/21.0.0-2-g5242d73+3ad5d60fb1/python', '/cvmfs/sw.lsst.eu/darwin-x86_64/lsst_sims/sims_w_2021_14/stack/miniconda3-py38_4.9.2-0.4.3/DarwinX86/verify/21.0.0-8-ga0979ac+846099bd58/python', '/cvmfs/sw.lsst.eu/darwin-x86_64/lsst_sims/sims_w_2021_14/stack/miniconda3-py38_4.9.2-0.4.3/DarwinX86/ip_diffim/21.0.0-11-ga42c5b2+86977b0b17/python', '/cvmfs/sw.lsst.eu/darwin-x86_64/lsst_sims/sims_w_2021_14/stack/miniconda3-py38_4.9.2-0.4.3/DarwinX86/meas_deblender/21.0.0-3-g65f322c+e0b24896a3/python', '/cvmfs/sw.lsst.eu/darwin-x86_64/lsst_sims/sims_w_2021_14/stack/miniconda3-py38_4.9.2-0.4.3/DarwinX86/meas_astrom/21.0.0-4-g591bb35+a9c1acf22d/python', '/cvmfs/sw.lsst.eu/darwin-x86_64/lsst_sims/sims_w_2021_14/stack/miniconda3-py38_4.9.2-0.4.3/DarwinX86/kht/lsst-dev-g14ffe67dc2+fe93bf5141/cpp/build', '/cvmfs/sw.lsst.eu/darwin-x86_64/lsst_sims/sims_w_2021_14/stack/miniconda3-py38_4.9.2-0.4.3/DarwinX86/psfex/21.0.0-2-g03166ea+04719a4bac/python', '/cvmfs/sw.lsst.eu/darwin-x86_64/lsst_sims/sims_w_2021_14/stack/miniconda3-py38_4.9.2-0.4.3/DarwinX86/meas_extensions_psfex/21.0.0-3-g357aad2+ed88757d29/python', '/cvmfs/sw.lsst.eu/darwin-x86_64/lsst_sims/sims_w_2021_14/stack/miniconda3-py38_4.9.2-0.4.3/DarwinX86/scarlet_extensions/lsst-dev-g9d18589735+5de2e29f4b/lib/python', '/cvmfs/sw.lsst.eu/darwin-x86_64/lsst_sims/sims_w_2021_14/stack/miniconda3-py38_4.9.2-0.4.3/DarwinX86/proxmin/lsst-dev-g79c0498783/lib/python', '/cvmfs/sw.lsst.eu/darwin-x86_64/lsst_sims/sims_w_2021_14/stack/miniconda3-py38_4.9.2-0.4.3/DarwinX86/scarlet/lsst-dev-g965bb5fbbf+f31336177f/lib/python', '/cvmfs/sw.lsst.eu/darwin-x86_64/lsst_sims/sims_w_2021_14/stack/miniconda3-py38_4.9.2-0.4.3/DarwinX86/meas_extensions_scarlet/21.0.0-12-g771b9a2+d312f28ea8/python', '/cvmfs/sw.lsst.eu/darwin-x86_64/lsst_sims/sims_w_2021_14/stack/miniconda3-py38_4.9.2-0.4.3/DarwinX86/pipe_tasks/21.0.0-64-g1122c245+4fb2b8f86e/python', '/cvmfs/sw.lsst.eu/darwin-x86_64/lsst_sims/sims_w_2021_14/stack/miniconda3-py38_4.9.2-0.4.3/DarwinX86/obs_test/21.0.0-4-ge8a399c+6c55c39e83/python', '/cvmfs/sw.lsst.eu/darwin-x86_64/lsst_sims/sims_w_2021_14/stack/miniconda3-py38_4.9.2-0.4.3/DarwinX86/coadd_utils/21.0.0-2-g7f82c8f+8babb168e8/python', '/cvmfs/sw.lsst.eu/darwin-x86_64/lsst_sims/sims_w_2021_14/stack/miniconda3-py38_4.9.2-0.4.3/DarwinX86/meas_base/21.0.0-7-g04766d7+cd19d05db2/python', '/cvmfs/sw.lsst.eu/darwin-x86_64/lsst_sims/sims_w_2021_14/stack/miniconda3-py38_4.9.2-0.4.3/DarwinX86/meas_algorithms/21.0.0-19-g4cded4ca+71a93a33c0/python', '/cvmfs/sw.lsst.eu/darwin-x86_64/lsst_sims/sims_w_2021_14/stack/miniconda3-py38_4.9.2-0.4.3/DarwinX86/ip_isr/21.0.0-11-g2b59f77+a9c1acf22d/python', '/cvmfs/sw.lsst.eu/darwin-x86_64/lsst_sims/sims_w_2021_14/stack/miniconda3-py38_4.9.2-0.4.3/DarwinX86/skymap/21.0.0-4-g65b4814+b60e2d390c/python', '/cvmfs/sw.lsst.eu/darwin-x86_64/lsst_sims/sims_w_2021_14/stack/miniconda3-py38_4.9.2-0.4.3/DarwinX86/pipe_base/21.0.0-16-g0fb55c1+b60e2d390c/python', '/cvmfs/sw.lsst.eu/darwin-x86_64/lsst_sims/sims_w_2021_14/stack/miniconda3-py38_4.9.2-0.4.3/DarwinX86/astro_metadata_translator/0.1.0-25-gffa9b84+f5e6047307/python', '/cvmfs/sw.lsst.eu/darwin-x86_64/lsst_sims/sims_w_2021_14/stack/miniconda3-py38_4.9.2-0.4.3/DarwinX86/obs_base/21.0.0-46-g873c13b+6225f1ba97/python', '/cvmfs/sw.lsst.eu/darwin-x86_64/lsst_sims/sims_w_2021_14/stack/miniconda3-py38_4.9.2-0.4.3/DarwinX86/obs_lsst/21.0.0-31-g8148eae+9341841a08/python', '/cvmfs/sw.lsst.eu/darwin-x86_64/lsst_sims/sims_w_2021_14/stack/miniconda3-py38_4.9.2-0.4.3/DarwinX86/astshim/21.0.0-2-g45278ab+04719a4bac/python', '/cvmfs/sw.lsst.eu/darwin-x86_64/lsst_sims/sims_w_2021_14/stack/miniconda3-py38_4.9.2-0.4.3/DarwinX86/pex_config/21.0.0-1-ga51b5d4+f5e6047307/python', '/cvmfs/sw.lsst.eu/darwin-x86_64/lsst_sims/sims_w_2021_14/stack/miniconda3-py38_4.9.2-0.4.3/DarwinX86/log/21.0.0-3-g7d9da8d+616205b9df/python', '/cvmfs/sw.lsst.eu/darwin-x86_64/lsst_sims/sims_w_2021_14/stack/miniconda3-py38_4.9.2-0.4.3/DarwinX86/daf_persistence/21.0.0-8-g5674e7b+d1bd76f71f/python', '/cvmfs/sw.lsst.eu/darwin-x86_64/lsst_sims/sims_w_2021_14/stack/miniconda3-py38_4.9.2-0.4.3/DarwinX86/daf_base/21.0.0-2-g8faa9b5+616205b9df/python', '/cvmfs/sw.lsst.eu/darwin-x86_64/lsst_sims/sims_w_2021_14/stack/miniconda3-py38_4.9.2-0.4.3/DarwinX86/afw/21.0.0-25-g1d57be3cd+e73869a214/python', '/cvmfs/sw.lsst.eu/darwin-x86_64/lsst_sims/sims_w_2021_14/stack/miniconda3-py38_4.9.2-0.4.3/DarwinX86/geom/21.0.0-2-g8f08a60+06509c8b61/python', '/cvmfs/sw.lsst.eu/darwin-x86_64/lsst_sims/sims_w_2021_14/stack/miniconda3-py38_4.9.2-0.4.3/DarwinX86/sims_coordUtils/2.13.0.sims-7-gc9b9334+56a961170b/python', '/cvmfs/sw.lsst.eu/darwin-x86_64/lsst_sims/sims_w_2021_14/stack/miniconda3-py38_4.9.2-0.4.3/DarwinX86/sims_photUtils/2.13.0.sims-5-ge14a266+aba1a31c29/python', '/cvmfs/sw.lsst.eu/darwin-x86_64/lsst_sims/sims_w_2021_14/stack/miniconda3-py38_4.9.2-0.4.3/DarwinX86/pymssql/2.1.1-2-g168068f+ad9f4941ed/lib/python', '/cvmfs/sw.lsst.eu/darwin-x86_64/lsst_sims/sims_w_2021_14/stack/miniconda3-py38_4.9.2-0.4.3/DarwinX86/sphgeom/21.0.0+04719a4bac/python', '/cvmfs/sw.lsst.eu/darwin-x86_64/lsst_sims/sims_w_2021_14/stack/miniconda3-py38_4.9.2-0.4.3/DarwinX86/daf_butler/21.0.0-66-g4fd1cc04+06509c8b61/python', '/cvmfs/sw.lsst.eu/darwin-x86_64/lsst_sims/sims_w_2021_14/stack/miniconda3-py38_4.9.2-0.4.3/DarwinX86/sims_catalogs/2.13.0.sims-9-g8bb9136+cbd5fec15e/python', '/cvmfs/sw.lsst.eu/darwin-x86_64/lsst_sims/sims_w_2021_14/stack/miniconda3-py38_4.9.2-0.4.3/DarwinX86/pex_exceptions/21.0.0-2-gde069b7+5e4aea9c2f/python', '/cvmfs/sw.lsst.eu/darwin-x86_64/lsst_sims/sims_w_2021_14/stack/miniconda3-py38_4.9.2-0.4.3/DarwinX86/utils/21.0.0-4-gccdca77+0de219a2bc/python', '/cvmfs/sw.lsst.eu/darwin-x86_64/lsst_sims/sims_w_2021_14/stack/miniconda3-py38_4.9.2-0.4.3/DarwinX86/sims_utils/2.13.0.sims-46-g370dc29+872406ca88/python', '/cvmfs/sw.lsst.eu/darwin-x86_64/lsst_sims/sims_w_2021_14/stack/miniconda3-py38_4.9.2-0.4.3/DarwinX86/palpy/1.8.1-1-ga780397/lib/python', '/cvmfs/sw.lsst.eu/darwin-x86_64/lsst_sims/sims_w_2021_14/stack/miniconda3-py38_4.9.2-0.4.3/DarwinX86/ephem/3.7.6.0-1-g6182364/lib/python', '/cvmfs/sw.lsst.eu/darwin-x86_64/lsst_sims/sims_w_2021_14/stack/miniconda3-py38_4.9.2-0.4.3/DarwinX86/sconsUtils/21.0.0-7-gd4ecef8/python', '/cvmfs/sw.lsst.eu/darwin-x86_64/lsst_sims/sims_w_2021_14/stack/miniconda3-py38_4.9.2-0.4.3/DarwinX86/base/21.0.0-7-gdf92d54+04719a4bac/python', '/cvmfs/sw.lsst.eu/darwin-x86_64/lsst_sims/sims_w_2021_14/stack/miniconda3-py38_4.9.2-0.4.3/DarwinX86/sims_maf/2.13.0.sims-93-g8bc2eb33+a14e41332a/python', '/cvmfs/sw.lsst.eu/darwin-x86_64/lsst_sims/sims_w_2021_14/conda/miniconda3-py38_4.9.2/envs/lsst-scipipe-0.4.3-ext/eups/python', '/cvmfs/sw.lsst.eu/darwin-x86_64/lsst_sims/sims_w_2021_14/conda/miniconda3-py38_4.9.2/envs/lsst-scipipe-0.4.3-ext/lib/python38.zip', '/cvmfs/sw.lsst.eu/darwin-x86_64/lsst_sims/sims_w_2021_14/conda/miniconda3-py38_4.9.2/envs/lsst-scipipe-0.4.3-ext/lib/python3.8', '/cvmfs/sw.lsst.eu/darwin-x86_64/lsst_sims/sims_w_2021_14/conda/miniconda3-py38_4.9.2/envs/lsst-scipipe-0.4.3-ext/lib/python3.8/lib-dynload', '', '/cvmfs/sw.lsst.eu/darwin-x86_64/lsst_sims/sims_w_2021_14/conda/miniconda3-py38_4.9.2/envs/lsst-scipipe-0.4.3-ext/lib/python3.8/site-packages', '/cvmfs/sw.lsst.eu/darwin-x86_64/lsst_sims/sims_w_2021_14/conda/miniconda3-py38_4.9.2/envs/lsst-scipipe-0.4.3-ext/lib/python3.8/site-packages/IPython/extensions', '/Users/dagoret/.ipython', '/Users/dagoret/anaconda3/lib/python37.zip', '/Users/dagoret/anaconda3/lib/python3.7', '/Users/dagoret/anaconda3/lib/python3.7/lib-dynload', '', '/Users/dagoret/.local/lib/python3.7/site-packages', '/Users/dagoret/anaconda3/lib/python3.7/site-packages', '/Users/dagoret/anaconda3/lib/python3.7/site-packages/aeosa', '/Users/dagoret/anaconda3/lib/python3.7/site-packages/IPython/extensions', '/Users/dagoret/.ipython', '/Users/dagoret/anaconda3/lib/python37.zip', '/Users/dagoret/anaconda3/lib/python3.7', '/Users/dagoret/anaconda3/lib/python3.7/lib-dynload', '', '/Users/dagoret/.local/lib/python3.7/site-packages', '/Users/dagoret/anaconda3/lib/python3.7/site-packages', '/Users/dagoret/anaconda3/lib/python3.7/site-packages/aeosa', '/Users/dagoret/anaconda3/lib/python3.7/site-packages/IPython/extensions', '/Users/dagoret/.ipython']\n"
     ]
    }
   ],
   "source": [
    "import sys\n",
    "print(sys.path)"
   ]
  },
  {
   "cell_type": "markdown",
   "metadata": {},
   "source": [
    "### Specify my other python path (my installation)"
   ]
  },
  {
   "cell_type": "code",
   "execution_count": 107,
   "metadata": {},
   "outputs": [],
   "source": [
    "otherpythonpaths=['/Users/dagoret/anaconda3/lib/python37.zip', '/Users/dagoret/anaconda3/lib/python3.7', '/Users/dagoret/anaconda3/lib/python3.7/lib-dynload', '', '/Users/dagoret/.local/lib/python3.7/site-packages', '/Users/dagoret/anaconda3/lib/python3.7/site-packages', '/Users/dagoret/anaconda3/lib/python3.7/site-packages/aeosa', '/Users/dagoret/anaconda3/lib/python3.7/site-packages/IPython/extensions', '/Users/dagoret/.ipython']"
   ]
  },
  {
   "cell_type": "code",
   "execution_count": 108,
   "metadata": {},
   "outputs": [],
   "source": [
    "for thepath in otherpythonpaths:\n",
    "    sys.path.append(thepath) # go to parent dir"
   ]
  },
  {
   "cell_type": "code",
   "execution_count": 109,
   "metadata": {},
   "outputs": [
    {
     "name": "stdout",
     "output_type": "stream",
     "text": [
      "The autoreload extension is already loaded. To reload it, use:\n",
      "  %reload_ext autoreload\n"
     ]
    }
   ],
   "source": [
    "%load_ext autoreload\n",
    "%autoreload 2"
   ]
  },
  {
   "cell_type": "markdown",
   "metadata": {},
   "source": [
    "# Astronomy"
   ]
  },
  {
   "cell_type": "code",
   "execution_count": 110,
   "metadata": {},
   "outputs": [],
   "source": [
    "gindex=0"
   ]
  },
  {
   "cell_type": "code",
   "execution_count": 111,
   "metadata": {},
   "outputs": [],
   "source": [
    "Galaxy_Name=[\"lmc\",\"smc\"]"
   ]
  },
  {
   "cell_type": "code",
   "execution_count": 112,
   "metadata": {},
   "outputs": [],
   "source": [
    "Galaxy_Delta_RA=[10.75,5.33]\n",
    "Galaxy_Delta_DEC=[9.17,3.083]"
   ]
  },
  {
   "cell_type": "code",
   "execution_count": 113,
   "metadata": {},
   "outputs": [],
   "source": [
    "GName=Galaxy_Name[gindex]\n",
    "galaxy_delta_ra=Galaxy_Delta_RA[gindex]\n",
    "galaxy_delta_dec=Galaxy_Delta_DEC[gindex]"
   ]
  },
  {
   "cell_type": "markdown",
   "metadata": {},
   "source": [
    "## astroquery"
   ]
  },
  {
   "cell_type": "code",
   "execution_count": 114,
   "metadata": {},
   "outputs": [],
   "source": [
    "import astroquery\n",
    "from astropy.coordinates import SkyCoord\n",
    "from astropy.coordinates import Angle"
   ]
  },
  {
   "cell_type": "code",
   "execution_count": 115,
   "metadata": {},
   "outputs": [
    {
     "name": "stdout",
     "output_type": "stream",
     "text": [
      "MAIN_ID      RA        DEC    ... COO_QUAL COO_WAVELENGTH     COO_BIBCODE    \n",
      "          \"h:m:s\"    \"d:m:s\"  ...                                            \n",
      "-------- ---------- --------- ... -------- -------------- -------------------\n",
      "NAME LMC 05 23 34.6 -69 45 22 ...        D              O 2003A&A...412...45P\n"
     ]
    }
   ],
   "source": [
    "from astroquery.simbad import Simbad\n",
    "result_table = Simbad.query_object(GName)\n",
    "result_table.pprint(show_unit=True)"
   ]
  },
  {
   "cell_type": "code",
   "execution_count": 116,
   "metadata": {},
   "outputs": [
    {
     "data": {
      "text/latex": [
       "$5^\\mathrm{h}23^\\mathrm{m}34.6^\\mathrm{s}$"
      ],
      "text/plain": [
       "<Angle 5.39294444 hourangle>"
      ]
     },
     "execution_count": 116,
     "metadata": {},
     "output_type": "execute_result"
    }
   ],
   "source": [
    "Angle(result_table[\"RA\"][0]+\" hour\")"
   ]
  },
  {
   "cell_type": "code",
   "execution_count": 117,
   "metadata": {},
   "outputs": [
    {
     "data": {
      "text/latex": [
       "$-69^\\circ45{}^\\prime22{}^{\\prime\\prime}$"
      ],
      "text/plain": [
       "<Angle -69.75611111 deg>"
      ]
     },
     "execution_count": 117,
     "metadata": {},
     "output_type": "execute_result"
    }
   ],
   "source": [
    "Angle(result_table[\"DEC\"][0]+\" degrees\")"
   ]
  },
  {
   "cell_type": "code",
   "execution_count": 118,
   "metadata": {},
   "outputs": [
    {
     "data": {
      "text/plain": [
       "<SkyCoord (ICRS): (ra, dec) in deg\n",
       "    (80.89416667, -69.75611111)>"
      ]
     },
     "execution_count": 118,
     "metadata": {},
     "output_type": "execute_result"
    }
   ],
   "source": [
    "galaxy_coord=SkyCoord(ra=result_table[\"RA\"][0]+\"hour\",dec=result_table[\"DEC\"][0]+ \"degrees\")\n",
    "galaxy_coord"
   ]
  },
  {
   "cell_type": "code",
   "execution_count": 119,
   "metadata": {},
   "outputs": [],
   "source": [
    "galaxy_ra=galaxy_coord.ra.deg\n",
    "galaxy_dec=galaxy_coord.dec.deg"
   ]
  },
  {
   "cell_type": "code",
   "execution_count": 120,
   "metadata": {},
   "outputs": [
    {
     "name": "stdout",
     "output_type": "stream",
     "text": [
      "80.89416666666666 -69.75611111111111\n"
     ]
    }
   ],
   "source": [
    "print(galaxy_ra,galaxy_dec)"
   ]
  },
  {
   "cell_type": "markdown",
   "metadata": {},
   "source": [
    "# Config"
   ]
  },
  {
   "cell_type": "markdown",
   "metadata": {},
   "source": [
    "## Database selection"
   ]
  },
  {
   "cell_type": "code",
   "execution_count": 121,
   "metadata": {},
   "outputs": [],
   "source": [
    "dbindex=3"
   ]
  },
  {
   "cell_type": "code",
   "execution_count": 122,
   "metadata": {},
   "outputs": [],
   "source": [
    "filters = ['u', 'g', 'r', 'i', 'z', 'y']\n",
    "colors = {'u': 'cyan', 'g': 'g', 'r': 'y','i': 'r', 'z': 'm', 'y': 'k'}\n",
    "Nfilt=len(filters)"
   ]
  },
  {
   "cell_type": "code",
   "execution_count": 151,
   "metadata": {},
   "outputs": [],
   "source": [
    "database=[\"baseline2018a.db\",\\\n",
    "          \"baseline_v1.5_10yrs.db\",\\\n",
    "          \"baseline_2snaps_v1.5_10yrs.db\",\\\n",
    "          \"rolling_nm_scale1.0_nslice2_v1.7_10yrs.db\",\\\n",
    "          \"rolling_nm_scale1.0_nslice3_v1.7_10yrs.db\",\\\n",
    "          \"rolling_scale0.2_nslice3_v1.7_10yrs.db\"\n",
    "         ]"
   ]
  },
  {
   "cell_type": "code",
   "execution_count": 124,
   "metadata": {},
   "outputs": [],
   "source": [
    "dbfileName=database[dbindex]"
   ]
  },
  {
   "cell_type": "code",
   "execution_count": 125,
   "metadata": {},
   "outputs": [],
   "source": [
    "dbtag=dbfileName.split(\".\")[0]"
   ]
  },
  {
   "cell_type": "code",
   "execution_count": 126,
   "metadata": {},
   "outputs": [
    {
     "data": {
      "text/plain": [
       "'baseline_2snaps_v1'"
      ]
     },
     "execution_count": 126,
     "metadata": {},
     "output_type": "execute_result"
    }
   ],
   "source": [
    "dbtag"
   ]
  },
  {
   "cell_type": "markdown",
   "metadata": {},
   "source": [
    "# Prepare access to database"
   ]
  },
  {
   "cell_type": "markdown",
   "metadata": {},
   "source": [
    "## SQL Selection"
   ]
  },
  {
   "cell_type": "code",
   "execution_count": 127,
   "metadata": {},
   "outputs": [],
   "source": [
    "raCol = 'fieldRA'\n",
    "decCol = 'fieldDec'"
   ]
  },
  {
   "cell_type": "code",
   "execution_count": 128,
   "metadata": {},
   "outputs": [],
   "source": [
    "sqlWhere = \\\n",
    "    'fieldRA < %f and ' \\\n",
    "    'fieldRA > %f and ' \\\n",
    "    'fieldDEC < %f and ' \\\n",
    "    'fieldDEC > %f  ' \\\n",
    "     % (galaxy_ra+ galaxy_delta_ra/2., galaxy_ra- galaxy_delta_ra/2.,galaxy_dec+galaxy_delta_dec/2.,galaxy_dec-galaxy_delta_dec/2)"
   ]
  },
  {
   "cell_type": "code",
   "execution_count": 129,
   "metadata": {},
   "outputs": [
    {
     "data": {
      "text/plain": [
       "'fieldRA < 86.269167 and fieldRA > 75.519167 and fieldDEC < -65.171111 and fieldDEC > -74.341111  '"
      ]
     },
     "execution_count": 129,
     "metadata": {},
     "output_type": "execute_result"
    }
   ],
   "source": [
    "sqlWhere"
   ]
  },
  {
   "cell_type": "markdown",
   "metadata": {},
   "source": [
    "## From Tristan"
   ]
  },
  {
   "cell_type": "code",
   "execution_count": 130,
   "metadata": {},
   "outputs": [],
   "source": [
    "RAMIN = 70.6 \n",
    "RAMAX = 91.2 \n",
    "DECMIN = -73.26 \n",
    "DECMAX =-66.26"
   ]
  },
  {
   "cell_type": "code",
   "execution_count": 131,
   "metadata": {},
   "outputs": [],
   "source": [
    "sqlWhere = \\\n",
    "    'fieldRA < %f and ' \\\n",
    "    'fieldRA > %f and ' \\\n",
    "    'fieldDEC < %f and ' \\\n",
    "    'fieldDEC > %f  ' \\\n",
    "     % (RAMAX, RAMIN,DECMAX,DECMIN)"
   ]
  },
  {
   "cell_type": "code",
   "execution_count": 132,
   "metadata": {},
   "outputs": [
    {
     "data": {
      "text/plain": [
       "'fieldRA < 91.200000 and fieldRA > 70.600000 and fieldDEC < -66.260000 and fieldDEC > -73.260000  '"
      ]
     },
     "execution_count": 132,
     "metadata": {},
     "output_type": "execute_result"
    }
   ],
   "source": [
    "sqlWhere"
   ]
  },
  {
   "cell_type": "code",
   "execution_count": null,
   "metadata": {},
   "outputs": [],
   "source": []
  },
  {
   "cell_type": "code",
   "execution_count": null,
   "metadata": {},
   "outputs": [],
   "source": []
  },
  {
   "cell_type": "code",
   "execution_count": null,
   "metadata": {},
   "outputs": [],
   "source": []
  },
  {
   "cell_type": "markdown",
   "metadata": {},
   "source": [
    "## Metric"
   ]
  },
  {
   "cell_type": "code",
   "execution_count": 133,
   "metadata": {},
   "outputs": [],
   "source": [
    "dbfields=['observationId','night','observationStartMJD','fiveSigmaDepth','filter','airmass','skyBrightness','seeingFwhmEff','fieldId','fieldRA','fieldDec']"
   ]
  },
  {
   "cell_type": "code",
   "execution_count": 134,
   "metadata": {},
   "outputs": [],
   "source": [
    "metric=metrics.PassMetric(cols=dbfields)"
   ]
  },
  {
   "cell_type": "markdown",
   "metadata": {},
   "source": [
    "##  Database to open"
   ]
  },
  {
   "cell_type": "code",
   "execution_count": 135,
   "metadata": {},
   "outputs": [],
   "source": [
    "opsdb = db.OpsimDatabase('/Users/dagoret/DATA/Cadence/'+dbfileName)\n",
    "outDir = 'output_galaxycadence'\n",
    "resultsDb = db.ResultsDb(outDir=outDir)"
   ]
  },
  {
   "cell_type": "markdown",
   "metadata": {},
   "source": [
    "## Slicer"
   ]
  },
  {
   "cell_type": "code",
   "execution_count": 136,
   "metadata": {},
   "outputs": [
    {
     "name": "stdout",
     "output_type": "stream",
     "text": [
      "Healpix slicer using NSIDE=512, approximate resolution 6.870973 arcminutes\n"
     ]
    }
   ],
   "source": [
    "slicer_uni=slicers.UniSlicer()\n",
    "slicer_point = slicers.UserPointsSlicer(galaxy_ra, galaxy_dec, lonCol='fieldRA', latCol='fieldDec', latLonDeg='degrees')\n",
    "nside = 512\n",
    "slicer_heal = slicers.HealpixSlicer(nside=nside, lonCol=raCol, latCol=decCol)"
   ]
  },
  {
   "cell_type": "markdown",
   "metadata": {},
   "source": [
    "# Run"
   ]
  },
  {
   "cell_type": "markdown",
   "metadata": {},
   "source": [
    "## Bundle\n",
    "\n",
    "- Bundles dict for all filter"
   ]
  },
  {
   "cell_type": "code",
   "execution_count": 137,
   "metadata": {},
   "outputs": [
    {
     "name": "stdout",
     "output_type": "stream",
     "text": [
      "{'skyBrightness', 'filter', 'seeingFwhmEff', 'airmass', 'night', 'fieldId', 'observationStartMJD', 'fiveSigmaDepth', 'fieldRA', 'observationId', 'fieldDec'}\n"
     ]
    }
   ],
   "source": [
    "bundles = {}\n",
    "bundles[GName] = metricBundles.MetricBundle(metric, slicer_uni, sqlWhere)\n",
    "print(bundles[GName].dbCols)"
   ]
  },
  {
   "cell_type": "code",
   "execution_count": 138,
   "metadata": {},
   "outputs": [],
   "source": [
    "bgroup = metricBundles.MetricBundleGroup(bundles, opsdb, outDir=outDir,resultsDb=resultsDb)"
   ]
  },
  {
   "cell_type": "code",
   "execution_count": 139,
   "metadata": {
    "scrolled": false
   },
   "outputs": [
    {
     "name": "stdout",
     "output_type": "stream",
     "text": [
      "Querying database SummaryAllProps with constraint fieldRA < 91.200000 and fieldRA > 70.600000 and fieldDEC < -66.260000 and fieldDEC > -73.260000   for columns ['skyBrightness', 'filter', 'seeingFwhmEff', 'airmass', 'night', 'fieldDec', 'observationStartMJD', 'fiveSigmaDepth', 'fieldRA', 'observationId', 'fieldId']\n",
      "Found 1284 visits\n",
      "Running:  ['lmc']\n",
      "Completed metric generation.\n",
      "Running reduce methods.\n",
      "Running summary statistics.\n",
      "Completed.\n",
      "Plotting figures with \"fieldRA < 91.200000 and fieldRA > 70.600000 and fieldDEC < -66.260000 and fieldDEC > -73.260000  \" constraint now.\n",
      "Plotting complete.\n"
     ]
    },
    {
     "name": "stderr",
     "output_type": "stream",
     "text": [
      "/cvmfs/sw.lsst.eu/darwin-x86_64/lsst_sims/sims_w_2021_14/stack/miniconda3-py38_4.9.2-0.4.3/DarwinX86/sims_maf/2.13.0.sims-93-g8bc2eb33+a14e41332a/python/lsst/sims/maf/db/resultsDb.py:279: UserWarning: Warning! Cannot save non-conforming summary statistic.\n",
      "  warnings.warn('Warning! Cannot save non-conforming summary statistic.')\n"
     ]
    }
   ],
   "source": [
    "bgroup.runAll()\n",
    "bgroup.plotAll(closefigs=False)"
   ]
  },
  {
   "cell_type": "code",
   "execution_count": 140,
   "metadata": {},
   "outputs": [
    {
     "name": "stdout",
     "output_type": "stream",
     "text": [
      "{'skyBrightness', 'filter', 'seeingFwhmEff', 'airmass', 'night', 'fieldId', 'observationStartMJD', 'fiveSigmaDepth', 'fieldRA', 'observationId', 'fieldDec'}\n"
     ]
    }
   ],
   "source": [
    "print(bundles[GName].dbCols)"
   ]
  },
  {
   "cell_type": "code",
   "execution_count": 141,
   "metadata": {},
   "outputs": [
    {
     "name": "stdout",
     "output_type": "stream",
     "text": [
      "1284\n"
     ]
    }
   ],
   "source": [
    "print(len(bundles[GName].metricValues[0]))"
   ]
  },
  {
   "cell_type": "markdown",
   "metadata": {},
   "source": [
    "# Output"
   ]
  },
  {
   "cell_type": "code",
   "execution_count": 142,
   "metadata": {},
   "outputs": [],
   "source": [
    "version=\"extr_v1\""
   ]
  },
  {
   "cell_type": "code",
   "execution_count": 143,
   "metadata": {},
   "outputs": [],
   "source": [
    "#pdfilename=\"cadence_\"+GName+\"_\"+dbtag+\".csv\"\n",
    "pdfilename=\"cadence_\"+ GName + \"_\" + dbtag + \"_\" + version + \"_test.csv\""
   ]
  },
  {
   "cell_type": "code",
   "execution_count": 144,
   "metadata": {},
   "outputs": [
    {
     "data": {
      "text/plain": [
       "'cadence_lmc_baseline_2snaps_v1_extr_v1_test.csv'"
      ]
     },
     "execution_count": 144,
     "metadata": {},
     "output_type": "execute_result"
    }
   ],
   "source": [
    "pdfilename"
   ]
  },
  {
   "cell_type": "code",
   "execution_count": 145,
   "metadata": {},
   "outputs": [],
   "source": [
    "df  = pd.DataFrame()"
   ]
  },
  {
   "cell_type": "code",
   "execution_count": 146,
   "metadata": {},
   "outputs": [],
   "source": [
    "N=len(dbfields)"
   ]
  },
  {
   "cell_type": "code",
   "execution_count": 147,
   "metadata": {},
   "outputs": [],
   "source": [
    "for index in np.arange(N):\n",
    "    fieldname=dbfields[index]\n",
    "    data=bundles[GName].metricValues[0][fieldname]\n",
    "    df[fieldname]=data"
   ]
  },
  {
   "cell_type": "code",
   "execution_count": 148,
   "metadata": {},
   "outputs": [
    {
     "data": {
      "text/html": [
       "<div>\n",
       "<style scoped>\n",
       "    .dataframe tbody tr th:only-of-type {\n",
       "        vertical-align: middle;\n",
       "    }\n",
       "\n",
       "    .dataframe tbody tr th {\n",
       "        vertical-align: top;\n",
       "    }\n",
       "\n",
       "    .dataframe thead th {\n",
       "        text-align: right;\n",
       "    }\n",
       "</style>\n",
       "<table border=\"1\" class=\"dataframe\">\n",
       "  <thead>\n",
       "    <tr style=\"text-align: right;\">\n",
       "      <th></th>\n",
       "      <th>observationId</th>\n",
       "      <th>night</th>\n",
       "      <th>observationStartMJD</th>\n",
       "      <th>fiveSigmaDepth</th>\n",
       "      <th>filter</th>\n",
       "      <th>airmass</th>\n",
       "      <th>skyBrightness</th>\n",
       "      <th>seeingFwhmEff</th>\n",
       "      <th>fieldId</th>\n",
       "      <th>fieldRA</th>\n",
       "      <th>fieldDec</th>\n",
       "    </tr>\n",
       "  </thead>\n",
       "  <tbody>\n",
       "    <tr>\n",
       "      <th>0</th>\n",
       "      <td>1923</td>\n",
       "      <td>3</td>\n",
       "      <td>59856.353356</td>\n",
       "      <td>24.032268</td>\n",
       "      <td>r</td>\n",
       "      <td>1.281545</td>\n",
       "      <td>21.065518</td>\n",
       "      <td>1.022068</td>\n",
       "      <td>-1</td>\n",
       "      <td>75.645541</td>\n",
       "      <td>-68.796842</td>\n",
       "    </tr>\n",
       "    <tr>\n",
       "      <th>1</th>\n",
       "      <td>1996</td>\n",
       "      <td>3</td>\n",
       "      <td>59856.387608</td>\n",
       "      <td>23.535707</td>\n",
       "      <td>i</td>\n",
       "      <td>1.242388</td>\n",
       "      <td>19.602172</td>\n",
       "      <td>0.770412</td>\n",
       "      <td>-1</td>\n",
       "      <td>77.676780</td>\n",
       "      <td>-66.549905</td>\n",
       "    </tr>\n",
       "    <tr>\n",
       "      <th>2</th>\n",
       "      <td>2774</td>\n",
       "      <td>4</td>\n",
       "      <td>59857.345243</td>\n",
       "      <td>23.968351</td>\n",
       "      <td>r</td>\n",
       "      <td>1.370114</td>\n",
       "      <td>21.009206</td>\n",
       "      <td>1.049511</td>\n",
       "      <td>-1</td>\n",
       "      <td>81.703694</td>\n",
       "      <td>-72.723577</td>\n",
       "    </tr>\n",
       "    <tr>\n",
       "      <th>3</th>\n",
       "      <td>2775</td>\n",
       "      <td>4</td>\n",
       "      <td>59857.345698</td>\n",
       "      <td>24.052231</td>\n",
       "      <td>r</td>\n",
       "      <td>1.275902</td>\n",
       "      <td>21.069316</td>\n",
       "      <td>1.005596</td>\n",
       "      <td>-1</td>\n",
       "      <td>71.421939</td>\n",
       "      <td>-68.581392</td>\n",
       "    </tr>\n",
       "    <tr>\n",
       "      <th>4</th>\n",
       "      <td>5117</td>\n",
       "      <td>7</td>\n",
       "      <td>59860.324066</td>\n",
       "      <td>22.102594</td>\n",
       "      <td>y</td>\n",
       "      <td>1.281857</td>\n",
       "      <td>18.145887</td>\n",
       "      <td>0.814007</td>\n",
       "      <td>-1</td>\n",
       "      <td>71.863300</td>\n",
       "      <td>-68.626264</td>\n",
       "    </tr>\n",
       "    <tr>\n",
       "      <th>...</th>\n",
       "      <td>...</td>\n",
       "      <td>...</td>\n",
       "      <td>...</td>\n",
       "      <td>...</td>\n",
       "      <td>...</td>\n",
       "      <td>...</td>\n",
       "      <td>...</td>\n",
       "      <td>...</td>\n",
       "      <td>...</td>\n",
       "      <td>...</td>\n",
       "      <td>...</td>\n",
       "    </tr>\n",
       "    <tr>\n",
       "      <th>1279</th>\n",
       "      <td>1911640</td>\n",
       "      <td>3456</td>\n",
       "      <td>63278.064273</td>\n",
       "      <td>23.659384</td>\n",
       "      <td>r</td>\n",
       "      <td>1.350042</td>\n",
       "      <td>20.930084</td>\n",
       "      <td>1.355133</td>\n",
       "      <td>-1</td>\n",
       "      <td>90.005355</td>\n",
       "      <td>-72.224572</td>\n",
       "    </tr>\n",
       "    <tr>\n",
       "      <th>1280</th>\n",
       "      <td>1912375</td>\n",
       "      <td>3457</td>\n",
       "      <td>63279.048438</td>\n",
       "      <td>23.359319</td>\n",
       "      <td>i</td>\n",
       "      <td>1.264468</td>\n",
       "      <td>20.140265</td>\n",
       "      <td>1.136952</td>\n",
       "      <td>-1</td>\n",
       "      <td>89.004168</td>\n",
       "      <td>-67.889378</td>\n",
       "    </tr>\n",
       "    <tr>\n",
       "      <th>1281</th>\n",
       "      <td>1912376</td>\n",
       "      <td>3457</td>\n",
       "      <td>63279.048885</td>\n",
       "      <td>23.208395</td>\n",
       "      <td>i</td>\n",
       "      <td>1.275802</td>\n",
       "      <td>20.131322</td>\n",
       "      <td>1.300346</td>\n",
       "      <td>-1</td>\n",
       "      <td>81.651530</td>\n",
       "      <td>-67.983175</td>\n",
       "    </tr>\n",
       "    <tr>\n",
       "      <th>1282</th>\n",
       "      <td>1912408</td>\n",
       "      <td>3457</td>\n",
       "      <td>63279.064749</td>\n",
       "      <td>22.829058</td>\n",
       "      <td>z</td>\n",
       "      <td>1.271342</td>\n",
       "      <td>19.190921</td>\n",
       "      <td>1.029019</td>\n",
       "      <td>-1</td>\n",
       "      <td>89.004168</td>\n",
       "      <td>-67.889378</td>\n",
       "    </tr>\n",
       "    <tr>\n",
       "      <th>1283</th>\n",
       "      <td>1912409</td>\n",
       "      <td>3457</td>\n",
       "      <td>63279.065195</td>\n",
       "      <td>22.812446</td>\n",
       "      <td>z</td>\n",
       "      <td>1.289846</td>\n",
       "      <td>19.178284</td>\n",
       "      <td>1.037979</td>\n",
       "      <td>-1</td>\n",
       "      <td>81.651530</td>\n",
       "      <td>-67.983175</td>\n",
       "    </tr>\n",
       "  </tbody>\n",
       "</table>\n",
       "<p>1284 rows × 11 columns</p>\n",
       "</div>"
      ],
      "text/plain": [
       "      observationId  night  observationStartMJD  fiveSigmaDepth filter  \\\n",
       "0              1923      3         59856.353356       24.032268      r   \n",
       "1              1996      3         59856.387608       23.535707      i   \n",
       "2              2774      4         59857.345243       23.968351      r   \n",
       "3              2775      4         59857.345698       24.052231      r   \n",
       "4              5117      7         59860.324066       22.102594      y   \n",
       "...             ...    ...                  ...             ...    ...   \n",
       "1279        1911640   3456         63278.064273       23.659384      r   \n",
       "1280        1912375   3457         63279.048438       23.359319      i   \n",
       "1281        1912376   3457         63279.048885       23.208395      i   \n",
       "1282        1912408   3457         63279.064749       22.829058      z   \n",
       "1283        1912409   3457         63279.065195       22.812446      z   \n",
       "\n",
       "       airmass  skyBrightness  seeingFwhmEff  fieldId    fieldRA   fieldDec  \n",
       "0     1.281545      21.065518       1.022068       -1  75.645541 -68.796842  \n",
       "1     1.242388      19.602172       0.770412       -1  77.676780 -66.549905  \n",
       "2     1.370114      21.009206       1.049511       -1  81.703694 -72.723577  \n",
       "3     1.275902      21.069316       1.005596       -1  71.421939 -68.581392  \n",
       "4     1.281857      18.145887       0.814007       -1  71.863300 -68.626264  \n",
       "...        ...            ...            ...      ...        ...        ...  \n",
       "1279  1.350042      20.930084       1.355133       -1  90.005355 -72.224572  \n",
       "1280  1.264468      20.140265       1.136952       -1  89.004168 -67.889378  \n",
       "1281  1.275802      20.131322       1.300346       -1  81.651530 -67.983175  \n",
       "1282  1.271342      19.190921       1.029019       -1  89.004168 -67.889378  \n",
       "1283  1.289846      19.178284       1.037979       -1  81.651530 -67.983175  \n",
       "\n",
       "[1284 rows x 11 columns]"
      ]
     },
     "execution_count": 148,
     "metadata": {},
     "output_type": "execute_result"
    }
   ],
   "source": [
    "df"
   ]
  },
  {
   "cell_type": "code",
   "execution_count": 149,
   "metadata": {},
   "outputs": [],
   "source": [
    "df.to_csv(pdfilename)"
   ]
  },
  {
   "cell_type": "code",
   "execution_count": 150,
   "metadata": {},
   "outputs": [
    {
     "name": "stdout",
     "output_type": "stream",
     "text": [
      "total 2680\r\n",
      "-rw-r--r--  1 dagoret  staff  193420 Apr  1 21:20 cadence_lmc_baseline_2snaps_v1_extr_v1_test.csv\r\n",
      "drwxr-xr-x  5 dagoret  staff     160 Apr  1 21:20 \u001b[1m\u001b[31moutput_galaxycadence\u001b[m\u001b[m\r\n",
      "-rw-r--r--@ 1 dagoret  staff   38281 Apr  1 21:19 ExtractLMCCadence.ipynb\r\n",
      "-rw-r--r--  1 dagoret  staff  197231 Apr  1 21:19 cadence_lmc_baseline_v1_extr_v1_test.csv\r\n",
      "-rw-r--r--@ 1 dagoret  staff   39219 Apr  1 21:18 DumpLMCCadence.ipynb\r\n",
      "-rw-r--r--  1 dagoret  staff  197231 Apr  1 21:18 cadence_lmc_baseline_v1_extr_v1.csv\r\n",
      "-rw-r--r--  1 dagoret  staff  103980 Apr  1 21:13 cadence_lmc_baseline2018a_extr_v1_test.csv\r\n",
      "-rw-r--r--  1 dagoret  staff  103980 Apr  1 21:12 cadence_lmc_baseline2018a_extr_v1.csv\r\n",
      "-rw-r--r--@ 1 dagoret  staff  132955 Apr  1 20:56 cadence_lmc_baseline_2snaps_v1.csv\r\n",
      "-rw-r--r--@ 1 dagoret  staff  134755 Jan 21 22:09 cadence_lmc_baseline_v1.csv\r\n",
      "-rw-r--r--@ 1 dagoret  staff  102924 Jan 21 22:08 cadence_lmc_baseline2018a.csv\r\n",
      "-rw-r--r--@ 1 dagoret  staff   17009 Jan 21 22:05 cadence_smc_baseline_v1.csv\r\n",
      "-rw-r--r--@ 1 dagoret  staff   20717 Jan 21 22:05 cadence_smc_baseline_2snaps_v1.csv\r\n"
     ]
    }
   ],
   "source": [
    "!ls -l -t"
   ]
  },
  {
   "cell_type": "code",
   "execution_count": null,
   "metadata": {},
   "outputs": [],
   "source": []
  }
 ],
 "metadata": {
  "kernelspec": {
   "display_name": "lsst_sims",
   "language": "python",
   "name": "lsst_sims"
  },
  "language_info": {
   "codemirror_mode": {
    "name": "ipython",
    "version": 3
   },
   "file_extension": ".py",
   "mimetype": "text/x-python",
   "name": "python",
   "nbconvert_exporter": "python",
   "pygments_lexer": "ipython3",
   "version": "3.8.8"
  },
  "toc": {
   "base_numbering": 1,
   "nav_menu": {},
   "number_sections": true,
   "sideBar": true,
   "skip_h1_title": false,
   "title_cell": "Table of Contents",
   "title_sidebar": "Contents",
   "toc_cell": false,
   "toc_position": {},
   "toc_section_display": true,
   "toc_window_display": false
  }
 },
 "nbformat": 4,
 "nbformat_minor": 4
}
