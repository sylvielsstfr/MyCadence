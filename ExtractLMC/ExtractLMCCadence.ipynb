{
 "cells": [
  {
   "cell_type": "markdown",
   "metadata": {},
   "source": [
    "# Notebook to extract LMC and SMC Cadence"
   ]
  },
  {
   "cell_type": "code",
   "execution_count": 294,
   "metadata": {},
   "outputs": [
    {
     "data": {
      "text/plain": [
       "'2.13.0.sims-59-g0a27faef'"
      ]
     },
     "execution_count": 294,
     "metadata": {},
     "output_type": "execute_result"
    }
   ],
   "source": [
    "# Check the version of MAF - the output should be version 2.4.2 or higher.\n",
    "# 'unknown' means you're running from a git repo version,\n",
    "# and have made changes to your local code\n",
    "\n",
    "import lsst.sims.maf\n",
    "lsst.sims.maf.__version__"
   ]
  },
  {
   "cell_type": "code",
   "execution_count": 295,
   "metadata": {},
   "outputs": [],
   "source": [
    "# import matplotlib to show plots inline.\n",
    "%matplotlib inline\n",
    "import matplotlib.pyplot as plt\n",
    "import numpy as np\n",
    "import pandas as pd"
   ]
  },
  {
   "cell_type": "code",
   "execution_count": 296,
   "metadata": {},
   "outputs": [],
   "source": [
    "# import our python modules\n",
    "import lsst.sims.maf.db as db\n",
    "import lsst.sims.maf.metrics as metrics\n",
    "import lsst.sims.maf.slicers as slicers\n",
    "import lsst.sims.maf.stackers as stackers\n",
    "import lsst.sims.maf.plots as plots\n",
    "import lsst.sims.maf.metricBundles as metricBundles\n",
    "\n",
    "from lsst.sims.maf.db import ResultsDb"
   ]
  },
  {
   "cell_type": "code",
   "execution_count": 297,
   "metadata": {
    "scrolled": false
   },
   "outputs": [
    {
     "name": "stdout",
     "output_type": "stream",
     "text": [
      "['/Users/dagoret/MacOSX/GitHub/LSST/MyCadence/ExtractLMC', '/cvmfs/sw.lsst.eu/darwin-x86_64/lsst_sims/sims_w_2020_31/stack/miniconda3-py37_4.8.2-1a1d771/DarwinX86/obs_lsst/19.0.0-80-g0bd2bb3+1/python', '/cvmfs/sw.lsst.eu/darwin-x86_64/lsst_sims/sims_w_2020_31/stack/miniconda3-py37_4.8.2-1a1d771/DarwinX86/ts_dateloc/master-g60a36c8d46+46/python', '/cvmfs/sw.lsst.eu/darwin-x86_64/lsst_sims/sims_w_2020_31/stack/miniconda3-py37_4.8.2-1a1d771/DarwinX86/ts_observatory_model/master-g3d307a5f45+46/python', '/cvmfs/sw.lsst.eu/darwin-x86_64/lsst_sims/sims_w_2020_31/stack/miniconda3-py37_4.8.2-1a1d771/DarwinX86/sims_almanac/master-g021b69e146+1/python', '/cvmfs/sw.lsst.eu/darwin-x86_64/lsst_sims/sims_w_2020_31/stack/miniconda3-py37_4.8.2-1a1d771/DarwinX86/sims_downtimeModel/master-g55f72efa65+17/python', '/cvmfs/sw.lsst.eu/darwin-x86_64/lsst_sims/sims_w_2020_31/stack/miniconda3-py37_4.8.2-1a1d771/DarwinX86/sims_cloudModel/master-ge3724df529+19/python', '/cvmfs/sw.lsst.eu/darwin-x86_64/lsst_sims/sims_w_2020_31/stack/miniconda3-py37_4.8.2-1a1d771/DarwinX86/sims_seeingModel/master-ga4bf72ea44+19/python', '/cvmfs/sw.lsst.eu/darwin-x86_64/lsst_sims/sims_w_2020_31/stack/miniconda3-py37_4.8.2-1a1d771/DarwinX86/sims_featureScheduler/master-g4c00c3cbe1/python', '/cvmfs/sw.lsst.eu/darwin-x86_64/lsst_sims/sims_w_2020_31/stack/miniconda3-py37_4.8.2-1a1d771/DarwinX86/sims_skybrightness_pre/2.13.0.sims-10-g460c1a4+5/python', '/cvmfs/sw.lsst.eu/darwin-x86_64/lsst_sims/sims_w_2020_31/stack/miniconda3-py37_4.8.2-1a1d771/DarwinX86/sims_skybrightness_data/2017.05.05-1-g01a98f8/python', '/cvmfs/sw.lsst.eu/darwin-x86_64/lsst_sims/sims_w_2020_31/stack/miniconda3-py37_4.8.2-1a1d771/DarwinX86/sims_skybrightness/2.13.0.sims-3-ge89ab89+5/python', '/cvmfs/sw.lsst.eu/darwin-x86_64/lsst_sims/sims_w_2020_31/stack/miniconda3-py37_4.8.2-1a1d771/DarwinX86/astropy_helpers/3.0.2.lsst-1-g9c76ab2/lib/python', '/cvmfs/sw.lsst.eu/darwin-x86_64/lsst_sims/sims_w_2020_31/stack/miniconda3-py37_4.8.2-1a1d771/DarwinX86/astropy_helpers/3.0.2.lsst-1-g9c76ab2', '/cvmfs/sw.lsst.eu/darwin-x86_64/lsst_sims/sims_w_2020_31/stack/miniconda3-py37_4.8.2-1a1d771/DarwinX86/sncosmo/1.3.0.lsst2-2-gd11e578/lib/python', '/cvmfs/sw.lsst.eu/darwin-x86_64/lsst_sims/sims_w_2020_31/stack/miniconda3-py37_4.8.2-1a1d771/DarwinX86/sims_catUtils/2.13.0.sims-11-gdaeeefda+5/python', '/cvmfs/sw.lsst.eu/darwin-x86_64/lsst_sims/sims_w_2020_31/stack/miniconda3-py37_4.8.2-1a1d771/DarwinX86/sims_GalSimInterface/2.13.0.sims-14-g29b6feb+10/python', '/cvmfs/sw.lsst.eu/darwin-x86_64/lsst_sims/sims_w_2020_31/stack/miniconda3-py37_4.8.2-1a1d771/DarwinX86/sims_survey_fields/2.13.0.sims-1-g3f5255d+5/python', '/cvmfs/sw.lsst.eu/darwin-x86_64/lsst_sims/sims_w_2020_31/stack/miniconda3-py37_4.8.2-1a1d771/DarwinX86/verify_metrics/20.0.0-2-g5e4bddd/python', '/cvmfs/sw.lsst.eu/darwin-x86_64/lsst_sims/sims_w_2020_31/stack/miniconda3-py37_4.8.2-1a1d771/DarwinX86/dax_apdb/20.0.0-1-g253301a+6/python', '/cvmfs/sw.lsst.eu/darwin-x86_64/lsst_sims/sims_w_2020_31/stack/miniconda3-py37_4.8.2-1a1d771/DarwinX86/verify/20.0.0-1-g44bc195+21/python', '/cvmfs/sw.lsst.eu/darwin-x86_64/lsst_sims/sims_w_2020_31/stack/miniconda3-py37_4.8.2-1a1d771/DarwinX86/ip_diffim/20.0.0-1-g596936a+27/python', '/cvmfs/sw.lsst.eu/darwin-x86_64/lsst_sims/sims_w_2020_31/stack/miniconda3-py37_4.8.2-1a1d771/DarwinX86/meas_deblender/20.0.0+29/python', '/cvmfs/sw.lsst.eu/darwin-x86_64/lsst_sims/sims_w_2020_31/stack/miniconda3-py37_4.8.2-1a1d771/DarwinX86/meas_astrom/20.0.0-1-gc96f8cb+28/python', '/cvmfs/sw.lsst.eu/darwin-x86_64/lsst_sims/sims_w_2020_31/stack/miniconda3-py37_4.8.2-1a1d771/DarwinX86/proxmin/lsst-dev-g79c0498783/lib/python', '/cvmfs/sw.lsst.eu/darwin-x86_64/lsst_sims/sims_w_2020_31/stack/miniconda3-py37_4.8.2-1a1d771/DarwinX86/scarlet/lsst-dev-g2f5a530ca1/lib/python', '/cvmfs/sw.lsst.eu/darwin-x86_64/lsst_sims/sims_w_2020_31/stack/miniconda3-py37_4.8.2-1a1d771/DarwinX86/meas_extensions_scarlet/20.0.0+30/python', '/cvmfs/sw.lsst.eu/darwin-x86_64/lsst_sims/sims_w_2020_31/stack/miniconda3-py37_4.8.2-1a1d771/DarwinX86/pipe_tasks/20.0.0-13-g198ee8df+1/python', '/cvmfs/sw.lsst.eu/darwin-x86_64/lsst_sims/sims_w_2020_31/stack/miniconda3-py37_4.8.2-1a1d771/DarwinX86/ip_isr/20.0.0-6-g9bcb941+4/python', '/cvmfs/sw.lsst.eu/darwin-x86_64/lsst_sims/sims_w_2020_31/stack/miniconda3-py37_4.8.2-1a1d771/DarwinX86/obs_test/20.0.0+29/python', '/cvmfs/sw.lsst.eu/darwin-x86_64/lsst_sims/sims_w_2020_31/stack/miniconda3-py37_4.8.2-1a1d771/DarwinX86/coadd_utils/20.0.0+22/python', '/cvmfs/sw.lsst.eu/darwin-x86_64/lsst_sims/sims_w_2020_31/stack/miniconda3-py37_4.8.2-1a1d771/DarwinX86/meas_base/20.0.0+22/python', '/cvmfs/sw.lsst.eu/darwin-x86_64/lsst_sims/sims_w_2020_31/stack/miniconda3-py37_4.8.2-1a1d771/DarwinX86/meas_algorithms/20.0.0-5-gc4485221+2/python', '/cvmfs/sw.lsst.eu/darwin-x86_64/lsst_sims/sims_w_2020_31/stack/miniconda3-py37_4.8.2-1a1d771/DarwinX86/skymap/20.0.0-1-gdb27ee5+6/python', '/cvmfs/sw.lsst.eu/darwin-x86_64/lsst_sims/sims_w_2020_31/stack/miniconda3-py37_4.8.2-1a1d771/DarwinX86/pipe_base/20.0.0-7-gb92c176+1/python', '/cvmfs/sw.lsst.eu/darwin-x86_64/lsst_sims/sims_w_2020_31/stack/miniconda3-py37_4.8.2-1a1d771/DarwinX86/daf_butler/19.0.0-127-g9fffe91a/python', '/cvmfs/sw.lsst.eu/darwin-x86_64/lsst_sims/sims_w_2020_31/stack/miniconda3-py37_4.8.2-1a1d771/DarwinX86/astro_metadata_translator/0.1.0-12-g03ebef7+10/python', '/cvmfs/sw.lsst.eu/darwin-x86_64/lsst_sims/sims_w_2020_31/stack/miniconda3-py37_4.8.2-1a1d771/DarwinX86/obs_base/20.0.0-24-g0eb5a41+1/python', '/cvmfs/sw.lsst.eu/darwin-x86_64/lsst_sims/sims_w_2020_31/stack/miniconda3-py37_4.8.2-1a1d771/DarwinX86/obs_lsstSim/19.0.0-4-g5b43909+17/python', '/cvmfs/sw.lsst.eu/darwin-x86_64/lsst_sims/sims_w_2020_31/stack/miniconda3-py37_4.8.2-1a1d771/DarwinX86/astshim/20.0.0+1/python', '/cvmfs/sw.lsst.eu/darwin-x86_64/lsst_sims/sims_w_2020_31/stack/miniconda3-py37_4.8.2-1a1d771/DarwinX86/pex_config/20.0.0+4/python', '/cvmfs/sw.lsst.eu/darwin-x86_64/lsst_sims/sims_w_2020_31/stack/miniconda3-py37_4.8.2-1a1d771/DarwinX86/afw/20.0.0-4-gde602ef96+5/python', '/cvmfs/sw.lsst.eu/darwin-x86_64/lsst_sims/sims_w_2020_31/stack/miniconda3-py37_4.8.2-1a1d771/DarwinX86/sphgeom/20.0.0-3-gd2e950e/python', '/cvmfs/sw.lsst.eu/darwin-x86_64/lsst_sims/sims_w_2020_31/stack/miniconda3-py37_4.8.2-1a1d771/DarwinX86/geom/20.0.0-2-gec03fae+4/python', '/cvmfs/sw.lsst.eu/darwin-x86_64/lsst_sims/sims_w_2020_31/stack/miniconda3-py37_4.8.2-1a1d771/DarwinX86/sims_coordUtils/2.13.0.sims-5-gac68177+10/python', '/cvmfs/sw.lsst.eu/darwin-x86_64/lsst_sims/sims_w_2020_31/stack/miniconda3-py37_4.8.2-1a1d771/DarwinX86/sims_photUtils/2.13.0.sims-3-g5572953+5/python', '/cvmfs/sw.lsst.eu/darwin-x86_64/lsst_sims/sims_w_2020_31/stack/miniconda3-py37_4.8.2-1a1d771/DarwinX86/pymssql/2.1.1-1-gb0e77e5/lib/python', '/cvmfs/sw.lsst.eu/darwin-x86_64/lsst_sims/sims_w_2020_31/stack/miniconda3-py37_4.8.2-1a1d771/DarwinX86/daf_base/20.0.0-1-g8a53f90+2/python', '/cvmfs/sw.lsst.eu/darwin-x86_64/lsst_sims/sims_w_2020_31/stack/miniconda3-py37_4.8.2-1a1d771/DarwinX86/pex_policy/20.0.0+4/python', '/cvmfs/sw.lsst.eu/darwin-x86_64/lsst_sims/sims_w_2020_31/stack/miniconda3-py37_4.8.2-1a1d771/DarwinX86/log/20.0.0-1-gd1c87d7+2/python', '/cvmfs/sw.lsst.eu/darwin-x86_64/lsst_sims/sims_w_2020_31/stack/miniconda3-py37_4.8.2-1a1d771/DarwinX86/daf_persistence/20.0.0+5/python', '/cvmfs/sw.lsst.eu/darwin-x86_64/lsst_sims/sims_w_2020_31/stack/miniconda3-py37_4.8.2-1a1d771/DarwinX86/sims_catalogs/2.13.0.sims-6-g00a9e00+7/python', '/cvmfs/sw.lsst.eu/darwin-x86_64/lsst_sims/sims_w_2020_31/stack/miniconda3-py37_4.8.2-1a1d771/DarwinX86/pex_exceptions/20.0.0+3/python', '/cvmfs/sw.lsst.eu/darwin-x86_64/lsst_sims/sims_w_2020_31/stack/miniconda3-py37_4.8.2-1a1d771/DarwinX86/utils/20.0.0+3/python', '/cvmfs/sw.lsst.eu/darwin-x86_64/lsst_sims/sims_w_2020_31/stack/miniconda3-py37_4.8.2-1a1d771/DarwinX86/sims_utils/2.13.0.sims-43-g0b90c3c+5/python', '/cvmfs/sw.lsst.eu/darwin-x86_64/lsst_sims/sims_w_2020_31/stack/miniconda3-py37_4.8.2-1a1d771/DarwinX86/palpy/1.8.1-1-ga780397/lib/python', '/cvmfs/sw.lsst.eu/darwin-x86_64/lsst_sims/sims_w_2020_31/stack/miniconda3-py37_4.8.2-1a1d771/DarwinX86/ephem/3.7.6.0-1-g6182364/lib/python', '/cvmfs/sw.lsst.eu/darwin-x86_64/lsst_sims/sims_w_2020_31/stack/miniconda3-py37_4.8.2-1a1d771/DarwinX86/sconsUtils/20.0.0-1-gc4fbba5/python', '/cvmfs/sw.lsst.eu/darwin-x86_64/lsst_sims/sims_w_2020_31/stack/miniconda3-py37_4.8.2-1a1d771/DarwinX86/base/20.0.0-4-g4a2362f/python', '/cvmfs/sw.lsst.eu/darwin-x86_64/lsst_sims/sims_w_2020_31/stack/miniconda3-py37_4.8.2-1a1d771/DarwinX86/sims_maf/2.13.0.sims-59-g0a27faef/python', '/cvmfs/sw.lsst.eu/darwin-x86_64/lsst_sims/sims_w_2020_31/eups/2.1.5/python', '/cvmfs/sw.lsst.eu/darwin-x86_64/lsst_sims/sims_w_2020_31/stack/miniconda3-py37_4.8.2-1a1d771/DarwinX86/astropy_helpers/3.0.2.lsst-1-g9c76ab2/lib/python/astropy_helpers-3.0.2-py3.7.egg', '/cvmfs/sw.lsst.eu/darwin-x86_64/lsst_sims/sims_w_2020_31/stack/miniconda3-py37_4.8.2-1a1d771/DarwinX86/sncosmo/1.3.0.lsst2-2-gd11e578/lib/python/sncosmo-2.1.0-py3.7-macosx-10.9-x86_64.egg', '/cvmfs/sw.lsst.eu/darwin-x86_64/lsst_sims/sims_w_2020_31/stack/miniconda3-py37_4.8.2-1a1d771/DarwinX86/sncosmo/1.3.0.lsst2-2-gd11e578/lib/python/extinction-0.4.5-py3.7-macosx-10.9-x86_64.egg', '/cvmfs/sw.lsst.eu/darwin-x86_64/lsst_sims/sims_w_2020_31/stack/miniconda3-py37_4.8.2-1a1d771/DarwinX86/pymssql/2.1.1-1-gb0e77e5/lib/python/pymssql-2.1.1-py3.7-macosx-10.9-x86_64.egg', '/cvmfs/sw.lsst.eu/darwin-x86_64/lsst_sims/sims_w_2020_31/conda/miniconda3-py37_4.8.2/envs/lsst-scipipe-1a1d771/lib/python37.zip', '/cvmfs/sw.lsst.eu/darwin-x86_64/lsst_sims/sims_w_2020_31/conda/miniconda3-py37_4.8.2/envs/lsst-scipipe-1a1d771/lib/python3.7', '/cvmfs/sw.lsst.eu/darwin-x86_64/lsst_sims/sims_w_2020_31/conda/miniconda3-py37_4.8.2/envs/lsst-scipipe-1a1d771/lib/python3.7/lib-dynload', '', '/Users/dagoret/.local/lib/python3.7/site-packages', '/cvmfs/sw.lsst.eu/darwin-x86_64/lsst_sims/sims_w_2020_31/conda/miniconda3-py37_4.8.2/envs/lsst-scipipe-1a1d771/lib/python3.7/site-packages', '/cvmfs/sw.lsst.eu/darwin-x86_64/lsst_sims/sims_w_2020_31/stack/miniconda3-py37_4.8.2-1a1d771/DarwinX86/sims_skybrightness_data/2017.05.05-1-g01a98f8/python', '/cvmfs/sw.lsst.eu/darwin-x86_64/lsst_sims/sims_w_2020_31/conda/miniconda3-py37_4.8.2/envs/lsst-scipipe-1a1d771/lib/python3.7/site-packages/IPython/extensions', '/Users/dagoret/.ipython', '/Users/dagoret/anaconda3/lib/python37.zip', '/Users/dagoret/anaconda3/lib/python3.7', '/Users/dagoret/anaconda3/lib/python3.7/lib-dynload', '', '/Users/dagoret/.local/lib/python3.7/site-packages', '/Users/dagoret/anaconda3/lib/python3.7/site-packages', '/Users/dagoret/anaconda3/lib/python3.7/site-packages/aeosa', '/Users/dagoret/anaconda3/lib/python3.7/site-packages/IPython/extensions', '/Users/dagoret/.ipython', '/Users/dagoret/anaconda3/lib/python37.zip', '/Users/dagoret/anaconda3/lib/python3.7', '/Users/dagoret/anaconda3/lib/python3.7/lib-dynload', '', '/Users/dagoret/.local/lib/python3.7/site-packages', '/Users/dagoret/anaconda3/lib/python3.7/site-packages', '/Users/dagoret/anaconda3/lib/python3.7/site-packages/aeosa', '/Users/dagoret/anaconda3/lib/python3.7/site-packages/IPython/extensions', '/Users/dagoret/.ipython', '/Users/dagoret/anaconda3/lib/python37.zip', '/Users/dagoret/anaconda3/lib/python3.7', '/Users/dagoret/anaconda3/lib/python3.7/lib-dynload', '', '/Users/dagoret/.local/lib/python3.7/site-packages', '/Users/dagoret/anaconda3/lib/python3.7/site-packages', '/Users/dagoret/anaconda3/lib/python3.7/site-packages/aeosa', '/Users/dagoret/anaconda3/lib/python3.7/site-packages/IPython/extensions', '/Users/dagoret/.ipython', '/Users/dagoret/anaconda3/lib/python37.zip', '/Users/dagoret/anaconda3/lib/python3.7', '/Users/dagoret/anaconda3/lib/python3.7/lib-dynload', '', '/Users/dagoret/.local/lib/python3.7/site-packages', '/Users/dagoret/anaconda3/lib/python3.7/site-packages', '/Users/dagoret/anaconda3/lib/python3.7/site-packages/aeosa', '/Users/dagoret/anaconda3/lib/python3.7/site-packages/IPython/extensions', '/Users/dagoret/.ipython', '/Users/dagoret/anaconda3/lib/python37.zip', '/Users/dagoret/anaconda3/lib/python3.7', '/Users/dagoret/anaconda3/lib/python3.7/lib-dynload', '', '/Users/dagoret/.local/lib/python3.7/site-packages', '/Users/dagoret/anaconda3/lib/python3.7/site-packages', '/Users/dagoret/anaconda3/lib/python3.7/site-packages/aeosa', '/Users/dagoret/anaconda3/lib/python3.7/site-packages/IPython/extensions', '/Users/dagoret/.ipython', '/Users/dagoret/anaconda3/lib/python37.zip', '/Users/dagoret/anaconda3/lib/python3.7', '/Users/dagoret/anaconda3/lib/python3.7/lib-dynload', '', '/Users/dagoret/.local/lib/python3.7/site-packages', '/Users/dagoret/anaconda3/lib/python3.7/site-packages', '/Users/dagoret/anaconda3/lib/python3.7/site-packages/aeosa', '/Users/dagoret/anaconda3/lib/python3.7/site-packages/IPython/extensions', '/Users/dagoret/.ipython', '/Users/dagoret/anaconda3/lib/python37.zip', '/Users/dagoret/anaconda3/lib/python3.7', '/Users/dagoret/anaconda3/lib/python3.7/lib-dynload', '', '/Users/dagoret/.local/lib/python3.7/site-packages', '/Users/dagoret/anaconda3/lib/python3.7/site-packages', '/Users/dagoret/anaconda3/lib/python3.7/site-packages/aeosa', '/Users/dagoret/anaconda3/lib/python3.7/site-packages/IPython/extensions', '/Users/dagoret/.ipython']\n"
     ]
    }
   ],
   "source": [
    "import sys\n",
    "print(sys.path)"
   ]
  },
  {
   "cell_type": "markdown",
   "metadata": {},
   "source": [
    "### Specify my other python path (my installation)"
   ]
  },
  {
   "cell_type": "code",
   "execution_count": 298,
   "metadata": {},
   "outputs": [],
   "source": [
    "otherpythonpaths=['/Users/dagoret/anaconda3/lib/python37.zip', '/Users/dagoret/anaconda3/lib/python3.7', '/Users/dagoret/anaconda3/lib/python3.7/lib-dynload', '', '/Users/dagoret/.local/lib/python3.7/site-packages', '/Users/dagoret/anaconda3/lib/python3.7/site-packages', '/Users/dagoret/anaconda3/lib/python3.7/site-packages/aeosa', '/Users/dagoret/anaconda3/lib/python3.7/site-packages/IPython/extensions', '/Users/dagoret/.ipython']"
   ]
  },
  {
   "cell_type": "code",
   "execution_count": 299,
   "metadata": {},
   "outputs": [],
   "source": [
    "for thepath in otherpythonpaths:\n",
    "    sys.path.append(thepath) # go to parent dir"
   ]
  },
  {
   "cell_type": "code",
   "execution_count": 300,
   "metadata": {},
   "outputs": [
    {
     "name": "stdout",
     "output_type": "stream",
     "text": [
      "The autoreload extension is already loaded. To reload it, use:\n",
      "  %reload_ext autoreload\n"
     ]
    }
   ],
   "source": [
    "%load_ext autoreload\n",
    "%autoreload 2"
   ]
  },
  {
   "cell_type": "markdown",
   "metadata": {},
   "source": [
    "# Astronomy"
   ]
  },
  {
   "cell_type": "code",
   "execution_count": 301,
   "metadata": {},
   "outputs": [],
   "source": [
    "gindex=0"
   ]
  },
  {
   "cell_type": "code",
   "execution_count": 302,
   "metadata": {},
   "outputs": [],
   "source": [
    "Galaxy_Name=[\"lmc\",\"smc\"]"
   ]
  },
  {
   "cell_type": "code",
   "execution_count": 303,
   "metadata": {},
   "outputs": [],
   "source": [
    "Galaxy_Delta_RA=[10.75,5.33]\n",
    "Galaxy_Delta_DEC=[9.17,3.083]"
   ]
  },
  {
   "cell_type": "code",
   "execution_count": 304,
   "metadata": {},
   "outputs": [],
   "source": [
    "GName=Galaxy_Name[gindex]\n",
    "galaxy_delta_ra=Galaxy_Delta_RA[gindex]\n",
    "galaxy_delta_dec=Galaxy_Delta_DEC[gindex]"
   ]
  },
  {
   "cell_type": "markdown",
   "metadata": {},
   "source": [
    "## astroquery"
   ]
  },
  {
   "cell_type": "code",
   "execution_count": 305,
   "metadata": {},
   "outputs": [],
   "source": [
    "import astroquery\n",
    "from astropy.coordinates import SkyCoord\n",
    "from astropy.coordinates import Angle"
   ]
  },
  {
   "cell_type": "code",
   "execution_count": 306,
   "metadata": {},
   "outputs": [
    {
     "name": "stdout",
     "output_type": "stream",
     "text": [
      "MAIN_ID      RA        DEC    ... COO_QUAL COO_WAVELENGTH     COO_BIBCODE    \n",
      "          \"h:m:s\"    \"d:m:s\"  ...                                            \n",
      "-------- ---------- --------- ... -------- -------------- -------------------\n",
      "NAME LMC 05 23 34.6 -69 45 22 ...        D              O 2003A&A...412...45P\n"
     ]
    }
   ],
   "source": [
    "from astroquery.simbad import Simbad\n",
    "result_table = Simbad.query_object(GName)\n",
    "result_table.pprint(show_unit=True)"
   ]
  },
  {
   "cell_type": "code",
   "execution_count": 307,
   "metadata": {},
   "outputs": [
    {
     "data": {
      "text/latex": [
       "$5^\\mathrm{h}23^\\mathrm{m}34.6^\\mathrm{s}$"
      ],
      "text/plain": [
       "<Angle 5.39294444 hourangle>"
      ]
     },
     "execution_count": 307,
     "metadata": {},
     "output_type": "execute_result"
    }
   ],
   "source": [
    "Angle(result_table[\"RA\"][0]+\" hour\")"
   ]
  },
  {
   "cell_type": "code",
   "execution_count": 308,
   "metadata": {},
   "outputs": [
    {
     "data": {
      "text/latex": [
       "$-69^\\circ45{}^\\prime22{}^{\\prime\\prime}$"
      ],
      "text/plain": [
       "<Angle -69.75611111 deg>"
      ]
     },
     "execution_count": 308,
     "metadata": {},
     "output_type": "execute_result"
    }
   ],
   "source": [
    "Angle(result_table[\"DEC\"][0]+\" degrees\")"
   ]
  },
  {
   "cell_type": "code",
   "execution_count": 309,
   "metadata": {},
   "outputs": [
    {
     "data": {
      "text/plain": [
       "<SkyCoord (ICRS): (ra, dec) in deg\n",
       "    (80.89416667, -69.75611111)>"
      ]
     },
     "execution_count": 309,
     "metadata": {},
     "output_type": "execute_result"
    }
   ],
   "source": [
    "galaxy_coord=SkyCoord(ra=result_table[\"RA\"][0]+\"hour\",dec=result_table[\"DEC\"][0]+ \"degrees\")\n",
    "galaxy_coord"
   ]
  },
  {
   "cell_type": "code",
   "execution_count": 310,
   "metadata": {},
   "outputs": [],
   "source": [
    "galaxy_ra=galaxy_coord.ra.deg\n",
    "galaxy_dec=galaxy_coord.dec.deg"
   ]
  },
  {
   "cell_type": "code",
   "execution_count": 311,
   "metadata": {},
   "outputs": [
    {
     "name": "stdout",
     "output_type": "stream",
     "text": [
      "80.89416666666666 -69.75611111111111\n"
     ]
    }
   ],
   "source": [
    "print(galaxy_ra,galaxy_dec)"
   ]
  },
  {
   "cell_type": "markdown",
   "metadata": {},
   "source": [
    "# Config"
   ]
  },
  {
   "cell_type": "markdown",
   "metadata": {},
   "source": [
    "## Database selection"
   ]
  },
  {
   "cell_type": "code",
   "execution_count": 312,
   "metadata": {},
   "outputs": [],
   "source": [
    "dbindex=2"
   ]
  },
  {
   "cell_type": "code",
   "execution_count": 313,
   "metadata": {},
   "outputs": [],
   "source": [
    "filters = ['u', 'g', 'r', 'i', 'z', 'y']\n",
    "colors = {'u': 'cyan', 'g': 'g', 'r': 'y','i': 'r', 'z': 'm', 'y': 'k'}\n",
    "Nfilt=len(filters)"
   ]
  },
  {
   "cell_type": "code",
   "execution_count": 314,
   "metadata": {},
   "outputs": [],
   "source": [
    "database=[\"baseline2018a.db\",\"baseline_v1.5_10yrs.db\",\"baseline_2snaps_v1.5_10yrs.db\"]"
   ]
  },
  {
   "cell_type": "code",
   "execution_count": 315,
   "metadata": {},
   "outputs": [],
   "source": [
    "dbfileName=database[dbindex]"
   ]
  },
  {
   "cell_type": "code",
   "execution_count": 316,
   "metadata": {},
   "outputs": [],
   "source": [
    "dbtag=dbfileName.split(\".\")[0]"
   ]
  },
  {
   "cell_type": "code",
   "execution_count": 317,
   "metadata": {},
   "outputs": [
    {
     "data": {
      "text/plain": [
       "'baseline_2snaps_v1'"
      ]
     },
     "execution_count": 317,
     "metadata": {},
     "output_type": "execute_result"
    }
   ],
   "source": [
    "dbtag"
   ]
  },
  {
   "cell_type": "markdown",
   "metadata": {},
   "source": [
    "# Prepare access to database"
   ]
  },
  {
   "cell_type": "markdown",
   "metadata": {},
   "source": [
    "## SQL Selection"
   ]
  },
  {
   "cell_type": "code",
   "execution_count": 318,
   "metadata": {},
   "outputs": [],
   "source": [
    "raCol = 'fieldRA'\n",
    "decCol = 'fieldDec'"
   ]
  },
  {
   "cell_type": "code",
   "execution_count": 319,
   "metadata": {},
   "outputs": [],
   "source": [
    "sqlWhere = \\\n",
    "    'fieldRA < %f and ' \\\n",
    "    'fieldRA > %f and ' \\\n",
    "    'fieldDEC < %f and ' \\\n",
    "    'fieldDEC > %f  ' \\\n",
    "     % (galaxy_ra+ galaxy_delta_ra/2., galaxy_ra- galaxy_delta_ra/2.,galaxy_dec+galaxy_delta_dec/2.,galaxy_dec-galaxy_delta_dec/2)"
   ]
  },
  {
   "cell_type": "code",
   "execution_count": 320,
   "metadata": {},
   "outputs": [
    {
     "data": {
      "text/plain": [
       "'fieldRA < 86.269167 and fieldRA > 75.519167 and fieldDEC < -65.171111 and fieldDEC > -74.341111  '"
      ]
     },
     "execution_count": 320,
     "metadata": {},
     "output_type": "execute_result"
    }
   ],
   "source": [
    "sqlWhere"
   ]
  },
  {
   "cell_type": "markdown",
   "metadata": {},
   "source": [
    "## Metric"
   ]
  },
  {
   "cell_type": "code",
   "execution_count": 321,
   "metadata": {},
   "outputs": [],
   "source": [
    "dbfields=['observationId','night','observationStartMJD','fiveSigmaDepth','filter','airmass','skyBrightness','seeingFwhmEff','fieldId','fieldRA','fieldDec']"
   ]
  },
  {
   "cell_type": "code",
   "execution_count": 322,
   "metadata": {},
   "outputs": [],
   "source": [
    "metric=metrics.PassMetric(cols=dbfields)"
   ]
  },
  {
   "cell_type": "markdown",
   "metadata": {},
   "source": [
    "##  Database to open"
   ]
  },
  {
   "cell_type": "code",
   "execution_count": 323,
   "metadata": {},
   "outputs": [],
   "source": [
    "opsdb = db.OpsimDatabase('/Users/dagoret/DATA/Cadence/'+dbfileName)\n",
    "outDir = 'output_galaxycadence'\n",
    "resultsDb = db.ResultsDb(outDir=outDir)"
   ]
  },
  {
   "cell_type": "markdown",
   "metadata": {},
   "source": [
    "## Slicer"
   ]
  },
  {
   "cell_type": "code",
   "execution_count": 324,
   "metadata": {},
   "outputs": [
    {
     "name": "stdout",
     "output_type": "stream",
     "text": [
      "Healpix slicer using NSIDE=512, approximate resolution 6.870973 arcminutes\n"
     ]
    }
   ],
   "source": [
    "slicer_uni=slicers.UniSlicer()\n",
    "slicer_point = slicers.UserPointsSlicer(galaxy_ra, galaxy_dec, lonCol='fieldRA', latCol='fieldDec', latLonDeg='degrees')\n",
    "nside = 512\n",
    "slicer_heal = slicers.HealpixSlicer(nside=nside, lonCol=raCol, latCol=decCol)"
   ]
  },
  {
   "cell_type": "markdown",
   "metadata": {},
   "source": [
    "# Run"
   ]
  },
  {
   "cell_type": "markdown",
   "metadata": {},
   "source": [
    "## Bundle\n",
    "\n",
    "- Bundles dict for all filter"
   ]
  },
  {
   "cell_type": "code",
   "execution_count": 325,
   "metadata": {},
   "outputs": [
    {
     "name": "stdout",
     "output_type": "stream",
     "text": [
      "{'skyBrightness', 'observationId', 'night', 'fieldRA', 'filter', 'airmass', 'observationStartMJD', 'seeingFwhmEff', 'fiveSigmaDepth', 'fieldId', 'fieldDec'}\n"
     ]
    }
   ],
   "source": [
    "bundles = {}\n",
    "bundles[GName] = metricBundles.MetricBundle(metric, slicer_uni, sqlWhere)\n",
    "print(bundles[GName].dbCols)"
   ]
  },
  {
   "cell_type": "code",
   "execution_count": 326,
   "metadata": {},
   "outputs": [],
   "source": [
    "bgroup = metricBundles.MetricBundleGroup(bundles, opsdb, outDir=outDir,resultsDb=resultsDb)"
   ]
  },
  {
   "cell_type": "code",
   "execution_count": 327,
   "metadata": {
    "scrolled": false
   },
   "outputs": [
    {
     "name": "stdout",
     "output_type": "stream",
     "text": [
      "Querying database SummaryAllProps with constraint fieldRA < 86.269167 and fieldRA > 75.519167 and fieldDEC < -65.171111 and fieldDEC > -74.341111   for columns ['skyBrightness', 'observationId', 'night', 'fieldRA', 'filter', 'airmass', 'observationStartMJD', 'seeingFwhmEff', 'fiveSigmaDepth', 'fieldId', 'fieldDec']\n",
      "Found 884 visits\n",
      "Running:  ['lmc']\n",
      "Completed metric generation.\n",
      "Running reduce methods.\n",
      "Running summary statistics.\n",
      "Completed.\n",
      "Plotting figures with \"fieldRA < 86.269167 and fieldRA > 75.519167 and fieldDEC < -65.171111 and fieldDEC > -74.341111  \" constraint now.\n",
      "Plotting complete.\n"
     ]
    },
    {
     "name": "stderr",
     "output_type": "stream",
     "text": [
      "/cvmfs/sw.lsst.eu/darwin-x86_64/lsst_sims/sims_w_2020_31/stack/miniconda3-py37_4.8.2-1a1d771/DarwinX86/sims_maf/2.13.0.sims-59-g0a27faef/python/lsst/sims/maf/db/resultsDb.py:279: UserWarning: Warning! Cannot save non-conforming summary statistic.\n",
      "  warnings.warn('Warning! Cannot save non-conforming summary statistic.')\n"
     ]
    }
   ],
   "source": [
    "bgroup.runAll()\n",
    "bgroup.plotAll(closefigs=False)"
   ]
  },
  {
   "cell_type": "code",
   "execution_count": 328,
   "metadata": {},
   "outputs": [
    {
     "name": "stdout",
     "output_type": "stream",
     "text": [
      "{'skyBrightness', 'observationId', 'night', 'fieldRA', 'filter', 'airmass', 'observationStartMJD', 'seeingFwhmEff', 'fiveSigmaDepth', 'fieldId', 'fieldDec'}\n"
     ]
    }
   ],
   "source": [
    "print(bundles[GName].dbCols)"
   ]
  },
  {
   "cell_type": "code",
   "execution_count": 329,
   "metadata": {},
   "outputs": [
    {
     "name": "stdout",
     "output_type": "stream",
     "text": [
      "884\n"
     ]
    }
   ],
   "source": [
    "print(len(bundles[GName].metricValues[0]))"
   ]
  },
  {
   "cell_type": "markdown",
   "metadata": {},
   "source": [
    "# Output"
   ]
  },
  {
   "cell_type": "code",
   "execution_count": 330,
   "metadata": {},
   "outputs": [],
   "source": [
    "pdfilename=\"cadence_\"+GName+\"_\"+dbtag+\".csv\""
   ]
  },
  {
   "cell_type": "code",
   "execution_count": 331,
   "metadata": {},
   "outputs": [
    {
     "data": {
      "text/plain": [
       "'cadence_lmc_baseline_2snaps_v1.csv'"
      ]
     },
     "execution_count": 331,
     "metadata": {},
     "output_type": "execute_result"
    }
   ],
   "source": [
    "pdfilename"
   ]
  },
  {
   "cell_type": "code",
   "execution_count": 332,
   "metadata": {},
   "outputs": [],
   "source": [
    "df  = pd.DataFrame()"
   ]
  },
  {
   "cell_type": "code",
   "execution_count": 333,
   "metadata": {},
   "outputs": [],
   "source": [
    "N=len(dbfields)"
   ]
  },
  {
   "cell_type": "code",
   "execution_count": 334,
   "metadata": {},
   "outputs": [],
   "source": [
    "for index in np.arange(N):\n",
    "    fieldname=dbfields[index]\n",
    "    data=bundles[GName].metricValues[0][fieldname]\n",
    "    df[fieldname]=data"
   ]
  },
  {
   "cell_type": "code",
   "execution_count": 335,
   "metadata": {},
   "outputs": [
    {
     "data": {
      "text/html": [
       "<div>\n",
       "<style scoped>\n",
       "    .dataframe tbody tr th:only-of-type {\n",
       "        vertical-align: middle;\n",
       "    }\n",
       "\n",
       "    .dataframe tbody tr th {\n",
       "        vertical-align: top;\n",
       "    }\n",
       "\n",
       "    .dataframe thead th {\n",
       "        text-align: right;\n",
       "    }\n",
       "</style>\n",
       "<table border=\"1\" class=\"dataframe\">\n",
       "  <thead>\n",
       "    <tr style=\"text-align: right;\">\n",
       "      <th></th>\n",
       "      <th>observationId</th>\n",
       "      <th>night</th>\n",
       "      <th>observationStartMJD</th>\n",
       "      <th>fiveSigmaDepth</th>\n",
       "      <th>filter</th>\n",
       "      <th>airmass</th>\n",
       "      <th>skyBrightness</th>\n",
       "      <th>seeingFwhmEff</th>\n",
       "      <th>fieldId</th>\n",
       "      <th>fieldRA</th>\n",
       "      <th>fieldDec</th>\n",
       "    </tr>\n",
       "  </thead>\n",
       "  <tbody>\n",
       "    <tr>\n",
       "      <th>0</th>\n",
       "      <td>1923</td>\n",
       "      <td>3</td>\n",
       "      <td>59856.353356</td>\n",
       "      <td>24.032268</td>\n",
       "      <td>r</td>\n",
       "      <td>1.281545</td>\n",
       "      <td>21.065518</td>\n",
       "      <td>1.022068</td>\n",
       "      <td>-1</td>\n",
       "      <td>75.645541</td>\n",
       "      <td>-68.796842</td>\n",
       "    </tr>\n",
       "    <tr>\n",
       "      <th>1</th>\n",
       "      <td>1996</td>\n",
       "      <td>3</td>\n",
       "      <td>59856.387608</td>\n",
       "      <td>23.535707</td>\n",
       "      <td>i</td>\n",
       "      <td>1.242388</td>\n",
       "      <td>19.602172</td>\n",
       "      <td>0.770412</td>\n",
       "      <td>-1</td>\n",
       "      <td>77.676780</td>\n",
       "      <td>-66.549905</td>\n",
       "    </tr>\n",
       "    <tr>\n",
       "      <th>2</th>\n",
       "      <td>2774</td>\n",
       "      <td>4</td>\n",
       "      <td>59857.345243</td>\n",
       "      <td>23.968351</td>\n",
       "      <td>r</td>\n",
       "      <td>1.370114</td>\n",
       "      <td>21.009206</td>\n",
       "      <td>1.049511</td>\n",
       "      <td>-1</td>\n",
       "      <td>81.703694</td>\n",
       "      <td>-72.723577</td>\n",
       "    </tr>\n",
       "    <tr>\n",
       "      <th>3</th>\n",
       "      <td>5118</td>\n",
       "      <td>7</td>\n",
       "      <td>59860.324514</td>\n",
       "      <td>22.058213</td>\n",
       "      <td>y</td>\n",
       "      <td>1.331340</td>\n",
       "      <td>18.122261</td>\n",
       "      <td>0.832718</td>\n",
       "      <td>-1</td>\n",
       "      <td>76.870936</td>\n",
       "      <td>-70.849632</td>\n",
       "    </tr>\n",
       "    <tr>\n",
       "      <th>4</th>\n",
       "      <td>5151</td>\n",
       "      <td>7</td>\n",
       "      <td>59860.339312</td>\n",
       "      <td>21.959946</td>\n",
       "      <td>y</td>\n",
       "      <td>1.322429</td>\n",
       "      <td>18.133994</td>\n",
       "      <td>0.917603</td>\n",
       "      <td>-1</td>\n",
       "      <td>76.870936</td>\n",
       "      <td>-70.849632</td>\n",
       "    </tr>\n",
       "    <tr>\n",
       "      <th>...</th>\n",
       "      <td>...</td>\n",
       "      <td>...</td>\n",
       "      <td>...</td>\n",
       "      <td>...</td>\n",
       "      <td>...</td>\n",
       "      <td>...</td>\n",
       "      <td>...</td>\n",
       "      <td>...</td>\n",
       "      <td>...</td>\n",
       "      <td>...</td>\n",
       "      <td>...</td>\n",
       "    </tr>\n",
       "    <tr>\n",
       "      <th>879</th>\n",
       "      <td>1906366</td>\n",
       "      <td>3448</td>\n",
       "      <td>63270.075081</td>\n",
       "      <td>24.359166</td>\n",
       "      <td>r</td>\n",
       "      <td>1.370181</td>\n",
       "      <td>20.982480</td>\n",
       "      <td>0.724566</td>\n",
       "      <td>-1</td>\n",
       "      <td>84.816239</td>\n",
       "      <td>-73.092064</td>\n",
       "    </tr>\n",
       "    <tr>\n",
       "      <th>880</th>\n",
       "      <td>1906375</td>\n",
       "      <td>3448</td>\n",
       "      <td>63270.080472</td>\n",
       "      <td>23.714679</td>\n",
       "      <td>u</td>\n",
       "      <td>1.241531</td>\n",
       "      <td>22.633160</td>\n",
       "      <td>0.804692</td>\n",
       "      <td>-1</td>\n",
       "      <td>85.143745</td>\n",
       "      <td>-65.964410</td>\n",
       "    </tr>\n",
       "    <tr>\n",
       "      <th>881</th>\n",
       "      <td>1906408</td>\n",
       "      <td>3448</td>\n",
       "      <td>63270.097051</td>\n",
       "      <td>24.824610</td>\n",
       "      <td>g</td>\n",
       "      <td>1.255346</td>\n",
       "      <td>22.158383</td>\n",
       "      <td>0.783529</td>\n",
       "      <td>-1</td>\n",
       "      <td>85.143745</td>\n",
       "      <td>-65.964410</td>\n",
       "    </tr>\n",
       "    <tr>\n",
       "      <th>882</th>\n",
       "      <td>1912376</td>\n",
       "      <td>3457</td>\n",
       "      <td>63279.048885</td>\n",
       "      <td>23.208395</td>\n",
       "      <td>i</td>\n",
       "      <td>1.275802</td>\n",
       "      <td>20.131322</td>\n",
       "      <td>1.300346</td>\n",
       "      <td>-1</td>\n",
       "      <td>81.651530</td>\n",
       "      <td>-67.983175</td>\n",
       "    </tr>\n",
       "    <tr>\n",
       "      <th>883</th>\n",
       "      <td>1912409</td>\n",
       "      <td>3457</td>\n",
       "      <td>63279.065195</td>\n",
       "      <td>22.812446</td>\n",
       "      <td>z</td>\n",
       "      <td>1.289846</td>\n",
       "      <td>19.178284</td>\n",
       "      <td>1.037979</td>\n",
       "      <td>-1</td>\n",
       "      <td>81.651530</td>\n",
       "      <td>-67.983175</td>\n",
       "    </tr>\n",
       "  </tbody>\n",
       "</table>\n",
       "<p>884 rows × 11 columns</p>\n",
       "</div>"
      ],
      "text/plain": [
       "     observationId  night  observationStartMJD  fiveSigmaDepth filter  \\\n",
       "0             1923      3         59856.353356       24.032268      r   \n",
       "1             1996      3         59856.387608       23.535707      i   \n",
       "2             2774      4         59857.345243       23.968351      r   \n",
       "3             5118      7         59860.324514       22.058213      y   \n",
       "4             5151      7         59860.339312       21.959946      y   \n",
       "..             ...    ...                  ...             ...    ...   \n",
       "879        1906366   3448         63270.075081       24.359166      r   \n",
       "880        1906375   3448         63270.080472       23.714679      u   \n",
       "881        1906408   3448         63270.097051       24.824610      g   \n",
       "882        1912376   3457         63279.048885       23.208395      i   \n",
       "883        1912409   3457         63279.065195       22.812446      z   \n",
       "\n",
       "      airmass  skyBrightness  seeingFwhmEff  fieldId    fieldRA   fieldDec  \n",
       "0    1.281545      21.065518       1.022068       -1  75.645541 -68.796842  \n",
       "1    1.242388      19.602172       0.770412       -1  77.676780 -66.549905  \n",
       "2    1.370114      21.009206       1.049511       -1  81.703694 -72.723577  \n",
       "3    1.331340      18.122261       0.832718       -1  76.870936 -70.849632  \n",
       "4    1.322429      18.133994       0.917603       -1  76.870936 -70.849632  \n",
       "..        ...            ...            ...      ...        ...        ...  \n",
       "879  1.370181      20.982480       0.724566       -1  84.816239 -73.092064  \n",
       "880  1.241531      22.633160       0.804692       -1  85.143745 -65.964410  \n",
       "881  1.255346      22.158383       0.783529       -1  85.143745 -65.964410  \n",
       "882  1.275802      20.131322       1.300346       -1  81.651530 -67.983175  \n",
       "883  1.289846      19.178284       1.037979       -1  81.651530 -67.983175  \n",
       "\n",
       "[884 rows x 11 columns]"
      ]
     },
     "execution_count": 335,
     "metadata": {},
     "output_type": "execute_result"
    }
   ],
   "source": [
    "df"
   ]
  },
  {
   "cell_type": "code",
   "execution_count": 336,
   "metadata": {},
   "outputs": [],
   "source": [
    "df.to_csv(pdfilename)"
   ]
  },
  {
   "cell_type": "code",
   "execution_count": 337,
   "metadata": {},
   "outputs": [
    {
     "name": "stdout",
     "output_type": "stream",
     "text": [
      "total 976\r\n",
      "-rw-r--r--  1 dagoret  staff  132955 Jan 21 22:09 cadence_lmc_baseline_2snaps_v1.csv\r\n",
      "drwxr-xr-x  7 dagoret  staff     224 Jan 21 22:09 \u001b[1m\u001b[31moutput_galaxycadence\u001b[m\u001b[m\r\n",
      "-rw-r--r--  1 dagoret  staff   38837 Jan 21 22:09 ExtractLMCCadence.ipynb\r\n",
      "-rw-r--r--  1 dagoret  staff  134755 Jan 21 22:09 cadence_lmc_baseline_v1.csv\r\n",
      "-rw-r--r--  1 dagoret  staff  102924 Jan 21 22:08 cadence_lmc_baseline2018a.csv\r\n",
      "-rw-r--r--  1 dagoret  staff   17009 Jan 21 22:05 cadence_smc_baseline_v1.csv\r\n",
      "-rw-r--r--  1 dagoret  staff   20717 Jan 21 22:05 cadence_smc_baseline_2snaps_v1.csv\r\n",
      "drwxr-xr-x  4 dagoret  staff     128 Jan 21 21:57 \u001b[1m\u001b[31mExtractLMC\u001b[m\u001b[m\r\n",
      "-rw-r--r--  1 dagoret  staff    6508 Jan 21 21:55 ExtractLMC.zip\r\n"
     ]
    }
   ],
   "source": [
    "!ls -l -t"
   ]
  },
  {
   "cell_type": "code",
   "execution_count": null,
   "metadata": {},
   "outputs": [],
   "source": []
  }
 ],
 "metadata": {
  "kernelspec": {
   "display_name": "lsst_sims",
   "language": "python",
   "name": "lsst_sims"
  },
  "language_info": {
   "codemirror_mode": {
    "name": "ipython",
    "version": 3
   },
   "file_extension": ".py",
   "mimetype": "text/x-python",
   "name": "python",
   "nbconvert_exporter": "python",
   "pygments_lexer": "ipython3",
   "version": "3.7.6"
  },
  "toc": {
   "base_numbering": 1,
   "nav_menu": {},
   "number_sections": true,
   "sideBar": true,
   "skip_h1_title": false,
   "title_cell": "Table of Contents",
   "title_sidebar": "Contents",
   "toc_cell": false,
   "toc_position": {},
   "toc_section_display": true,
   "toc_window_display": false
  }
 },
 "nbformat": 4,
 "nbformat_minor": 4
}
