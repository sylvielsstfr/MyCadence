{
 "cells": [
  {
   "cell_type": "markdown",
   "metadata": {},
   "source": [
    "# Notebook to extract LMC Cadence"
   ]
  },
  {
   "cell_type": "code",
   "execution_count": 1,
   "metadata": {},
   "outputs": [
    {
     "data": {
      "text/plain": [
       "'2.13.0.sims-59-g0a27faef'"
      ]
     },
     "execution_count": 1,
     "metadata": {},
     "output_type": "execute_result"
    }
   ],
   "source": [
    "# Check the version of MAF - the output should be version 2.4.2 or higher.\n",
    "# 'unknown' means you're running from a git repo version,\n",
    "# and have made changes to your local code\n",
    "\n",
    "import lsst.sims.maf\n",
    "lsst.sims.maf.__version__"
   ]
  },
  {
   "cell_type": "code",
   "execution_count": 2,
   "metadata": {},
   "outputs": [],
   "source": [
    "# import matplotlib to show plots inline.\n",
    "%matplotlib inline\n",
    "import matplotlib.pyplot as plt\n",
    "import numpy as np"
   ]
  },
  {
   "cell_type": "code",
   "execution_count": 3,
   "metadata": {},
   "outputs": [],
   "source": [
    "# import our python modules\n",
    "import lsst.sims.maf.db as db\n",
    "import lsst.sims.maf.metrics as metrics\n",
    "import lsst.sims.maf.slicers as slicers\n",
    "import lsst.sims.maf.stackers as stackers\n",
    "import lsst.sims.maf.plots as plots\n",
    "import lsst.sims.maf.metricBundles as metricBundles\n",
    "\n",
    "from lsst.sims.maf.db import ResultsDb"
   ]
  },
  {
   "cell_type": "code",
   "execution_count": 4,
   "metadata": {
    "scrolled": false
   },
   "outputs": [
    {
     "name": "stdout",
     "output_type": "stream",
     "text": [
      "['/Users/dagoret/MacOSX/GitHub/LSST/MyCadence/ExtractLMC', '/cvmfs/sw.lsst.eu/darwin-x86_64/lsst_sims/sims_w_2020_31/stack/miniconda3-py37_4.8.2-1a1d771/DarwinX86/obs_lsst/19.0.0-80-g0bd2bb3+1/python', '/cvmfs/sw.lsst.eu/darwin-x86_64/lsst_sims/sims_w_2020_31/stack/miniconda3-py37_4.8.2-1a1d771/DarwinX86/ts_dateloc/master-g60a36c8d46+46/python', '/cvmfs/sw.lsst.eu/darwin-x86_64/lsst_sims/sims_w_2020_31/stack/miniconda3-py37_4.8.2-1a1d771/DarwinX86/ts_observatory_model/master-g3d307a5f45+46/python', '/cvmfs/sw.lsst.eu/darwin-x86_64/lsst_sims/sims_w_2020_31/stack/miniconda3-py37_4.8.2-1a1d771/DarwinX86/sims_almanac/master-g021b69e146+1/python', '/cvmfs/sw.lsst.eu/darwin-x86_64/lsst_sims/sims_w_2020_31/stack/miniconda3-py37_4.8.2-1a1d771/DarwinX86/sims_downtimeModel/master-g55f72efa65+17/python', '/cvmfs/sw.lsst.eu/darwin-x86_64/lsst_sims/sims_w_2020_31/stack/miniconda3-py37_4.8.2-1a1d771/DarwinX86/sims_cloudModel/master-ge3724df529+19/python', '/cvmfs/sw.lsst.eu/darwin-x86_64/lsst_sims/sims_w_2020_31/stack/miniconda3-py37_4.8.2-1a1d771/DarwinX86/sims_seeingModel/master-ga4bf72ea44+19/python', '/cvmfs/sw.lsst.eu/darwin-x86_64/lsst_sims/sims_w_2020_31/stack/miniconda3-py37_4.8.2-1a1d771/DarwinX86/sims_featureScheduler/master-g4c00c3cbe1/python', '/cvmfs/sw.lsst.eu/darwin-x86_64/lsst_sims/sims_w_2020_31/stack/miniconda3-py37_4.8.2-1a1d771/DarwinX86/sims_skybrightness_pre/2.13.0.sims-10-g460c1a4+5/python', '/cvmfs/sw.lsst.eu/darwin-x86_64/lsst_sims/sims_w_2020_31/stack/miniconda3-py37_4.8.2-1a1d771/DarwinX86/sims_skybrightness_data/2017.05.05-1-g01a98f8/python', '/cvmfs/sw.lsst.eu/darwin-x86_64/lsst_sims/sims_w_2020_31/stack/miniconda3-py37_4.8.2-1a1d771/DarwinX86/sims_skybrightness/2.13.0.sims-3-ge89ab89+5/python', '/cvmfs/sw.lsst.eu/darwin-x86_64/lsst_sims/sims_w_2020_31/stack/miniconda3-py37_4.8.2-1a1d771/DarwinX86/astropy_helpers/3.0.2.lsst-1-g9c76ab2/lib/python', '/cvmfs/sw.lsst.eu/darwin-x86_64/lsst_sims/sims_w_2020_31/stack/miniconda3-py37_4.8.2-1a1d771/DarwinX86/astropy_helpers/3.0.2.lsst-1-g9c76ab2', '/cvmfs/sw.lsst.eu/darwin-x86_64/lsst_sims/sims_w_2020_31/stack/miniconda3-py37_4.8.2-1a1d771/DarwinX86/sncosmo/1.3.0.lsst2-2-gd11e578/lib/python', '/cvmfs/sw.lsst.eu/darwin-x86_64/lsst_sims/sims_w_2020_31/stack/miniconda3-py37_4.8.2-1a1d771/DarwinX86/sims_catUtils/2.13.0.sims-11-gdaeeefda+5/python', '/cvmfs/sw.lsst.eu/darwin-x86_64/lsst_sims/sims_w_2020_31/stack/miniconda3-py37_4.8.2-1a1d771/DarwinX86/sims_GalSimInterface/2.13.0.sims-14-g29b6feb+10/python', '/cvmfs/sw.lsst.eu/darwin-x86_64/lsst_sims/sims_w_2020_31/stack/miniconda3-py37_4.8.2-1a1d771/DarwinX86/sims_survey_fields/2.13.0.sims-1-g3f5255d+5/python', '/cvmfs/sw.lsst.eu/darwin-x86_64/lsst_sims/sims_w_2020_31/stack/miniconda3-py37_4.8.2-1a1d771/DarwinX86/verify_metrics/20.0.0-2-g5e4bddd/python', '/cvmfs/sw.lsst.eu/darwin-x86_64/lsst_sims/sims_w_2020_31/stack/miniconda3-py37_4.8.2-1a1d771/DarwinX86/dax_apdb/20.0.0-1-g253301a+6/python', '/cvmfs/sw.lsst.eu/darwin-x86_64/lsst_sims/sims_w_2020_31/stack/miniconda3-py37_4.8.2-1a1d771/DarwinX86/verify/20.0.0-1-g44bc195+21/python', '/cvmfs/sw.lsst.eu/darwin-x86_64/lsst_sims/sims_w_2020_31/stack/miniconda3-py37_4.8.2-1a1d771/DarwinX86/ip_diffim/20.0.0-1-g596936a+27/python', '/cvmfs/sw.lsst.eu/darwin-x86_64/lsst_sims/sims_w_2020_31/stack/miniconda3-py37_4.8.2-1a1d771/DarwinX86/meas_deblender/20.0.0+29/python', '/cvmfs/sw.lsst.eu/darwin-x86_64/lsst_sims/sims_w_2020_31/stack/miniconda3-py37_4.8.2-1a1d771/DarwinX86/meas_astrom/20.0.0-1-gc96f8cb+28/python', '/cvmfs/sw.lsst.eu/darwin-x86_64/lsst_sims/sims_w_2020_31/stack/miniconda3-py37_4.8.2-1a1d771/DarwinX86/proxmin/lsst-dev-g79c0498783/lib/python', '/cvmfs/sw.lsst.eu/darwin-x86_64/lsst_sims/sims_w_2020_31/stack/miniconda3-py37_4.8.2-1a1d771/DarwinX86/scarlet/lsst-dev-g2f5a530ca1/lib/python', '/cvmfs/sw.lsst.eu/darwin-x86_64/lsst_sims/sims_w_2020_31/stack/miniconda3-py37_4.8.2-1a1d771/DarwinX86/meas_extensions_scarlet/20.0.0+30/python', '/cvmfs/sw.lsst.eu/darwin-x86_64/lsst_sims/sims_w_2020_31/stack/miniconda3-py37_4.8.2-1a1d771/DarwinX86/pipe_tasks/20.0.0-13-g198ee8df+1/python', '/cvmfs/sw.lsst.eu/darwin-x86_64/lsst_sims/sims_w_2020_31/stack/miniconda3-py37_4.8.2-1a1d771/DarwinX86/ip_isr/20.0.0-6-g9bcb941+4/python', '/cvmfs/sw.lsst.eu/darwin-x86_64/lsst_sims/sims_w_2020_31/stack/miniconda3-py37_4.8.2-1a1d771/DarwinX86/obs_test/20.0.0+29/python', '/cvmfs/sw.lsst.eu/darwin-x86_64/lsst_sims/sims_w_2020_31/stack/miniconda3-py37_4.8.2-1a1d771/DarwinX86/coadd_utils/20.0.0+22/python', '/cvmfs/sw.lsst.eu/darwin-x86_64/lsst_sims/sims_w_2020_31/stack/miniconda3-py37_4.8.2-1a1d771/DarwinX86/meas_base/20.0.0+22/python', '/cvmfs/sw.lsst.eu/darwin-x86_64/lsst_sims/sims_w_2020_31/stack/miniconda3-py37_4.8.2-1a1d771/DarwinX86/meas_algorithms/20.0.0-5-gc4485221+2/python', '/cvmfs/sw.lsst.eu/darwin-x86_64/lsst_sims/sims_w_2020_31/stack/miniconda3-py37_4.8.2-1a1d771/DarwinX86/skymap/20.0.0-1-gdb27ee5+6/python', '/cvmfs/sw.lsst.eu/darwin-x86_64/lsst_sims/sims_w_2020_31/stack/miniconda3-py37_4.8.2-1a1d771/DarwinX86/pipe_base/20.0.0-7-gb92c176+1/python', '/cvmfs/sw.lsst.eu/darwin-x86_64/lsst_sims/sims_w_2020_31/stack/miniconda3-py37_4.8.2-1a1d771/DarwinX86/daf_butler/19.0.0-127-g9fffe91a/python', '/cvmfs/sw.lsst.eu/darwin-x86_64/lsst_sims/sims_w_2020_31/stack/miniconda3-py37_4.8.2-1a1d771/DarwinX86/astro_metadata_translator/0.1.0-12-g03ebef7+10/python', '/cvmfs/sw.lsst.eu/darwin-x86_64/lsst_sims/sims_w_2020_31/stack/miniconda3-py37_4.8.2-1a1d771/DarwinX86/obs_base/20.0.0-24-g0eb5a41+1/python', '/cvmfs/sw.lsst.eu/darwin-x86_64/lsst_sims/sims_w_2020_31/stack/miniconda3-py37_4.8.2-1a1d771/DarwinX86/obs_lsstSim/19.0.0-4-g5b43909+17/python', '/cvmfs/sw.lsst.eu/darwin-x86_64/lsst_sims/sims_w_2020_31/stack/miniconda3-py37_4.8.2-1a1d771/DarwinX86/astshim/20.0.0+1/python', '/cvmfs/sw.lsst.eu/darwin-x86_64/lsst_sims/sims_w_2020_31/stack/miniconda3-py37_4.8.2-1a1d771/DarwinX86/pex_config/20.0.0+4/python', '/cvmfs/sw.lsst.eu/darwin-x86_64/lsst_sims/sims_w_2020_31/stack/miniconda3-py37_4.8.2-1a1d771/DarwinX86/afw/20.0.0-4-gde602ef96+5/python', '/cvmfs/sw.lsst.eu/darwin-x86_64/lsst_sims/sims_w_2020_31/stack/miniconda3-py37_4.8.2-1a1d771/DarwinX86/sphgeom/20.0.0-3-gd2e950e/python', '/cvmfs/sw.lsst.eu/darwin-x86_64/lsst_sims/sims_w_2020_31/stack/miniconda3-py37_4.8.2-1a1d771/DarwinX86/geom/20.0.0-2-gec03fae+4/python', '/cvmfs/sw.lsst.eu/darwin-x86_64/lsst_sims/sims_w_2020_31/stack/miniconda3-py37_4.8.2-1a1d771/DarwinX86/sims_coordUtils/2.13.0.sims-5-gac68177+10/python', '/cvmfs/sw.lsst.eu/darwin-x86_64/lsst_sims/sims_w_2020_31/stack/miniconda3-py37_4.8.2-1a1d771/DarwinX86/sims_photUtils/2.13.0.sims-3-g5572953+5/python', '/cvmfs/sw.lsst.eu/darwin-x86_64/lsst_sims/sims_w_2020_31/stack/miniconda3-py37_4.8.2-1a1d771/DarwinX86/pymssql/2.1.1-1-gb0e77e5/lib/python', '/cvmfs/sw.lsst.eu/darwin-x86_64/lsst_sims/sims_w_2020_31/stack/miniconda3-py37_4.8.2-1a1d771/DarwinX86/daf_base/20.0.0-1-g8a53f90+2/python', '/cvmfs/sw.lsst.eu/darwin-x86_64/lsst_sims/sims_w_2020_31/stack/miniconda3-py37_4.8.2-1a1d771/DarwinX86/pex_policy/20.0.0+4/python', '/cvmfs/sw.lsst.eu/darwin-x86_64/lsst_sims/sims_w_2020_31/stack/miniconda3-py37_4.8.2-1a1d771/DarwinX86/log/20.0.0-1-gd1c87d7+2/python', '/cvmfs/sw.lsst.eu/darwin-x86_64/lsst_sims/sims_w_2020_31/stack/miniconda3-py37_4.8.2-1a1d771/DarwinX86/daf_persistence/20.0.0+5/python', '/cvmfs/sw.lsst.eu/darwin-x86_64/lsst_sims/sims_w_2020_31/stack/miniconda3-py37_4.8.2-1a1d771/DarwinX86/sims_catalogs/2.13.0.sims-6-g00a9e00+7/python', '/cvmfs/sw.lsst.eu/darwin-x86_64/lsst_sims/sims_w_2020_31/stack/miniconda3-py37_4.8.2-1a1d771/DarwinX86/pex_exceptions/20.0.0+3/python', '/cvmfs/sw.lsst.eu/darwin-x86_64/lsst_sims/sims_w_2020_31/stack/miniconda3-py37_4.8.2-1a1d771/DarwinX86/utils/20.0.0+3/python', '/cvmfs/sw.lsst.eu/darwin-x86_64/lsst_sims/sims_w_2020_31/stack/miniconda3-py37_4.8.2-1a1d771/DarwinX86/sims_utils/2.13.0.sims-43-g0b90c3c+5/python', '/cvmfs/sw.lsst.eu/darwin-x86_64/lsst_sims/sims_w_2020_31/stack/miniconda3-py37_4.8.2-1a1d771/DarwinX86/palpy/1.8.1-1-ga780397/lib/python', '/cvmfs/sw.lsst.eu/darwin-x86_64/lsst_sims/sims_w_2020_31/stack/miniconda3-py37_4.8.2-1a1d771/DarwinX86/ephem/3.7.6.0-1-g6182364/lib/python', '/cvmfs/sw.lsst.eu/darwin-x86_64/lsst_sims/sims_w_2020_31/stack/miniconda3-py37_4.8.2-1a1d771/DarwinX86/sconsUtils/20.0.0-1-gc4fbba5/python', '/cvmfs/sw.lsst.eu/darwin-x86_64/lsst_sims/sims_w_2020_31/stack/miniconda3-py37_4.8.2-1a1d771/DarwinX86/base/20.0.0-4-g4a2362f/python', '/cvmfs/sw.lsst.eu/darwin-x86_64/lsst_sims/sims_w_2020_31/stack/miniconda3-py37_4.8.2-1a1d771/DarwinX86/sims_maf/2.13.0.sims-59-g0a27faef/python', '/cvmfs/sw.lsst.eu/darwin-x86_64/lsst_sims/sims_w_2020_31/eups/2.1.5/python', '/cvmfs/sw.lsst.eu/darwin-x86_64/lsst_sims/sims_w_2020_31/stack/miniconda3-py37_4.8.2-1a1d771/DarwinX86/astropy_helpers/3.0.2.lsst-1-g9c76ab2/lib/python/astropy_helpers-3.0.2-py3.7.egg', '/cvmfs/sw.lsst.eu/darwin-x86_64/lsst_sims/sims_w_2020_31/stack/miniconda3-py37_4.8.2-1a1d771/DarwinX86/sncosmo/1.3.0.lsst2-2-gd11e578/lib/python/sncosmo-2.1.0-py3.7-macosx-10.9-x86_64.egg', '/cvmfs/sw.lsst.eu/darwin-x86_64/lsst_sims/sims_w_2020_31/stack/miniconda3-py37_4.8.2-1a1d771/DarwinX86/sncosmo/1.3.0.lsst2-2-gd11e578/lib/python/extinction-0.4.5-py3.7-macosx-10.9-x86_64.egg', '/cvmfs/sw.lsst.eu/darwin-x86_64/lsst_sims/sims_w_2020_31/stack/miniconda3-py37_4.8.2-1a1d771/DarwinX86/pymssql/2.1.1-1-gb0e77e5/lib/python/pymssql-2.1.1-py3.7-macosx-10.9-x86_64.egg', '/cvmfs/sw.lsst.eu/darwin-x86_64/lsst_sims/sims_w_2020_31/conda/miniconda3-py37_4.8.2/envs/lsst-scipipe-1a1d771/lib/python37.zip', '/cvmfs/sw.lsst.eu/darwin-x86_64/lsst_sims/sims_w_2020_31/conda/miniconda3-py37_4.8.2/envs/lsst-scipipe-1a1d771/lib/python3.7', '/cvmfs/sw.lsst.eu/darwin-x86_64/lsst_sims/sims_w_2020_31/conda/miniconda3-py37_4.8.2/envs/lsst-scipipe-1a1d771/lib/python3.7/lib-dynload', '', '/Users/dagoret/.local/lib/python3.7/site-packages', '/cvmfs/sw.lsst.eu/darwin-x86_64/lsst_sims/sims_w_2020_31/conda/miniconda3-py37_4.8.2/envs/lsst-scipipe-1a1d771/lib/python3.7/site-packages', '/cvmfs/sw.lsst.eu/darwin-x86_64/lsst_sims/sims_w_2020_31/stack/miniconda3-py37_4.8.2-1a1d771/DarwinX86/sims_skybrightness_data/2017.05.05-1-g01a98f8/python', '/cvmfs/sw.lsst.eu/darwin-x86_64/lsst_sims/sims_w_2020_31/conda/miniconda3-py37_4.8.2/envs/lsst-scipipe-1a1d771/lib/python3.7/site-packages/IPython/extensions', '/Users/dagoret/.ipython']\n"
     ]
    }
   ],
   "source": [
    "import sys\n",
    "print(sys.path)"
   ]
  },
  {
   "cell_type": "markdown",
   "metadata": {},
   "source": [
    "### Specify my other python path (my installation)"
   ]
  },
  {
   "cell_type": "code",
   "execution_count": 5,
   "metadata": {},
   "outputs": [],
   "source": [
    "otherpythonpaths=['/Users/dagoret/anaconda3/lib/python37.zip', '/Users/dagoret/anaconda3/lib/python3.7', '/Users/dagoret/anaconda3/lib/python3.7/lib-dynload', '', '/Users/dagoret/.local/lib/python3.7/site-packages', '/Users/dagoret/anaconda3/lib/python3.7/site-packages', '/Users/dagoret/anaconda3/lib/python3.7/site-packages/aeosa', '/Users/dagoret/anaconda3/lib/python3.7/site-packages/IPython/extensions', '/Users/dagoret/.ipython']"
   ]
  },
  {
   "cell_type": "code",
   "execution_count": 6,
   "metadata": {},
   "outputs": [],
   "source": [
    "for thepath in otherpythonpaths:\n",
    "    sys.path.append(thepath) # go to parent dir"
   ]
  },
  {
   "cell_type": "code",
   "execution_count": 7,
   "metadata": {},
   "outputs": [],
   "source": [
    "%load_ext autoreload\n",
    "%autoreload 2"
   ]
  },
  {
   "cell_type": "markdown",
   "metadata": {},
   "source": [
    "## astroquery"
   ]
  },
  {
   "cell_type": "code",
   "execution_count": 8,
   "metadata": {},
   "outputs": [],
   "source": [
    "import astroquery\n",
    "from astropy.coordinates import SkyCoord\n",
    "from astropy.coordinates import Angle"
   ]
  },
  {
   "cell_type": "code",
   "execution_count": 9,
   "metadata": {},
   "outputs": [
    {
     "name": "stdout",
     "output_type": "stream",
     "text": [
      "MAIN_ID      RA        DEC    ... COO_QUAL COO_WAVELENGTH     COO_BIBCODE    \n",
      "          \"h:m:s\"    \"d:m:s\"  ...                                            \n",
      "-------- ---------- --------- ... -------- -------------- -------------------\n",
      "NAME LMC 05 23 34.6 -69 45 22 ...        D              O 2003A&A...412...45P\n"
     ]
    }
   ],
   "source": [
    "from astroquery.simbad import Simbad\n",
    "result_table = Simbad.query_object(\"lmc\")\n",
    "result_table.pprint(show_unit=True)"
   ]
  },
  {
   "cell_type": "code",
   "execution_count": 10,
   "metadata": {},
   "outputs": [
    {
     "data": {
      "text/latex": [
       "$5^\\mathrm{h}23^\\mathrm{m}34.6^\\mathrm{s}$"
      ],
      "text/plain": [
       "<Angle 5.39294444 hourangle>"
      ]
     },
     "execution_count": 10,
     "metadata": {},
     "output_type": "execute_result"
    }
   ],
   "source": [
    "Angle(result_table[\"RA\"][0]+\" hour\")"
   ]
  },
  {
   "cell_type": "code",
   "execution_count": 11,
   "metadata": {},
   "outputs": [
    {
     "data": {
      "text/latex": [
       "$-69^\\circ45{}^\\prime22{}^{\\prime\\prime}$"
      ],
      "text/plain": [
       "<Angle -69.75611111 deg>"
      ]
     },
     "execution_count": 11,
     "metadata": {},
     "output_type": "execute_result"
    }
   ],
   "source": [
    "Angle(result_table[\"DEC\"][0]+\" degrees\")"
   ]
  },
  {
   "cell_type": "code",
   "execution_count": 12,
   "metadata": {},
   "outputs": [
    {
     "data": {
      "text/plain": [
       "<SkyCoord (ICRS): (ra, dec) in deg\n",
       "    (80.89416667, -69.75611111)>"
      ]
     },
     "execution_count": 12,
     "metadata": {},
     "output_type": "execute_result"
    }
   ],
   "source": [
    "galaxy_coord=SkyCoord(ra=result_table[\"RA\"][0]+\"hour\",dec=result_table[\"DEC\"][0]+ \"degrees\")\n",
    "galaxy_coord"
   ]
  },
  {
   "cell_type": "code",
   "execution_count": 13,
   "metadata": {},
   "outputs": [],
   "source": [
    "galaxy_ra=galaxy_coord.ra.deg\n",
    "galaxy_dec=galaxy_coord.dec.deg"
   ]
  },
  {
   "cell_type": "code",
   "execution_count": 14,
   "metadata": {},
   "outputs": [
    {
     "name": "stdout",
     "output_type": "stream",
     "text": [
      "80.89416666666666 -69.75611111111111\n"
     ]
    }
   ],
   "source": [
    "print(galaxy_ra,galaxy_dec)"
   ]
  },
  {
   "cell_type": "code",
   "execution_count": 15,
   "metadata": {},
   "outputs": [],
   "source": [
    "galaxy_delta_ra=10.75\n",
    "galaxy_delta_dec=9.17"
   ]
  },
  {
   "cell_type": "markdown",
   "metadata": {},
   "source": [
    "# Config"
   ]
  },
  {
   "cell_type": "code",
   "execution_count": 16,
   "metadata": {},
   "outputs": [],
   "source": [
    "filters = ['u', 'g', 'r', 'i', 'z', 'y']\n",
    "colors = {'u': 'cyan', 'g': 'g', 'r': 'y','i': 'r', 'z': 'm', 'y': 'k'}\n",
    "Nfilt=len(filters)"
   ]
  },
  {
   "cell_type": "code",
   "execution_count": 17,
   "metadata": {},
   "outputs": [],
   "source": [
    "nyears=1.0\n",
    "maxnights=365.25*nyears"
   ]
  },
  {
   "cell_type": "markdown",
   "metadata": {},
   "source": [
    "## SqL"
   ]
  },
  {
   "cell_type": "code",
   "execution_count": 18,
   "metadata": {},
   "outputs": [],
   "source": [
    "raCol = 'fieldRA'\n",
    "decCol = 'fieldDec'"
   ]
  },
  {
   "cell_type": "code",
   "execution_count": 19,
   "metadata": {},
   "outputs": [],
   "source": [
    "sqlWhere = \\\n",
    "    'fieldRA < %f and ' \\\n",
    "    'fieldRA > %f and ' \\\n",
    "    'fieldDEC < %f and ' \\\n",
    "    'fieldDEC > %f  ' \\\n",
    "     % (galaxy_ra+ galaxy_delta_ra/2., galaxy_ra- galaxy_delta_ra/2.,galaxy_dec+galaxy_delta_dec/2.,galaxy_dec-galaxy_delta_dec/2)"
   ]
  },
  {
   "cell_type": "code",
   "execution_count": 20,
   "metadata": {},
   "outputs": [],
   "source": [
    "#sqlWhere = \\\n",
    "#    'ra < %f and ' \\\n",
    "#    'ra > %f and ' \\\n",
    "#    'dec < %f and ' \\\n",
    "#    'dec > %f  ' \\\n",
    "#     % (galaxy_ra+ galaxy_delta_ra/2., galaxy_ra- galaxy_delta_ra/2.,galaxy_dec+galaxy_delta_dec/2.,galaxy_dec-galaxy_delta_dec/2)"
   ]
  },
  {
   "cell_type": "code",
   "execution_count": 21,
   "metadata": {},
   "outputs": [
    {
     "data": {
      "text/plain": [
       "'fieldRA < 86.269167 and fieldRA > 75.519167 and fieldDEC < -65.171111 and fieldDEC > -74.341111  '"
      ]
     },
     "execution_count": 21,
     "metadata": {},
     "output_type": "execute_result"
    }
   ],
   "source": [
    "sqlWhere"
   ]
  },
  {
   "cell_type": "code",
   "execution_count": 22,
   "metadata": {},
   "outputs": [],
   "source": [
    "#sqlWhere = \"night < 10\""
   ]
  },
  {
   "cell_type": "code",
   "execution_count": 23,
   "metadata": {},
   "outputs": [],
   "source": [
    "sqlNo =  \" \""
   ]
  },
  {
   "cell_type": "markdown",
   "metadata": {},
   "source": [
    "## Metric"
   ]
  },
  {
   "cell_type": "code",
   "execution_count": 24,
   "metadata": {},
   "outputs": [],
   "source": [
    "metric=metrics.PassMetric(cols=['observationId',\n",
    "                                'night',\n",
    "                                'observationStartMJD' ,\n",
    "                                'Field_fieldId',\n",
    "                                'fiveSigmaDepth',\n",
    "                                'filter',\n",
    "                                'airmass',\n",
    "                                'skyBrightness',\n",
    "                                'seeingFwhmEff'])"
   ]
  },
  {
   "cell_type": "code",
   "execution_count": 40,
   "metadata": {},
   "outputs": [],
   "source": [
    "metric=metrics.PassMetric(cols=['observationId','night','observationStartMJD',\n",
    "                               'fiveSigmaDepth',\n",
    "                                'filter',\n",
    "                                'airmass',\n",
    "                                'skyBrightness','seeingFwhmEff','fieldId','fieldRA','fieldDec'])"
   ]
  },
  {
   "cell_type": "markdown",
   "metadata": {},
   "source": [
    "# Simu data"
   ]
  },
  {
   "cell_type": "code",
   "execution_count": 41,
   "metadata": {},
   "outputs": [],
   "source": [
    "opsdb = db.OpsimDatabase('/Users/dagoret/DATA/Cadence/baseline2018a.db')\n",
    "outDir = 'output_galaxycadence'\n",
    "resultsDb = db.ResultsDb(outDir=outDir)"
   ]
  },
  {
   "cell_type": "markdown",
   "metadata": {},
   "source": [
    "# Slicer"
   ]
  },
  {
   "cell_type": "code",
   "execution_count": 42,
   "metadata": {},
   "outputs": [
    {
     "name": "stdout",
     "output_type": "stream",
     "text": [
      "Healpix slicer using NSIDE=512, approximate resolution 6.870973 arcminutes\n"
     ]
    }
   ],
   "source": [
    "slicer_uni=slicers.UniSlicer()\n",
    "#slicer_point = slicers.UserPointsSlicer(galaxy_ra, galaxy_dec) \n",
    "slicer_point = slicers.UserPointsSlicer(galaxy_ra, galaxy_dec, lonCol='fieldRA', latCol='fieldDec', latLonDeg='degrees')\n",
    "nside = 512\n",
    "raCol = 'fieldRA'\n",
    "decCol = 'fieldDec'\n",
    "slicer_heal = slicers.HealpixSlicer(nside=nside, lonCol=raCol, latCol=decCol)"
   ]
  },
  {
   "cell_type": "markdown",
   "metadata": {},
   "source": [
    "# Bundle\n",
    "\n",
    "- Bundles dict for all filter"
   ]
  },
  {
   "cell_type": "code",
   "execution_count": 43,
   "metadata": {},
   "outputs": [
    {
     "name": "stdout",
     "output_type": "stream",
     "text": [
      "{'filter', 'seeingFwhmEff', 'observationStartMJD', 'fieldRA', 'night', 'fieldId', 'fiveSigmaDepth', 'airmass', 'fieldDec', 'observationId', 'skyBrightness'}\n"
     ]
    }
   ],
   "source": [
    "bundles = {}\n",
    "bundles[\"LMC\"] = metricBundles.MetricBundle(metric, slicer_uni, sqlWhere)\n",
    "print(bundles[\"LMC\"].dbCols)"
   ]
  },
  {
   "cell_type": "code",
   "execution_count": 44,
   "metadata": {},
   "outputs": [],
   "source": [
    "bgroup = metricBundles.MetricBundleGroup(bundles, opsdb, outDir=outDir,resultsDb=resultsDb)"
   ]
  },
  {
   "cell_type": "code",
   "execution_count": 45,
   "metadata": {
    "scrolled": false
   },
   "outputs": [
    {
     "name": "stdout",
     "output_type": "stream",
     "text": [
      "Querying database SummaryAllProps with constraint fieldRA < 86.269167 and fieldRA > 75.519167 and fieldDEC < -65.171111 and fieldDEC > -74.341111   for columns ['filter', 'observationStartMJD', 'seeingFwhmEff', 'fieldRA', 'night', 'fieldDec', 'fiveSigmaDepth', 'airmass', 'fieldId', 'observationId', 'skyBrightness']\n",
      "Found 758 visits\n",
      "Running:  ['LMC']\n",
      "Completed metric generation.\n",
      "Running reduce methods.\n",
      "Running summary statistics.\n",
      "Completed.\n",
      "Plotting figures with \"fieldRA < 86.269167 and fieldRA > 75.519167 and fieldDEC < -65.171111 and fieldDEC > -74.341111  \" constraint now.\n",
      "Plotting complete.\n"
     ]
    }
   ],
   "source": [
    "bgroup.runAll()\n",
    "bgroup.plotAll(closefigs=False)"
   ]
  },
  {
   "cell_type": "code",
   "execution_count": 46,
   "metadata": {},
   "outputs": [
    {
     "name": "stdout",
     "output_type": "stream",
     "text": [
      "{'filter', 'seeingFwhmEff', 'observationStartMJD', 'fieldRA', 'night', 'fieldId', 'fiveSigmaDepth', 'airmass', 'fieldDec', 'observationId', 'skyBrightness'}\n"
     ]
    }
   ],
   "source": [
    "print(bundles[\"LMC\"].dbCols)"
   ]
  },
  {
   "cell_type": "code",
   "execution_count": 55,
   "metadata": {},
   "outputs": [
    {
     "name": "stdout",
     "output_type": "stream",
     "text": [
      "758\n"
     ]
    }
   ],
   "source": [
    "print(len(bundles[\"LMC\"].metricValues[0]))"
   ]
  },
  {
   "cell_type": "code",
   "execution_count": 53,
   "metadata": {},
   "outputs": [
    {
     "data": {
      "text/plain": [
       "array([   8476,   10032,   10160,   10161,   10165,   10166,   12540,\n",
       "         12541,   12543,   12552,   12553,   16592,   16593,   17244,\n",
       "         17245,   17263,   18140,   18141,   18142,   18831,   20378,\n",
       "         20380,   21908,   21909,   22706,   22708,   25613,   27484,\n",
       "         27500,   27501,   27502,   27503,   34009,   34011,   34021,\n",
       "         34022,   34712,   34713,   37554,   37560,   40330,   40331,\n",
       "         40332,   40333,   40340,   40937,   40948,   40949,   40950,\n",
       "         40951,   59467,   59468,   59469,   59480,   59481,   60253,\n",
       "         60254,   60255,   60259,   60260,   75308,   75309,   75310,\n",
       "         75311,  218076,  230182,  230183,  230184,  230185,  235004,\n",
       "        235005,  244084,  244086,  244087,  244088,  244089,  244985,\n",
       "        245737,  245738,  245739,  249904,  249905,  249906,  254167,\n",
       "        254900,  254901,  254902,  256212,  256213,  256214,  256215,\n",
       "        256216,  262456,  262457,  262458,  262459,  262460,  263111,\n",
       "        263126,  263127,  263128,  263230,  267762,  280326,  283152,\n",
       "        283153,  286306,  288174,  288181,  288182,  291540,  291541,\n",
       "        291603,  291604,  291605,  442671,  442673,  444299,  444346,\n",
       "        446127,  446128,  446129,  447928,  447929,  447933,  447945,\n",
       "        447946,  452260,  452261,  452262,  452263,  452265,  456320,\n",
       "        456322,  461197,  461198,  461267,  461269,  467209,  467210,\n",
       "        467211,  467259,  467260,  477384,  478679,  478680,  482145,\n",
       "        495782,  495783,  496430,  496431,  497764,  499749,  499754,\n",
       "        499755,  499757,  499758,  501093,  501094,  501095,  502553,\n",
       "        502554,  505180,  505181,  505183,  505202,  505203,  507957,\n",
       "        507958,  507959,  509834,  509835,  510521,  510529,  511329,\n",
       "        511330,  511894,  515160,  515814,  515815,  519027,  519028,\n",
       "        525991,  525993,  526745,  526747,  528915,  528990,  528991,\n",
       "        550069,  702672,  702673,  702675,  702676,  702677,  703563,\n",
       "        703564,  709997,  709998,  710014,  710015,  710016,  710633,\n",
       "        710679,  710680,  710681,  710682,  712086,  712087,  713533,\n",
       "        713545,  715075,  715076,  715910,  718789,  718790,  718791,\n",
       "        718792,  721729,  721813,  721814,  723773,  723774,  723775,\n",
       "        728308,  728309,  728310,  728311,  731137,  731138,  731139,\n",
       "        731901,  732524,  732525,  732526,  732527,  733231,  733232,\n",
       "        733233,  733824,  733825,  733826,  733828,  737928,  737930,\n",
       "        737931,  741409,  741420,  741423,  743626,  743627,  745665,\n",
       "        750282,  751607,  751608,  752149,  752212,  752213,  754934,\n",
       "        755496,  755497,  755498,  755526,  755527,  756290,  756291,\n",
       "        756292,  757465,  757466,  757467,  758288,  758289,  759546,\n",
       "        759547,  759548,  763684,  764999,  765000,  765001,  765002,\n",
       "        773111,  773121,  900495,  945557,  947987,  947988,  947989,\n",
       "        949607,  949608,  950868,  950869,  953404,  953405,  953415,\n",
       "        953416,  960449,  965216,  965218,  965232,  965233,  965234,\n",
       "        967219,  967220,  969076,  969077,  969078,  969079,  971160,\n",
       "        971866,  972542,  972565,  972566,  972567,  972568,  973227,\n",
       "        974057,  974058,  975446,  975447,  975448,  975449,  976875,\n",
       "        977605,  977606,  977609,  977610,  977611,  978393,  978395,\n",
       "        978396,  978397,  981077,  981165,  981167,  981168,  982344,\n",
       "        982486,  982551,  982552,  982554,  983104,  983106,  985759,\n",
       "        985762,  985763,  986432, 1001536, 1001537, 1001538, 1002254,\n",
       "       1002808, 1002810, 1005506, 1005507, 1005512, 1008135, 1008136,\n",
       "       1008137, 1009574, 1009575, 1009576, 1009614, 1009615, 1014344,\n",
       "       1014345, 1020037, 1020038, 1186725, 1188321, 1188392, 1188393,\n",
       "       1188394, 1188395, 1190917, 1190918, 1190920, 1190921, 1190922,\n",
       "       1196409, 1196410, 1196412, 1197287, 1197288, 1197289, 1202943,\n",
       "       1202944, 1204171, 1204172, 1208449, 1208450, 1208451, 1217318,\n",
       "       1217319, 1217320, 1217322, 1217323, 1217915, 1217916, 1217917,\n",
       "       1217918, 1222223, 1222224, 1222860, 1222861, 1224384, 1224386,\n",
       "       1224387, 1229083, 1229084, 1229085, 1229093, 1229094, 1231146,\n",
       "       1231148, 1231149, 1233274, 1233276, 1233277, 1233278, 1238563,\n",
       "       1238564, 1238567, 1239457, 1242666, 1242667, 1242668, 1243331,\n",
       "       1243332, 1243379, 1246632, 1246633, 1246634, 1249985, 1249986,\n",
       "       1249988, 1256990, 1256991, 1256998, 1258323, 1268221, 1268965,\n",
       "       1288304, 1398386, 1411098, 1411099, 1415404, 1415405, 1415428,\n",
       "       1415455, 1415456, 1418673, 1422362, 1422363, 1422365, 1422366,\n",
       "       1422367, 1431985, 1432571, 1432572, 1432573, 1434971, 1434972,\n",
       "       1434975, 1441494, 1444492, 1444493, 1444502, 1444569, 1445274,\n",
       "       1445275, 1445277, 1445284, 1445963, 1448573, 1448574, 1448575,\n",
       "       1448583, 1448630, 1451076, 1451077, 1452415, 1455863, 1455865,\n",
       "       1455866, 1455867, 1457482, 1457993, 1457994, 1461656, 1461657,\n",
       "       1461658, 1465605, 1465606, 1466859, 1466860, 1466861, 1466862,\n",
       "       1466868, 1470403, 1470404, 1470406, 1473122, 1492332, 1492333,\n",
       "       1496752, 1496758, 1496759, 1497502, 1497503, 1519087, 1519088,\n",
       "       1519089, 1648114, 1660749, 1664898, 1664899, 1664900, 1664901,\n",
       "       1664911, 1670534, 1670535, 1672647, 1672648, 1672649, 1673313,\n",
       "       1673314, 1673315, 1673405, 1680154, 1680155, 1680156, 1680168,\n",
       "       1680169, 1687199, 1687227, 1692275, 1692276, 1692277, 1692362,\n",
       "       1698300, 1698301, 1698939, 1698940, 1698941, 1699582, 1699744,\n",
       "       1699745, 1699746, 1700680, 1700681, 1700683, 1700690, 1700691,\n",
       "       1705435, 1705436, 1705437, 1705445, 1705446, 1706210, 1706212,\n",
       "       1706260, 1706261, 1706262, 1707564, 1707565, 1707566, 1708731,\n",
       "       1708732, 1708734, 1708735, 1710458, 1710460, 1710461, 1712002,\n",
       "       1712003, 1712004, 1713329, 1713330, 1724217, 1727494, 1727496,\n",
       "       1729352, 1729353, 1730119, 1731277, 1731279, 1731324, 1735532,\n",
       "       1740463, 1740464, 1740465, 1752120, 1752121, 1752122, 1891384,\n",
       "       1891385, 1891389, 1894448, 1912384, 1912386, 1914025, 1914760,\n",
       "       1914761, 1914762, 1918985, 1918986, 1918987, 1918991, 1920595,\n",
       "       1920596, 1920597, 1920598, 1920604, 1921936, 1921941, 1921942,\n",
       "       1921943, 1922809, 1922810, 1922813, 1926944, 1926946, 1926955,\n",
       "       1926956, 1927994, 1932018, 1932019, 1932020, 1932054, 1932055,\n",
       "       1934924, 1934984, 1935121, 1935122, 1939466, 1939492, 1939493,\n",
       "       1947095, 1947096, 1947138, 1947139, 1951164, 1951166, 1958304,\n",
       "       1958890, 1964770, 1971033, 1971066, 1971067, 1979866, 1979867,\n",
       "       1979869, 1979870, 1993058, 1993059, 1993060, 1993100, 2107755,\n",
       "       2107757, 2123283, 2123284, 2123995, 2123997, 2123998, 2124001,\n",
       "       2124141, 2128173, 2128175, 2128176, 2128177, 2132041, 2132042,\n",
       "       2132043, 2139303, 2139304, 2143477, 2143478, 2143479, 2143480,\n",
       "       2145644, 2149162, 2149163, 2149201, 2149202, 2149891, 2149895,\n",
       "       2149906, 2149907, 2149908, 2150655, 2150656, 2150657, 2150681,\n",
       "       2154726, 2154819, 2154821, 2156109, 2156110, 2156111, 2156121,\n",
       "       2159181, 2159182, 2159183, 2159227, 2159231, 2168049, 2168050,\n",
       "       2168054, 2168057, 2168871, 2170829, 2170830, 2170832, 2174452,\n",
       "       2175449, 2175450, 2175451, 2175455, 2175456, 2179712, 2179713,\n",
       "       2179714, 2179715, 2180890, 2180891, 2182966, 2183736, 2183737,\n",
       "       2183738, 2183740, 2184546, 2187161, 2188515, 2188516, 2188532,\n",
       "       2190472, 2190473, 2191099, 2191101, 2202889, 2202890, 2202891,\n",
       "       2202892, 2212337, 2227803, 2243480, 2243481, 2329417, 2329420,\n",
       "       2366162, 2366164, 2369058, 2369060, 2372036, 2372039, 2372040,\n",
       "       2372049, 2372056])"
      ]
     },
     "execution_count": 53,
     "metadata": {},
     "output_type": "execute_result"
    }
   ],
   "source": [
    "bundles[\"LMC\"].metricValues[0]['observationId']"
   ]
  },
  {
   "cell_type": "code",
   "execution_count": null,
   "metadata": {},
   "outputs": [],
   "source": []
  }
 ],
 "metadata": {
  "kernelspec": {
   "display_name": "lsst_sims",
   "language": "python",
   "name": "lsst_sims"
  },
  "toc": {
   "base_numbering": 1,
   "nav_menu": {},
   "number_sections": true,
   "sideBar": true,
   "skip_h1_title": false,
   "title_cell": "Table of Contents",
   "title_sidebar": "Contents",
   "toc_cell": false,
   "toc_position": {},
   "toc_section_display": true,
   "toc_window_display": false
  }
 },
 "nbformat": 4,
 "nbformat_minor": 4
}
