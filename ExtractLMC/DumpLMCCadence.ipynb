{
 "cells": [
  {
   "cell_type": "markdown",
   "metadata": {},
   "source": [
    "# GOOD Notebook to extract LMC and SMC Cadence\n",
    "\n",
    "\n",
    "- Last update April 1 st 2021\n",
    "\n",
    "- http://astro-lsst-01.astro.washington.edu:8080/ (baseline included)\n",
    "- http://astro-lsst-01.astro.washington.edu:8081/  (rolling cadences included)\n",
    "- http://astro-lsst-01.astro.washington.edu:8082/\n"
   ]
  },
  {
   "cell_type": "code",
   "execution_count": 344,
   "metadata": {},
   "outputs": [
    {
     "data": {
      "text/plain": [
       "'2.13.0.sims-93-g8bc2eb33+a14e41332a'"
      ]
     },
     "execution_count": 344,
     "metadata": {},
     "output_type": "execute_result"
    }
   ],
   "source": [
    "# Check the version of MAF - the output should be version 2.4.2 or higher.\n",
    "# 'unknown' means you're running from a git repo version,\n",
    "# and have made changes to your local code\n",
    "\n",
    "import lsst.sims.maf\n",
    "lsst.sims.maf.__version__"
   ]
  },
  {
   "cell_type": "code",
   "execution_count": 345,
   "metadata": {},
   "outputs": [],
   "source": [
    "# import matplotlib to show plots inline.\n",
    "%matplotlib inline\n",
    "import matplotlib.pyplot as plt\n",
    "import numpy as np\n",
    "import pandas as pd"
   ]
  },
  {
   "cell_type": "code",
   "execution_count": 346,
   "metadata": {},
   "outputs": [],
   "source": [
    "# import our python modules\n",
    "import lsst.sims.maf.db as db\n",
    "import lsst.sims.maf.metrics as metrics\n",
    "import lsst.sims.maf.slicers as slicers\n",
    "import lsst.sims.maf.stackers as stackers\n",
    "import lsst.sims.maf.plots as plots\n",
    "import lsst.sims.maf.metricBundles as metricBundles\n",
    "\n",
    "from lsst.sims.maf.db import ResultsDb"
   ]
  },
  {
   "cell_type": "code",
   "execution_count": 347,
   "metadata": {
    "scrolled": false
   },
   "outputs": [
    {
     "name": "stdout",
     "output_type": "stream",
     "text": [
      "['/Users/dagoret/MacOSX/GitHub/LSST/MyCadence/ExtractLMC', '/cvmfs/sw.lsst.eu/darwin-x86_64/lsst_sims/sims_w_2021_14/stack/miniconda3-py38_4.9.2-0.4.3/DarwinX86/sims_almanac/master-g021b69e146+616205b9df/python', '/cvmfs/sw.lsst.eu/darwin-x86_64/lsst_sims/sims_w_2021_14/stack/miniconda3-py38_4.9.2-0.4.3/DarwinX86/sims_downtimeModel/master-g55f72efa65+3e384ed16a/python', '/cvmfs/sw.lsst.eu/darwin-x86_64/lsst_sims/sims_w_2021_14/stack/miniconda3-py38_4.9.2-0.4.3/DarwinX86/sims_cloudModel/master-ge3724df529+632df0f48d/python', '/cvmfs/sw.lsst.eu/darwin-x86_64/lsst_sims/sims_w_2021_14/stack/miniconda3-py38_4.9.2-0.4.3/DarwinX86/sims_seeingModel/master-ga4bf72ea44+6e62bc95d5/python', '/cvmfs/sw.lsst.eu/darwin-x86_64/lsst_sims/sims_w_2021_14/stack/miniconda3-py38_4.9.2-0.4.3/DarwinX86/sims_featureScheduler/master-g5f42dc1c76+c0a10aa3f3/python', '/cvmfs/sw.lsst.eu/darwin-x86_64/lsst_sims/sims_w_2021_14/stack/miniconda3-py38_4.9.2-0.4.3/DarwinX86/sims_skybrightness_pre/2.13.0.sims-11-g9ab127b+5f00cb8bf4/python', '/cvmfs/sw.lsst.eu/darwin-x86_64/lsst_sims/sims_w_2021_14/stack/miniconda3-py38_4.9.2-0.4.3/DarwinX86/sims_skybrightness_data/2017.05.05-2-gf1b2499/python', '/cvmfs/sw.lsst.eu/darwin-x86_64/lsst_sims/sims_w_2021_14/stack/miniconda3-py38_4.9.2-0.4.3/DarwinX86/sims_skybrightness/2.13.0.sims-7-g57b020e+ba01f1af57/python', '/cvmfs/sw.lsst.eu/darwin-x86_64/lsst_sims/sims_w_2021_14/stack/miniconda3-py38_4.9.2-0.4.3/DarwinX86/python_extinction/master-g3504403c44+15e725ac18/lib/python', '/cvmfs/sw.lsst.eu/darwin-x86_64/lsst_sims/sims_w_2021_14/stack/miniconda3-py38_4.9.2-0.4.3/DarwinX86/astropy_helpers/3.0.2.lsst-1-g9c76ab2/lib/python', '/cvmfs/sw.lsst.eu/darwin-x86_64/lsst_sims/sims_w_2021_14/stack/miniconda3-py38_4.9.2-0.4.3/DarwinX86/astropy_helpers/3.0.2.lsst-1-g9c76ab2', '/cvmfs/sw.lsst.eu/darwin-x86_64/lsst_sims/sims_w_2021_14/stack/miniconda3-py38_4.9.2-0.4.3/DarwinX86/sncosmo/1.3.0.lsst2-5-gea39e10+3c1685c4f7/lib/python', '/cvmfs/sw.lsst.eu/darwin-x86_64/lsst_sims/sims_w_2021_14/stack/miniconda3-py38_4.9.2-0.4.3/DarwinX86/sims_catUtils/2.13.0.sims-16-g9f88571c+957f58f907/python', '/cvmfs/sw.lsst.eu/darwin-x86_64/lsst_sims/sims_w_2021_14/stack/miniconda3-py38_4.9.2-0.4.3/DarwinX86/sims_survey_fields/2.13.0.sims-1-g3f5255d+616205b9df/python', '/cvmfs/sw.lsst.eu/darwin-x86_64/lsst_sims/sims_w_2021_14/stack/miniconda3-py38_4.9.2-0.4.3/DarwinX86/verify_metrics/21.0.0-2-gfc76737+04719a4bac/python', '/cvmfs/sw.lsst.eu/darwin-x86_64/lsst_sims/sims_w_2021_14/stack/miniconda3-py38_4.9.2-0.4.3/DarwinX86/dax_apdb/21.0.0-2-g5242d73+3ad5d60fb1/python', '/cvmfs/sw.lsst.eu/darwin-x86_64/lsst_sims/sims_w_2021_14/stack/miniconda3-py38_4.9.2-0.4.3/DarwinX86/verify/21.0.0-8-ga0979ac+846099bd58/python', '/cvmfs/sw.lsst.eu/darwin-x86_64/lsst_sims/sims_w_2021_14/stack/miniconda3-py38_4.9.2-0.4.3/DarwinX86/ip_diffim/21.0.0-11-ga42c5b2+86977b0b17/python', '/cvmfs/sw.lsst.eu/darwin-x86_64/lsst_sims/sims_w_2021_14/stack/miniconda3-py38_4.9.2-0.4.3/DarwinX86/meas_deblender/21.0.0-3-g65f322c+e0b24896a3/python', '/cvmfs/sw.lsst.eu/darwin-x86_64/lsst_sims/sims_w_2021_14/stack/miniconda3-py38_4.9.2-0.4.3/DarwinX86/meas_astrom/21.0.0-4-g591bb35+a9c1acf22d/python', '/cvmfs/sw.lsst.eu/darwin-x86_64/lsst_sims/sims_w_2021_14/stack/miniconda3-py38_4.9.2-0.4.3/DarwinX86/kht/lsst-dev-g14ffe67dc2+fe93bf5141/cpp/build', '/cvmfs/sw.lsst.eu/darwin-x86_64/lsst_sims/sims_w_2021_14/stack/miniconda3-py38_4.9.2-0.4.3/DarwinX86/psfex/21.0.0-2-g03166ea+04719a4bac/python', '/cvmfs/sw.lsst.eu/darwin-x86_64/lsst_sims/sims_w_2021_14/stack/miniconda3-py38_4.9.2-0.4.3/DarwinX86/meas_extensions_psfex/21.0.0-3-g357aad2+ed88757d29/python', '/cvmfs/sw.lsst.eu/darwin-x86_64/lsst_sims/sims_w_2021_14/stack/miniconda3-py38_4.9.2-0.4.3/DarwinX86/scarlet_extensions/lsst-dev-g9d18589735+5de2e29f4b/lib/python', '/cvmfs/sw.lsst.eu/darwin-x86_64/lsst_sims/sims_w_2021_14/stack/miniconda3-py38_4.9.2-0.4.3/DarwinX86/proxmin/lsst-dev-g79c0498783/lib/python', '/cvmfs/sw.lsst.eu/darwin-x86_64/lsst_sims/sims_w_2021_14/stack/miniconda3-py38_4.9.2-0.4.3/DarwinX86/scarlet/lsst-dev-g965bb5fbbf+f31336177f/lib/python', '/cvmfs/sw.lsst.eu/darwin-x86_64/lsst_sims/sims_w_2021_14/stack/miniconda3-py38_4.9.2-0.4.3/DarwinX86/meas_extensions_scarlet/21.0.0-12-g771b9a2+d312f28ea8/python', '/cvmfs/sw.lsst.eu/darwin-x86_64/lsst_sims/sims_w_2021_14/stack/miniconda3-py38_4.9.2-0.4.3/DarwinX86/pipe_tasks/21.0.0-64-g1122c245+4fb2b8f86e/python', '/cvmfs/sw.lsst.eu/darwin-x86_64/lsst_sims/sims_w_2021_14/stack/miniconda3-py38_4.9.2-0.4.3/DarwinX86/obs_test/21.0.0-4-ge8a399c+6c55c39e83/python', '/cvmfs/sw.lsst.eu/darwin-x86_64/lsst_sims/sims_w_2021_14/stack/miniconda3-py38_4.9.2-0.4.3/DarwinX86/coadd_utils/21.0.0-2-g7f82c8f+8babb168e8/python', '/cvmfs/sw.lsst.eu/darwin-x86_64/lsst_sims/sims_w_2021_14/stack/miniconda3-py38_4.9.2-0.4.3/DarwinX86/meas_base/21.0.0-7-g04766d7+cd19d05db2/python', '/cvmfs/sw.lsst.eu/darwin-x86_64/lsst_sims/sims_w_2021_14/stack/miniconda3-py38_4.9.2-0.4.3/DarwinX86/meas_algorithms/21.0.0-19-g4cded4ca+71a93a33c0/python', '/cvmfs/sw.lsst.eu/darwin-x86_64/lsst_sims/sims_w_2021_14/stack/miniconda3-py38_4.9.2-0.4.3/DarwinX86/ip_isr/21.0.0-11-g2b59f77+a9c1acf22d/python', '/cvmfs/sw.lsst.eu/darwin-x86_64/lsst_sims/sims_w_2021_14/stack/miniconda3-py38_4.9.2-0.4.3/DarwinX86/skymap/21.0.0-4-g65b4814+b60e2d390c/python', '/cvmfs/sw.lsst.eu/darwin-x86_64/lsst_sims/sims_w_2021_14/stack/miniconda3-py38_4.9.2-0.4.3/DarwinX86/pipe_base/21.0.0-16-g0fb55c1+b60e2d390c/python', '/cvmfs/sw.lsst.eu/darwin-x86_64/lsst_sims/sims_w_2021_14/stack/miniconda3-py38_4.9.2-0.4.3/DarwinX86/astro_metadata_translator/0.1.0-25-gffa9b84+f5e6047307/python', '/cvmfs/sw.lsst.eu/darwin-x86_64/lsst_sims/sims_w_2021_14/stack/miniconda3-py38_4.9.2-0.4.3/DarwinX86/obs_base/21.0.0-46-g873c13b+6225f1ba97/python', '/cvmfs/sw.lsst.eu/darwin-x86_64/lsst_sims/sims_w_2021_14/stack/miniconda3-py38_4.9.2-0.4.3/DarwinX86/obs_lsst/21.0.0-31-g8148eae+9341841a08/python', '/cvmfs/sw.lsst.eu/darwin-x86_64/lsst_sims/sims_w_2021_14/stack/miniconda3-py38_4.9.2-0.4.3/DarwinX86/astshim/21.0.0-2-g45278ab+04719a4bac/python', '/cvmfs/sw.lsst.eu/darwin-x86_64/lsst_sims/sims_w_2021_14/stack/miniconda3-py38_4.9.2-0.4.3/DarwinX86/pex_config/21.0.0-1-ga51b5d4+f5e6047307/python', '/cvmfs/sw.lsst.eu/darwin-x86_64/lsst_sims/sims_w_2021_14/stack/miniconda3-py38_4.9.2-0.4.3/DarwinX86/log/21.0.0-3-g7d9da8d+616205b9df/python', '/cvmfs/sw.lsst.eu/darwin-x86_64/lsst_sims/sims_w_2021_14/stack/miniconda3-py38_4.9.2-0.4.3/DarwinX86/daf_persistence/21.0.0-8-g5674e7b+d1bd76f71f/python', '/cvmfs/sw.lsst.eu/darwin-x86_64/lsst_sims/sims_w_2021_14/stack/miniconda3-py38_4.9.2-0.4.3/DarwinX86/daf_base/21.0.0-2-g8faa9b5+616205b9df/python', '/cvmfs/sw.lsst.eu/darwin-x86_64/lsst_sims/sims_w_2021_14/stack/miniconda3-py38_4.9.2-0.4.3/DarwinX86/afw/21.0.0-25-g1d57be3cd+e73869a214/python', '/cvmfs/sw.lsst.eu/darwin-x86_64/lsst_sims/sims_w_2021_14/stack/miniconda3-py38_4.9.2-0.4.3/DarwinX86/geom/21.0.0-2-g8f08a60+06509c8b61/python', '/cvmfs/sw.lsst.eu/darwin-x86_64/lsst_sims/sims_w_2021_14/stack/miniconda3-py38_4.9.2-0.4.3/DarwinX86/sims_coordUtils/2.13.0.sims-7-gc9b9334+56a961170b/python', '/cvmfs/sw.lsst.eu/darwin-x86_64/lsst_sims/sims_w_2021_14/stack/miniconda3-py38_4.9.2-0.4.3/DarwinX86/sims_photUtils/2.13.0.sims-5-ge14a266+aba1a31c29/python', '/cvmfs/sw.lsst.eu/darwin-x86_64/lsst_sims/sims_w_2021_14/stack/miniconda3-py38_4.9.2-0.4.3/DarwinX86/pymssql/2.1.1-2-g168068f+ad9f4941ed/lib/python', '/cvmfs/sw.lsst.eu/darwin-x86_64/lsst_sims/sims_w_2021_14/stack/miniconda3-py38_4.9.2-0.4.3/DarwinX86/sphgeom/21.0.0+04719a4bac/python', '/cvmfs/sw.lsst.eu/darwin-x86_64/lsst_sims/sims_w_2021_14/stack/miniconda3-py38_4.9.2-0.4.3/DarwinX86/daf_butler/21.0.0-66-g4fd1cc04+06509c8b61/python', '/cvmfs/sw.lsst.eu/darwin-x86_64/lsst_sims/sims_w_2021_14/stack/miniconda3-py38_4.9.2-0.4.3/DarwinX86/sims_catalogs/2.13.0.sims-9-g8bb9136+cbd5fec15e/python', '/cvmfs/sw.lsst.eu/darwin-x86_64/lsst_sims/sims_w_2021_14/stack/miniconda3-py38_4.9.2-0.4.3/DarwinX86/pex_exceptions/21.0.0-2-gde069b7+5e4aea9c2f/python', '/cvmfs/sw.lsst.eu/darwin-x86_64/lsst_sims/sims_w_2021_14/stack/miniconda3-py38_4.9.2-0.4.3/DarwinX86/utils/21.0.0-4-gccdca77+0de219a2bc/python', '/cvmfs/sw.lsst.eu/darwin-x86_64/lsst_sims/sims_w_2021_14/stack/miniconda3-py38_4.9.2-0.4.3/DarwinX86/sims_utils/2.13.0.sims-46-g370dc29+872406ca88/python', '/cvmfs/sw.lsst.eu/darwin-x86_64/lsst_sims/sims_w_2021_14/stack/miniconda3-py38_4.9.2-0.4.3/DarwinX86/palpy/1.8.1-1-ga780397/lib/python', '/cvmfs/sw.lsst.eu/darwin-x86_64/lsst_sims/sims_w_2021_14/stack/miniconda3-py38_4.9.2-0.4.3/DarwinX86/ephem/3.7.6.0-1-g6182364/lib/python', '/cvmfs/sw.lsst.eu/darwin-x86_64/lsst_sims/sims_w_2021_14/stack/miniconda3-py38_4.9.2-0.4.3/DarwinX86/sconsUtils/21.0.0-7-gd4ecef8/python', '/cvmfs/sw.lsst.eu/darwin-x86_64/lsst_sims/sims_w_2021_14/stack/miniconda3-py38_4.9.2-0.4.3/DarwinX86/base/21.0.0-7-gdf92d54+04719a4bac/python', '/cvmfs/sw.lsst.eu/darwin-x86_64/lsst_sims/sims_w_2021_14/stack/miniconda3-py38_4.9.2-0.4.3/DarwinX86/sims_maf/2.13.0.sims-93-g8bc2eb33+a14e41332a/python', '/cvmfs/sw.lsst.eu/darwin-x86_64/lsst_sims/sims_w_2021_14/conda/miniconda3-py38_4.9.2/envs/lsst-scipipe-0.4.3-ext/eups/python', '/cvmfs/sw.lsst.eu/darwin-x86_64/lsst_sims/sims_w_2021_14/conda/miniconda3-py38_4.9.2/envs/lsst-scipipe-0.4.3-ext/lib/python38.zip', '/cvmfs/sw.lsst.eu/darwin-x86_64/lsst_sims/sims_w_2021_14/conda/miniconda3-py38_4.9.2/envs/lsst-scipipe-0.4.3-ext/lib/python3.8', '/cvmfs/sw.lsst.eu/darwin-x86_64/lsst_sims/sims_w_2021_14/conda/miniconda3-py38_4.9.2/envs/lsst-scipipe-0.4.3-ext/lib/python3.8/lib-dynload', '', '/cvmfs/sw.lsst.eu/darwin-x86_64/lsst_sims/sims_w_2021_14/conda/miniconda3-py38_4.9.2/envs/lsst-scipipe-0.4.3-ext/lib/python3.8/site-packages', '/cvmfs/sw.lsst.eu/darwin-x86_64/lsst_sims/sims_w_2021_14/conda/miniconda3-py38_4.9.2/envs/lsst-scipipe-0.4.3-ext/lib/python3.8/site-packages/IPython/extensions', '/Users/dagoret/.ipython', '/Users/dagoret/anaconda3/lib/python37.zip', '/Users/dagoret/anaconda3/lib/python3.7', '/Users/dagoret/anaconda3/lib/python3.7/lib-dynload', '', '/Users/dagoret/.local/lib/python3.7/site-packages', '/Users/dagoret/anaconda3/lib/python3.7/site-packages', '/Users/dagoret/anaconda3/lib/python3.7/site-packages/aeosa', '/Users/dagoret/anaconda3/lib/python3.7/site-packages/IPython/extensions', '/Users/dagoret/.ipython', '/Users/dagoret/anaconda3/lib/python37.zip', '/Users/dagoret/anaconda3/lib/python3.7', '/Users/dagoret/anaconda3/lib/python3.7/lib-dynload', '', '/Users/dagoret/.local/lib/python3.7/site-packages', '/Users/dagoret/anaconda3/lib/python3.7/site-packages', '/Users/dagoret/anaconda3/lib/python3.7/site-packages/aeosa', '/Users/dagoret/anaconda3/lib/python3.7/site-packages/IPython/extensions', '/Users/dagoret/.ipython', '/Users/dagoret/anaconda3/lib/python37.zip', '/Users/dagoret/anaconda3/lib/python3.7', '/Users/dagoret/anaconda3/lib/python3.7/lib-dynload', '', '/Users/dagoret/.local/lib/python3.7/site-packages', '/Users/dagoret/anaconda3/lib/python3.7/site-packages', '/Users/dagoret/anaconda3/lib/python3.7/site-packages/aeosa', '/Users/dagoret/anaconda3/lib/python3.7/site-packages/IPython/extensions', '/Users/dagoret/.ipython', '/Users/dagoret/anaconda3/lib/python37.zip', '/Users/dagoret/anaconda3/lib/python3.7', '/Users/dagoret/anaconda3/lib/python3.7/lib-dynload', '', '/Users/dagoret/.local/lib/python3.7/site-packages', '/Users/dagoret/anaconda3/lib/python3.7/site-packages', '/Users/dagoret/anaconda3/lib/python3.7/site-packages/aeosa', '/Users/dagoret/anaconda3/lib/python3.7/site-packages/IPython/extensions', '/Users/dagoret/.ipython', '/Users/dagoret/anaconda3/lib/python37.zip', '/Users/dagoret/anaconda3/lib/python3.7', '/Users/dagoret/anaconda3/lib/python3.7/lib-dynload', '', '/Users/dagoret/.local/lib/python3.7/site-packages', '/Users/dagoret/anaconda3/lib/python3.7/site-packages', '/Users/dagoret/anaconda3/lib/python3.7/site-packages/aeosa', '/Users/dagoret/anaconda3/lib/python3.7/site-packages/IPython/extensions', '/Users/dagoret/.ipython', '/Users/dagoret/anaconda3/lib/python37.zip', '/Users/dagoret/anaconda3/lib/python3.7', '/Users/dagoret/anaconda3/lib/python3.7/lib-dynload', '', '/Users/dagoret/.local/lib/python3.7/site-packages', '/Users/dagoret/anaconda3/lib/python3.7/site-packages', '/Users/dagoret/anaconda3/lib/python3.7/site-packages/aeosa', '/Users/dagoret/anaconda3/lib/python3.7/site-packages/IPython/extensions', '/Users/dagoret/.ipython', '/Users/dagoret/anaconda3/lib/python37.zip', '/Users/dagoret/anaconda3/lib/python3.7', '/Users/dagoret/anaconda3/lib/python3.7/lib-dynload', '', '/Users/dagoret/.local/lib/python3.7/site-packages', '/Users/dagoret/anaconda3/lib/python3.7/site-packages', '/Users/dagoret/anaconda3/lib/python3.7/site-packages/aeosa', '/Users/dagoret/anaconda3/lib/python3.7/site-packages/IPython/extensions', '/Users/dagoret/.ipython', '/Users/dagoret/anaconda3/lib/python37.zip', '/Users/dagoret/anaconda3/lib/python3.7', '/Users/dagoret/anaconda3/lib/python3.7/lib-dynload', '', '/Users/dagoret/.local/lib/python3.7/site-packages', '/Users/dagoret/anaconda3/lib/python3.7/site-packages', '/Users/dagoret/anaconda3/lib/python3.7/site-packages/aeosa', '/Users/dagoret/anaconda3/lib/python3.7/site-packages/IPython/extensions', '/Users/dagoret/.ipython']\n"
     ]
    }
   ],
   "source": [
    "import sys\n",
    "print(sys.path)"
   ]
  },
  {
   "cell_type": "markdown",
   "metadata": {},
   "source": [
    "### Specify my other python path (my installation)"
   ]
  },
  {
   "cell_type": "code",
   "execution_count": 348,
   "metadata": {},
   "outputs": [],
   "source": [
    "otherpythonpaths=['/Users/dagoret/anaconda3/lib/python37.zip', '/Users/dagoret/anaconda3/lib/python3.7', '/Users/dagoret/anaconda3/lib/python3.7/lib-dynload', '', '/Users/dagoret/.local/lib/python3.7/site-packages', '/Users/dagoret/anaconda3/lib/python3.7/site-packages', '/Users/dagoret/anaconda3/lib/python3.7/site-packages/aeosa', '/Users/dagoret/anaconda3/lib/python3.7/site-packages/IPython/extensions', '/Users/dagoret/.ipython']"
   ]
  },
  {
   "cell_type": "code",
   "execution_count": 349,
   "metadata": {},
   "outputs": [],
   "source": [
    "for thepath in otherpythonpaths:\n",
    "    sys.path.append(thepath) # go to parent dir"
   ]
  },
  {
   "cell_type": "code",
   "execution_count": 350,
   "metadata": {},
   "outputs": [
    {
     "name": "stdout",
     "output_type": "stream",
     "text": [
      "The autoreload extension is already loaded. To reload it, use:\n",
      "  %reload_ext autoreload\n"
     ]
    }
   ],
   "source": [
    "%load_ext autoreload\n",
    "%autoreload 2"
   ]
  },
  {
   "cell_type": "markdown",
   "metadata": {},
   "source": [
    "# Astronomy"
   ]
  },
  {
   "cell_type": "code",
   "execution_count": 351,
   "metadata": {},
   "outputs": [],
   "source": [
    "gindex=0 # SELECT LMC"
   ]
  },
  {
   "cell_type": "code",
   "execution_count": 352,
   "metadata": {},
   "outputs": [],
   "source": [
    "Galaxy_Name=[\"lmc\",\"smc\"]"
   ]
  },
  {
   "cell_type": "code",
   "execution_count": 353,
   "metadata": {},
   "outputs": [],
   "source": [
    "Galaxy_Delta_RA=[10.75,5.33]\n",
    "Galaxy_Delta_DEC=[9.17,3.083]"
   ]
  },
  {
   "cell_type": "code",
   "execution_count": 354,
   "metadata": {},
   "outputs": [],
   "source": [
    "GName=Galaxy_Name[gindex]\n",
    "galaxy_delta_ra=Galaxy_Delta_RA[gindex]\n",
    "galaxy_delta_dec=Galaxy_Delta_DEC[gindex]"
   ]
  },
  {
   "cell_type": "markdown",
   "metadata": {},
   "source": [
    "## astroquery"
   ]
  },
  {
   "cell_type": "code",
   "execution_count": 355,
   "metadata": {},
   "outputs": [],
   "source": [
    "import astroquery\n",
    "from astropy.coordinates import SkyCoord\n",
    "from astropy.coordinates import Angle"
   ]
  },
  {
   "cell_type": "code",
   "execution_count": 356,
   "metadata": {},
   "outputs": [
    {
     "name": "stdout",
     "output_type": "stream",
     "text": [
      "MAIN_ID      RA        DEC    ... COO_QUAL COO_WAVELENGTH     COO_BIBCODE    \n",
      "          \"h:m:s\"    \"d:m:s\"  ...                                            \n",
      "-------- ---------- --------- ... -------- -------------- -------------------\n",
      "NAME LMC 05 23 34.6 -69 45 22 ...        D              O 2003A&A...412...45P\n"
     ]
    }
   ],
   "source": [
    "from astroquery.simbad import Simbad\n",
    "result_table = Simbad.query_object(GName)\n",
    "result_table.pprint(show_unit=True)"
   ]
  },
  {
   "cell_type": "code",
   "execution_count": 357,
   "metadata": {},
   "outputs": [
    {
     "data": {
      "text/latex": [
       "$5^\\mathrm{h}23^\\mathrm{m}34.6^\\mathrm{s}$"
      ],
      "text/plain": [
       "<Angle 5.39294444 hourangle>"
      ]
     },
     "execution_count": 357,
     "metadata": {},
     "output_type": "execute_result"
    }
   ],
   "source": [
    "Angle(result_table[\"RA\"][0]+\" hour\")"
   ]
  },
  {
   "cell_type": "code",
   "execution_count": 358,
   "metadata": {},
   "outputs": [
    {
     "data": {
      "text/latex": [
       "$-69^\\circ45{}^\\prime22{}^{\\prime\\prime}$"
      ],
      "text/plain": [
       "<Angle -69.75611111 deg>"
      ]
     },
     "execution_count": 358,
     "metadata": {},
     "output_type": "execute_result"
    }
   ],
   "source": [
    "Angle(result_table[\"DEC\"][0]+\" degrees\")"
   ]
  },
  {
   "cell_type": "code",
   "execution_count": 359,
   "metadata": {},
   "outputs": [
    {
     "data": {
      "text/plain": [
       "<SkyCoord (ICRS): (ra, dec) in deg\n",
       "    (80.89416667, -69.75611111)>"
      ]
     },
     "execution_count": 359,
     "metadata": {},
     "output_type": "execute_result"
    }
   ],
   "source": [
    "galaxy_coord=SkyCoord(ra=result_table[\"RA\"][0]+\"hour\",dec=result_table[\"DEC\"][0]+ \"degrees\")\n",
    "galaxy_coord"
   ]
  },
  {
   "cell_type": "code",
   "execution_count": 360,
   "metadata": {},
   "outputs": [],
   "source": [
    "galaxy_ra=galaxy_coord.ra.deg\n",
    "galaxy_dec=galaxy_coord.dec.deg"
   ]
  },
  {
   "cell_type": "code",
   "execution_count": 361,
   "metadata": {},
   "outputs": [
    {
     "name": "stdout",
     "output_type": "stream",
     "text": [
      "80.89416666666666 -69.75611111111111\n"
     ]
    }
   ],
   "source": [
    "print(galaxy_ra,galaxy_dec)"
   ]
  },
  {
   "cell_type": "markdown",
   "metadata": {},
   "source": [
    "# Config"
   ]
  },
  {
   "cell_type": "markdown",
   "metadata": {},
   "source": [
    "## Database selection"
   ]
  },
  {
   "cell_type": "code",
   "execution_count": 362,
   "metadata": {},
   "outputs": [],
   "source": [
    "dbindex=5 # SELECT"
   ]
  },
  {
   "cell_type": "code",
   "execution_count": 363,
   "metadata": {},
   "outputs": [],
   "source": [
    "filters = ['u', 'g', 'r', 'i', 'z', 'y']\n",
    "colors = {'u': 'cyan', 'g': 'g', 'r': 'y','i': 'r', 'z': 'm', 'y': 'k'}\n",
    "Nfilt=len(filters)"
   ]
  },
  {
   "cell_type": "code",
   "execution_count": 364,
   "metadata": {},
   "outputs": [],
   "source": [
    "database=[\"baseline2018a.db\",\\\n",
    "          \"baseline_v1.5_10yrs.db\",\\\n",
    "          \"baseline_2snaps_v1.5_10yrs.db\",\\\n",
    "          \"rolling_nm_scale1.0_nslice2_v1.7_10yrs.db\",\\\n",
    "          \"rolling_nm_scale1.0_nslice3_v1.7_10yrs.db\",\\\n",
    "          \"rolling_scale0.2_nslice3_v1.7_10yrs.db\"\n",
    "         ]"
   ]
  },
  {
   "cell_type": "code",
   "execution_count": 365,
   "metadata": {},
   "outputs": [],
   "source": [
    "dbfileName=database[dbindex]"
   ]
  },
  {
   "cell_type": "code",
   "execution_count": 366,
   "metadata": {},
   "outputs": [],
   "source": [
    "dbtag=dbfileName.split(\".\")[0]"
   ]
  },
  {
   "cell_type": "code",
   "execution_count": 367,
   "metadata": {},
   "outputs": [
    {
     "data": {
      "text/plain": [
       "'rolling_scale0'"
      ]
     },
     "execution_count": 367,
     "metadata": {},
     "output_type": "execute_result"
    }
   ],
   "source": [
    "dbtag"
   ]
  },
  {
   "cell_type": "markdown",
   "metadata": {},
   "source": [
    "# Prepare access to database"
   ]
  },
  {
   "cell_type": "markdown",
   "metadata": {},
   "source": [
    "## SQL Selection"
   ]
  },
  {
   "cell_type": "code",
   "execution_count": 368,
   "metadata": {},
   "outputs": [],
   "source": [
    "raCol = 'fieldRA'\n",
    "decCol = 'fieldDec'"
   ]
  },
  {
   "cell_type": "code",
   "execution_count": 369,
   "metadata": {},
   "outputs": [],
   "source": [
    "sqlWhere = \\\n",
    "    'fieldRA < %f and ' \\\n",
    "    'fieldRA > %f and ' \\\n",
    "    'fieldDEC < %f and ' \\\n",
    "    'fieldDEC > %f  ' \\\n",
    "     % (galaxy_ra+ galaxy_delta_ra/2., galaxy_ra- galaxy_delta_ra/2.,galaxy_dec+galaxy_delta_dec/2.,galaxy_dec-galaxy_delta_dec/2)"
   ]
  },
  {
   "cell_type": "code",
   "execution_count": 370,
   "metadata": {},
   "outputs": [
    {
     "data": {
      "text/plain": [
       "'fieldRA < 86.269167 and fieldRA > 75.519167 and fieldDEC < -65.171111 and fieldDEC > -74.341111  '"
      ]
     },
     "execution_count": 370,
     "metadata": {},
     "output_type": "execute_result"
    }
   ],
   "source": [
    "sqlWhere"
   ]
  },
  {
   "cell_type": "markdown",
   "metadata": {},
   "source": [
    "## From Tristan"
   ]
  },
  {
   "cell_type": "code",
   "execution_count": 371,
   "metadata": {},
   "outputs": [],
   "source": [
    "RAMIN = 70.6 \n",
    "RAMAX = 91.2 \n",
    "DECMIN = -73.26 \n",
    "DECMAX =-66.26"
   ]
  },
  {
   "cell_type": "code",
   "execution_count": 372,
   "metadata": {},
   "outputs": [],
   "source": [
    "sqlWhere = \\\n",
    "    'fieldRA < %f and ' \\\n",
    "    'fieldRA > %f and ' \\\n",
    "    'fieldDEC < %f and ' \\\n",
    "    'fieldDEC > %f  ' \\\n",
    "     % (RAMAX, RAMIN,DECMAX,DECMIN)"
   ]
  },
  {
   "cell_type": "code",
   "execution_count": 373,
   "metadata": {},
   "outputs": [
    {
     "data": {
      "text/plain": [
       "'fieldRA < 91.200000 and fieldRA > 70.600000 and fieldDEC < -66.260000 and fieldDEC > -73.260000  '"
      ]
     },
     "execution_count": 373,
     "metadata": {},
     "output_type": "execute_result"
    }
   ],
   "source": [
    "sqlWhere"
   ]
  },
  {
   "cell_type": "markdown",
   "metadata": {},
   "source": [
    "## Metric"
   ]
  },
  {
   "cell_type": "code",
   "execution_count": 374,
   "metadata": {},
   "outputs": [],
   "source": [
    "dbfields=['observationId','night','observationStartMJD','fiveSigmaDepth','filter','airmass','skyBrightness','seeingFwhmEff','fieldId','fieldRA','fieldDec']"
   ]
  },
  {
   "cell_type": "code",
   "execution_count": 375,
   "metadata": {},
   "outputs": [],
   "source": [
    "# This is very important to have the field number\n",
    "metric=metrics.PassMetric(cols=dbfields)"
   ]
  },
  {
   "cell_type": "markdown",
   "metadata": {},
   "source": [
    "##  Database to open"
   ]
  },
  {
   "cell_type": "code",
   "execution_count": 376,
   "metadata": {},
   "outputs": [],
   "source": [
    "opsdb = db.OpsimDatabase('/Users/dagoret/DATA/Cadence/'+dbfileName)\n",
    "outDir = 'output_galaxycadence'\n",
    "resultsDb = db.ResultsDb(outDir=outDir)"
   ]
  },
  {
   "cell_type": "markdown",
   "metadata": {},
   "source": [
    "## Slicer"
   ]
  },
  {
   "cell_type": "code",
   "execution_count": 377,
   "metadata": {},
   "outputs": [
    {
     "name": "stdout",
     "output_type": "stream",
     "text": [
      "Healpix slicer using NSIDE=512, approximate resolution 6.870973 arcminutes\n"
     ]
    }
   ],
   "source": [
    "slicer_uni=slicers.UniSlicer()\n",
    "slicer_point = slicers.UserPointsSlicer(galaxy_ra, galaxy_dec, lonCol='fieldRA', latCol='fieldDec', latLonDeg='degrees')\n",
    "nside = 512\n",
    "slicer_heal = slicers.HealpixSlicer(nside=nside, lonCol=raCol, latCol=decCol)"
   ]
  },
  {
   "cell_type": "markdown",
   "metadata": {},
   "source": [
    "# Run"
   ]
  },
  {
   "cell_type": "markdown",
   "metadata": {},
   "source": [
    "## Bundle\n",
    "\n",
    "- Bundles dict for all filter"
   ]
  },
  {
   "cell_type": "code",
   "execution_count": 378,
   "metadata": {},
   "outputs": [
    {
     "name": "stdout",
     "output_type": "stream",
     "text": [
      "{'fieldRA', 'fieldDec', 'fieldId', 'seeingFwhmEff', 'night', 'observationStartMJD', 'fiveSigmaDepth', 'airmass', 'filter', 'skyBrightness', 'observationId'}\n"
     ]
    }
   ],
   "source": [
    "bundles = {}\n",
    "bundles[GName] = metricBundles.MetricBundle(metric, slicer_uni, sqlWhere)\n",
    "print(bundles[GName].dbCols)"
   ]
  },
  {
   "cell_type": "code",
   "execution_count": 379,
   "metadata": {},
   "outputs": [],
   "source": [
    "bgroup = metricBundles.MetricBundleGroup(bundles, opsdb, outDir=outDir,resultsDb=resultsDb)"
   ]
  },
  {
   "cell_type": "code",
   "execution_count": 380,
   "metadata": {
    "scrolled": false
   },
   "outputs": [
    {
     "name": "stdout",
     "output_type": "stream",
     "text": [
      "Querying database SummaryAllProps with constraint fieldRA < 91.200000 and fieldRA > 70.600000 and fieldDEC < -66.260000 and fieldDEC > -73.260000   for columns ['fieldRA', 'fieldDec', 'fieldId', 'seeingFwhmEff', 'night', 'observationStartMJD', 'fiveSigmaDepth', 'airmass', 'filter', 'skyBrightness', 'observationId']\n",
      "Found 1311 visits\n",
      "Running:  ['lmc']\n",
      "Completed metric generation.\n",
      "Running reduce methods.\n",
      "Running summary statistics.\n",
      "Completed.\n",
      "Plotting figures with \"fieldRA < 91.200000 and fieldRA > 70.600000 and fieldDEC < -66.260000 and fieldDEC > -73.260000  \" constraint now.\n",
      "Plotting complete.\n"
     ]
    },
    {
     "name": "stderr",
     "output_type": "stream",
     "text": [
      "/cvmfs/sw.lsst.eu/darwin-x86_64/lsst_sims/sims_w_2021_14/stack/miniconda3-py38_4.9.2-0.4.3/DarwinX86/sims_maf/2.13.0.sims-93-g8bc2eb33+a14e41332a/python/lsst/sims/maf/db/resultsDb.py:279: UserWarning: Warning! Cannot save non-conforming summary statistic.\n",
      "  warnings.warn('Warning! Cannot save non-conforming summary statistic.')\n"
     ]
    }
   ],
   "source": [
    "bgroup.runAll()\n",
    "bgroup.plotAll(closefigs=False)"
   ]
  },
  {
   "cell_type": "code",
   "execution_count": 381,
   "metadata": {},
   "outputs": [
    {
     "name": "stdout",
     "output_type": "stream",
     "text": [
      "{'fieldRA', 'fieldDec', 'fieldId', 'seeingFwhmEff', 'night', 'observationStartMJD', 'fiveSigmaDepth', 'airmass', 'filter', 'skyBrightness', 'observationId'}\n"
     ]
    }
   ],
   "source": [
    "print(bundles[GName].dbCols)"
   ]
  },
  {
   "cell_type": "code",
   "execution_count": 382,
   "metadata": {},
   "outputs": [
    {
     "name": "stdout",
     "output_type": "stream",
     "text": [
      "1311\n"
     ]
    }
   ],
   "source": [
    "print(len(bundles[GName].metricValues[0]))"
   ]
  },
  {
   "cell_type": "markdown",
   "metadata": {},
   "source": [
    "# Output"
   ]
  },
  {
   "cell_type": "code",
   "execution_count": 383,
   "metadata": {},
   "outputs": [],
   "source": [
    "version=\"extr_v1\""
   ]
  },
  {
   "cell_type": "code",
   "execution_count": 384,
   "metadata": {},
   "outputs": [],
   "source": [
    "pdfilename=\"cadence_\"+ GName + \"_\" + dbtag + \"_\" + version + \".csv\""
   ]
  },
  {
   "cell_type": "code",
   "execution_count": 385,
   "metadata": {},
   "outputs": [
    {
     "data": {
      "text/plain": [
       "'cadence_lmc_rolling_scale0_extr_v1.csv'"
      ]
     },
     "execution_count": 385,
     "metadata": {},
     "output_type": "execute_result"
    }
   ],
   "source": [
    "pdfilename"
   ]
  },
  {
   "cell_type": "code",
   "execution_count": 386,
   "metadata": {},
   "outputs": [],
   "source": [
    "df  = pd.DataFrame()"
   ]
  },
  {
   "cell_type": "code",
   "execution_count": 387,
   "metadata": {},
   "outputs": [],
   "source": [
    "N=len(dbfields)"
   ]
  },
  {
   "cell_type": "code",
   "execution_count": 388,
   "metadata": {},
   "outputs": [],
   "source": [
    "for index in np.arange(N):\n",
    "    fieldname=dbfields[index]\n",
    "    data=bundles[GName].metricValues[0][fieldname]\n",
    "    df[fieldname]=data"
   ]
  },
  {
   "cell_type": "code",
   "execution_count": 389,
   "metadata": {},
   "outputs": [
    {
     "data": {
      "text/html": [
       "<div>\n",
       "<style scoped>\n",
       "    .dataframe tbody tr th:only-of-type {\n",
       "        vertical-align: middle;\n",
       "    }\n",
       "\n",
       "    .dataframe tbody tr th {\n",
       "        vertical-align: top;\n",
       "    }\n",
       "\n",
       "    .dataframe thead th {\n",
       "        text-align: right;\n",
       "    }\n",
       "</style>\n",
       "<table border=\"1\" class=\"dataframe\">\n",
       "  <thead>\n",
       "    <tr style=\"text-align: right;\">\n",
       "      <th></th>\n",
       "      <th>observationId</th>\n",
       "      <th>night</th>\n",
       "      <th>observationStartMJD</th>\n",
       "      <th>fiveSigmaDepth</th>\n",
       "      <th>filter</th>\n",
       "      <th>airmass</th>\n",
       "      <th>skyBrightness</th>\n",
       "      <th>seeingFwhmEff</th>\n",
       "      <th>fieldId</th>\n",
       "      <th>fieldRA</th>\n",
       "      <th>fieldDec</th>\n",
       "    </tr>\n",
       "  </thead>\n",
       "  <tbody>\n",
       "    <tr>\n",
       "      <th>0</th>\n",
       "      <td>2788</td>\n",
       "      <td>4</td>\n",
       "      <td>59857.372150</td>\n",
       "      <td>22.135859</td>\n",
       "      <td>y</td>\n",
       "      <td>1.285771</td>\n",
       "      <td>18.369527</td>\n",
       "      <td>0.870150</td>\n",
       "      <td>-1</td>\n",
       "      <td>81.931712</td>\n",
       "      <td>-69.094794</td>\n",
       "    </tr>\n",
       "    <tr>\n",
       "      <th>1</th>\n",
       "      <td>2789</td>\n",
       "      <td>4</td>\n",
       "      <td>59857.372603</td>\n",
       "      <td>22.135031</td>\n",
       "      <td>y</td>\n",
       "      <td>1.327240</td>\n",
       "      <td>18.318414</td>\n",
       "      <td>0.846100</td>\n",
       "      <td>-1</td>\n",
       "      <td>77.179586</td>\n",
       "      <td>-71.354700</td>\n",
       "    </tr>\n",
       "    <tr>\n",
       "      <th>2</th>\n",
       "      <td>2790</td>\n",
       "      <td>4</td>\n",
       "      <td>59857.373052</td>\n",
       "      <td>22.185094</td>\n",
       "      <td>y</td>\n",
       "      <td>1.276681</td>\n",
       "      <td>18.352536</td>\n",
       "      <td>0.826612</td>\n",
       "      <td>-1</td>\n",
       "      <td>73.226252</td>\n",
       "      <td>-68.599593</td>\n",
       "    </tr>\n",
       "    <tr>\n",
       "      <th>3</th>\n",
       "      <td>2791</td>\n",
       "      <td>4</td>\n",
       "      <td>59857.373503</td>\n",
       "      <td>22.226043</td>\n",
       "      <td>y</td>\n",
       "      <td>1.238969</td>\n",
       "      <td>18.384254</td>\n",
       "      <td>0.811874</td>\n",
       "      <td>-1</td>\n",
       "      <td>77.842629</td>\n",
       "      <td>-66.428590</td>\n",
       "    </tr>\n",
       "    <tr>\n",
       "      <th>4</th>\n",
       "      <td>3598</td>\n",
       "      <td>5</td>\n",
       "      <td>59858.343894</td>\n",
       "      <td>22.184296</td>\n",
       "      <td>y</td>\n",
       "      <td>1.337607</td>\n",
       "      <td>18.280521</td>\n",
       "      <td>0.793993</td>\n",
       "      <td>-1</td>\n",
       "      <td>71.700652</td>\n",
       "      <td>-71.812836</td>\n",
       "    </tr>\n",
       "    <tr>\n",
       "      <th>...</th>\n",
       "      <td>...</td>\n",
       "      <td>...</td>\n",
       "      <td>...</td>\n",
       "      <td>...</td>\n",
       "      <td>...</td>\n",
       "      <td>...</td>\n",
       "      <td>...</td>\n",
       "      <td>...</td>\n",
       "      <td>...</td>\n",
       "      <td>...</td>\n",
       "      <td>...</td>\n",
       "    </tr>\n",
       "    <tr>\n",
       "      <th>1306</th>\n",
       "      <td>1890799</td>\n",
       "      <td>3411</td>\n",
       "      <td>63264.080365</td>\n",
       "      <td>24.321436</td>\n",
       "      <td>g</td>\n",
       "      <td>1.281804</td>\n",
       "      <td>22.139102</td>\n",
       "      <td>1.230974</td>\n",
       "      <td>-1</td>\n",
       "      <td>86.991217</td>\n",
       "      <td>-68.931094</td>\n",
       "    </tr>\n",
       "    <tr>\n",
       "      <th>1307</th>\n",
       "      <td>1895925</td>\n",
       "      <td>3419</td>\n",
       "      <td>63272.059658</td>\n",
       "      <td>23.246838</td>\n",
       "      <td>u</td>\n",
       "      <td>1.278964</td>\n",
       "      <td>22.613479</td>\n",
       "      <td>1.213124</td>\n",
       "      <td>-1</td>\n",
       "      <td>84.004985</td>\n",
       "      <td>-68.630787</td>\n",
       "    </tr>\n",
       "    <tr>\n",
       "      <th>1308</th>\n",
       "      <td>1895926</td>\n",
       "      <td>3419</td>\n",
       "      <td>63272.060121</td>\n",
       "      <td>23.275625</td>\n",
       "      <td>u</td>\n",
       "      <td>1.254773</td>\n",
       "      <td>22.636920</td>\n",
       "      <td>1.199304</td>\n",
       "      <td>-1</td>\n",
       "      <td>90.722595</td>\n",
       "      <td>-67.403802</td>\n",
       "    </tr>\n",
       "    <tr>\n",
       "      <th>1309</th>\n",
       "      <td>1895958</td>\n",
       "      <td>3419</td>\n",
       "      <td>63272.076411</td>\n",
       "      <td>24.105331</td>\n",
       "      <td>g</td>\n",
       "      <td>1.287915</td>\n",
       "      <td>22.136049</td>\n",
       "      <td>1.498725</td>\n",
       "      <td>-1</td>\n",
       "      <td>84.004985</td>\n",
       "      <td>-68.630787</td>\n",
       "    </tr>\n",
       "    <tr>\n",
       "      <th>1310</th>\n",
       "      <td>1895959</td>\n",
       "      <td>3419</td>\n",
       "      <td>63272.076873</td>\n",
       "      <td>24.139830</td>\n",
       "      <td>g</td>\n",
       "      <td>1.257539</td>\n",
       "      <td>22.170194</td>\n",
       "      <td>1.477415</td>\n",
       "      <td>-1</td>\n",
       "      <td>90.722595</td>\n",
       "      <td>-67.403802</td>\n",
       "    </tr>\n",
       "  </tbody>\n",
       "</table>\n",
       "<p>1311 rows × 11 columns</p>\n",
       "</div>"
      ],
      "text/plain": [
       "      observationId  night  observationStartMJD  fiveSigmaDepth filter  \\\n",
       "0              2788      4         59857.372150       22.135859      y   \n",
       "1              2789      4         59857.372603       22.135031      y   \n",
       "2              2790      4         59857.373052       22.185094      y   \n",
       "3              2791      4         59857.373503       22.226043      y   \n",
       "4              3598      5         59858.343894       22.184296      y   \n",
       "...             ...    ...                  ...             ...    ...   \n",
       "1306        1890799   3411         63264.080365       24.321436      g   \n",
       "1307        1895925   3419         63272.059658       23.246838      u   \n",
       "1308        1895926   3419         63272.060121       23.275625      u   \n",
       "1309        1895958   3419         63272.076411       24.105331      g   \n",
       "1310        1895959   3419         63272.076873       24.139830      g   \n",
       "\n",
       "       airmass  skyBrightness  seeingFwhmEff  fieldId    fieldRA   fieldDec  \n",
       "0     1.285771      18.369527       0.870150       -1  81.931712 -69.094794  \n",
       "1     1.327240      18.318414       0.846100       -1  77.179586 -71.354700  \n",
       "2     1.276681      18.352536       0.826612       -1  73.226252 -68.599593  \n",
       "3     1.238969      18.384254       0.811874       -1  77.842629 -66.428590  \n",
       "4     1.337607      18.280521       0.793993       -1  71.700652 -71.812836  \n",
       "...        ...            ...            ...      ...        ...        ...  \n",
       "1306  1.281804      22.139102       1.230974       -1  86.991217 -68.931094  \n",
       "1307  1.278964      22.613479       1.213124       -1  84.004985 -68.630787  \n",
       "1308  1.254773      22.636920       1.199304       -1  90.722595 -67.403802  \n",
       "1309  1.287915      22.136049       1.498725       -1  84.004985 -68.630787  \n",
       "1310  1.257539      22.170194       1.477415       -1  90.722595 -67.403802  \n",
       "\n",
       "[1311 rows x 11 columns]"
      ]
     },
     "execution_count": 389,
     "metadata": {},
     "output_type": "execute_result"
    }
   ],
   "source": [
    "df"
   ]
  },
  {
   "cell_type": "code",
   "execution_count": 390,
   "metadata": {},
   "outputs": [],
   "source": [
    "df.to_csv(pdfilename)"
   ]
  },
  {
   "cell_type": "code",
   "execution_count": 391,
   "metadata": {},
   "outputs": [
    {
     "name": "stdout",
     "output_type": "stream",
     "text": [
      "total 1984\r\n",
      "-rw-r--r--  1 dagoret  staff  197486 Apr  1 22:03 cadence_lmc_rolling_scale0_extr_v1.csv\r\n",
      "drwxr-xr-x  5 dagoret  staff     160 Apr  1 22:03 \u001b[1m\u001b[31moutput_galaxycadence\u001b[m\u001b[m\r\n",
      "-rw-r--r--@ 1 dagoret  staff   40572 Apr  1 22:03 DumpLMCCadence.ipynb\r\n",
      "-rw-r--r--  1 dagoret  staff  185700 Apr  1 22:02 cadence_lmc_rolling_nm_scale1_extr_v1.csv\r\n",
      "-rw-r--r--@ 1 dagoret  staff   39394 Apr  1 22:02 ExtractLMCCadence.ipynb\r\n",
      "-rw-r--r--  1 dagoret  staff  193420 Apr  1 21:20 cadence_lmc_baseline_2snaps_v1_extr_v1.csv\r\n",
      "-rw-r--r--  1 dagoret  staff  197231 Apr  1 21:18 cadence_lmc_baseline_v1_extr_v1.csv\r\n",
      "-rw-r--r--  1 dagoret  staff  103980 Apr  1 21:12 cadence_lmc_baseline2018a_extr_v1.csv\r\n"
     ]
    }
   ],
   "source": [
    "!ls -l -t"
   ]
  },
  {
   "cell_type": "code",
   "execution_count": null,
   "metadata": {},
   "outputs": [],
   "source": []
  }
 ],
 "metadata": {
  "kernelspec": {
   "display_name": "lsst_sims",
   "language": "python",
   "name": "lsst_sims"
  },
  "language_info": {
   "codemirror_mode": {
    "name": "ipython",
    "version": 3
   },
   "file_extension": ".py",
   "mimetype": "text/x-python",
   "name": "python",
   "nbconvert_exporter": "python",
   "pygments_lexer": "ipython3",
   "version": "3.8.8"
  },
  "toc": {
   "base_numbering": 1,
   "nav_menu": {},
   "number_sections": true,
   "sideBar": true,
   "skip_h1_title": false,
   "title_cell": "Table of Contents",
   "title_sidebar": "Contents",
   "toc_cell": false,
   "toc_position": {},
   "toc_section_display": true,
   "toc_window_display": false
  }
 },
 "nbformat": 4,
 "nbformat_minor": 4
}
